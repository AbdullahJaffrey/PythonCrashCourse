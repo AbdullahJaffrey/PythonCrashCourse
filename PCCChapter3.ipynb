{
 "cells": [
  {
   "cell_type": "markdown",
   "id": "37c4bd31",
   "metadata": {},
   "source": [
    "### List:\n",
    "\n",
    "a set of items in a particular sequence.\n"
   ]
  },
  {
   "cell_type": "code",
   "execution_count": 1,
   "id": "dd2be7dc",
   "metadata": {},
   "outputs": [
    {
     "name": "stdout",
     "output_type": "stream",
     "text": [
      "['Abdullah', 'Noah', 'Haroon']\n"
     ]
    }
   ],
   "source": [
    "family = ['Abdullah', 'Noah', 'Haroon']\n",
    "print(family)"
   ]
  },
  {
   "cell_type": "markdown",
   "id": "7c381923",
   "metadata": {},
   "source": [
    "#### Accessing Elements in a List\n"
   ]
  },
  {
   "cell_type": "code",
   "execution_count": 2,
   "id": "73720c23",
   "metadata": {},
   "outputs": [
    {
     "data": {
      "text/plain": [
       "'Abdullah'"
      ]
     },
     "execution_count": 2,
     "metadata": {},
     "output_type": "execute_result"
    }
   ],
   "source": [
    "family[0]"
   ]
  },
  {
   "cell_type": "markdown",
   "id": "bde5353e",
   "metadata": {},
   "source": [
    "#### Index Positions Start at 0, Not 1\n"
   ]
  },
  {
   "cell_type": "raw",
   "id": "2139fc71",
   "metadata": {},
   "source": [
    "            0           1       2\n",
    "\n",
    "family = ['Abdullah', 'Noah', 'Haroon']\n",
    "           \n",
    "            -3          -2      -1"
   ]
  },
  {
   "cell_type": "markdown",
   "id": "8ff2faa9",
   "metadata": {},
   "source": [
    "#### Using Individual Values from a List"
   ]
  },
  {
   "cell_type": "code",
   "execution_count": 3,
   "id": "f0f191be",
   "metadata": {},
   "outputs": [
    {
     "name": "stdout",
     "output_type": "stream",
     "text": [
      "Hi there, My name is Abdullah\n"
     ]
    }
   ],
   "source": [
    "print (f\"Hi there, My name is {family[0]}\")"
   ]
  },
  {
   "cell_type": "markdown",
   "id": "9b995655",
   "metadata": {},
   "source": [
    "#### Try It Yourself\n",
    "\n",
    "Try these short programs to get some firsthand experience with Python’s lists.\n",
    "You might want to create a new folder for each chapter’s exercises to keep\n",
    "them organized.\n",
    "\n",
    "3-1. Names: Store the names of a few of your friends in a list called names. Print each person’s name by accessing each element in the list, one at a time.\n",
    "\n",
    "3-2. Greetings: Start with the list you used in Exercise 3-1, but instead of just printing each person’s name, print a message to them. The text of each message should be the same, but each message should be personalized with the\n",
    "person’s name.\n",
    "\n",
    "3-3. Your Own List: Think of your favorite mode of transportation, such as a motorcycle or a car, and make a list that stores several examples. Use your list to print a series of statements about these items, such as “I would like to own a Honda motorcycle.”"
   ]
  },
  {
   "cell_type": "code",
   "execution_count": 4,
   "id": "4695576a",
   "metadata": {},
   "outputs": [
    {
     "name": "stdout",
     "output_type": "stream",
     "text": [
      "Abdullah\n",
      "Noah\n",
      "Haroon\n"
     ]
    }
   ],
   "source": [
    "#3.1\n",
    "names = ['Abdullah', 'Noah', 'Haroon']\n",
    "print(names[0])\n",
    "print(names[1])\n",
    "print(names[2])"
   ]
  },
  {
   "cell_type": "code",
   "execution_count": 5,
   "id": "a3ec81f2",
   "metadata": {},
   "outputs": [
    {
     "name": "stdout",
     "output_type": "stream",
     "text": [
      "Hi there, My name is Abdullah\n",
      "Hi there, My name is Noah\n",
      "Hi there, My name is Haroon\n"
     ]
    }
   ],
   "source": [
    "#3.2 \n",
    "print (f\"Hi there, My name is {names[0]}\")\n",
    "print (f\"Hi there, My name is {names[1]}\")\n",
    "print (f\"Hi there, My name is {names[2]}\")"
   ]
  },
  {
   "cell_type": "code",
   "execution_count": 6,
   "id": "205c7bbb",
   "metadata": {},
   "outputs": [
    {
     "name": "stdout",
     "output_type": "stream",
     "text": [
      "“I would like to own a Honda Motocyle”\n",
      "“I would like to own a Volvo Car”\n"
     ]
    }
   ],
   "source": [
    "#3.3\n",
    "\n",
    "vehicle = ['Honda Motocyle', 'Volvo Car']\n",
    "print(f\"“I would like to own a {vehicle[0]}”\")\n",
    "print(f\"“I would like to own a {vehicle[1]}”\")"
   ]
  },
  {
   "cell_type": "markdown",
   "id": "51720564",
   "metadata": {},
   "source": [
    "### Modifying(Changing), Adding, and Removing Elements in a List\n"
   ]
  },
  {
   "cell_type": "markdown",
   "id": "5e0c16d5",
   "metadata": {},
   "source": [
    "#### Modifying:"
   ]
  },
  {
   "cell_type": "code",
   "execution_count": 7,
   "id": "2a24a31a",
   "metadata": {},
   "outputs": [
    {
     "name": "stdout",
     "output_type": "stream",
     "text": [
      "['Abdullah', 'Noah', 'Haroon']\n",
      "['abdullah', 'Noah', 'Haroon']\n",
      "['Uzair', 'Noah', 'Haroon']\n"
     ]
    }
   ],
   "source": [
    "print(names)\n",
    "#Modifying with a little change\n",
    "names[0] = 'abdullah'\n",
    "print(names)\n",
    "#Completely changing the value\n",
    "names[0] = 'Uzair'\n",
    "print(names)"
   ]
  },
  {
   "cell_type": "markdown",
   "id": "bbfde468",
   "metadata": {},
   "source": [
    "#### Adding:\n",
    "\n",
    "* By .append() function\n",
    "* By .insert() function"
   ]
  },
  {
   "cell_type": "code",
   "execution_count": 8,
   "id": "851b5851",
   "metadata": {},
   "outputs": [
    {
     "name": "stdout",
     "output_type": "stream",
     "text": [
      "['Uzair', 'Noah', 'Haroon', 'Munis']\n"
     ]
    }
   ],
   "source": [
    "names.append('Munis')\n",
    "print(names)"
   ]
  },
  {
   "cell_type": "code",
   "execution_count": 9,
   "id": "9ddd2959",
   "metadata": {},
   "outputs": [
    {
     "name": "stdout",
     "output_type": "stream",
     "text": [
      "['Uzair', 'Noah', 'Haroon', 'Shehreyar', 'Munis']\n"
     ]
    }
   ],
   "source": [
    "names.insert(3, \"Shehreyar\")\n",
    "print(names)"
   ]
  },
  {
   "cell_type": "markdown",
   "id": "6233082a",
   "metadata": {},
   "source": [
    "#### Removing:\n",
    "\n",
    "* By .remove() function\n",
    "* By del function\n",
    "* By .pop() function\n"
   ]
  },
  {
   "cell_type": "code",
   "execution_count": 10,
   "id": "96143afc",
   "metadata": {},
   "outputs": [
    {
     "name": "stdout",
     "output_type": "stream",
     "text": [
      "['Uzair', 'Noah', 'Haroon', 'Munis']\n"
     ]
    }
   ],
   "source": [
    "names.remove('Shehreyar')\n",
    "print(names)"
   ]
  },
  {
   "cell_type": "code",
   "execution_count": 11,
   "id": "b202f6a2",
   "metadata": {},
   "outputs": [
    {
     "name": "stdout",
     "output_type": "stream",
     "text": [
      "['Uzair', 'Noah', 'Haroon']\n"
     ]
    }
   ],
   "source": [
    "del names[3]\n",
    "print(names)"
   ]
  },
  {
   "cell_type": "code",
   "execution_count": 12,
   "id": "ca0b9187",
   "metadata": {},
   "outputs": [
    {
     "name": "stdout",
     "output_type": "stream",
     "text": [
      "['Uzair', 'Noah']\n"
     ]
    }
   ],
   "source": [
    "names.pop()\n",
    "print(names)"
   ]
  },
  {
   "cell_type": "markdown",
   "id": "a0a14eb9",
   "metadata": {},
   "source": [
    "#### Popping Items from any Position in a List"
   ]
  },
  {
   "cell_type": "code",
   "execution_count": 13,
   "id": "b9eb7542",
   "metadata": {},
   "outputs": [
    {
     "name": "stdout",
     "output_type": "stream",
     "text": [
      "['Noah']\n"
     ]
    }
   ],
   "source": [
    "names.pop(0)\n",
    "print(names)"
   ]
  },
  {
   "cell_type": "markdown",
   "id": "f2bc2f40",
   "metadata": {},
   "source": [
    "#### Removing an Item by Value\n"
   ]
  },
  {
   "cell_type": "code",
   "execution_count": 14,
   "id": "4397343a",
   "metadata": {},
   "outputs": [
    {
     "name": "stdout",
     "output_type": "stream",
     "text": [
      "[]\n"
     ]
    }
   ],
   "source": [
    "name = 'Noah'\n",
    "names.remove(name)\n",
    "print(names)"
   ]
  },
  {
   "cell_type": "markdown",
   "id": "092584a6",
   "metadata": {},
   "source": [
    "## Try It Yourself \n",
    "\n",
    "The following exercises are a bit more complex than those in Chapter 2, but they give you an opportunity to use lists in all of the ways described.\n",
    "\n",
    "<strong>3-4.</strong> \n",
    "\n",
    "Guest List: If you could invite anyone, living or deceased, to dinner, who\n",
    "would you invite? Make a list that includes at least three people you’d like to\n",
    "invite to dinner. Then use your list to print a message to each person, inviting\n",
    "them to dinner.\n",
    "\n",
    "<strong>  3-5. </strong> \n",
    "\n",
    "Changing Guest List: You just heard that one of your guests can’t make the\n",
    "dinner, so you need to send out a new set of invitations. You’ll have to think of\n",
    "someone else to invite.\n",
    "\n",
    "•\t Start with your program from Exercise 3-4. Add a print statement at the\n",
    "end of your program stating the name of the guest who can’t make it.\n",
    "\n",
    "•\t Modify your list, replacing the name of the guest who can’t make it with\n",
    "the name of the new person you are inviting.\n",
    "\n",
    "•\t Print a second set of invitation messages, one for each person who is still\n",
    "in your list.\n",
    "\n",
    "<strong>  3-6. </strong> \n",
    "\n",
    "More Guests: You just found a bigger dinner table, so now more space is\n",
    "available. Think of three more guests to invite to dinner.\n",
    "\n",
    "•\t Start with your program from Exercise 3-4 or Exercise 3-5. Add a print\n",
    "statement to the end of your program informing people that you found a\n",
    "bigger dinner table.\n",
    "\n",
    "•\t Use insert() to add one new guest to the beginning of your list.\n",
    "\n",
    "•\t Use insert() to add one new guest to the middle of your list.\n",
    "\n",
    "•\t Use append() to add one new guest to the end of your list.\n",
    "\n",
    "•\t Print a new set of invitation messages, one for each person in your list.\n",
    "\n",
    "\n",
    "<strong>  3-7. </strong> \n",
    "\n",
    "Shrinking Guest List: You just found out that your new dinner table won’t\n",
    "arrive in time for the dinner, and you have space for only two guests.\n",
    "\n",
    "•\t Start with your program from Exercise 3-6. Add a new line that prints a\n",
    "message saying that you can invite only two people for dinner.\n",
    "\n",
    "•\t Use pop() to remove guests from your list one at a time until only two\n",
    "names remain in your list. Each time you pop a name from your list, print\n",
    "a message to that person letting them know you’re sorry you can’t invite\n",
    "them to dinner.\n",
    "\n",
    "•\t Print a message to each of the two people still on your list, letting them\n",
    "know they’re still invited.\n",
    "\n",
    "•\t Use del to remove the last two names from your list, so you have an empty\n",
    "list. Print your list to make sure you actually have an empty list at the end\n",
    "of your program."
   ]
  },
  {
   "cell_type": "code",
   "execution_count": 15,
   "id": "087d5c54",
   "metadata": {},
   "outputs": [
    {
     "name": "stdout",
     "output_type": "stream",
     "text": [
      "We invited you Uzair for our family dinner\n",
      "We invited you Noah for our family dinner\n",
      "We invited you Haroon for our family dinner\n",
      "We invited you Munis for our family dinner\n"
     ]
    }
   ],
   "source": [
    "#3.4\n",
    "\n",
    "guest = ['Uzair','Noah', 'Haroon', 'Munis']\n",
    "print(f'We invited you {guest[0]} for our family dinner')\n",
    "print(f'We invited you {guest[1]} for our family dinner')\n",
    "print(f'We invited you {guest[2]} for our family dinner')\n",
    "print(f'We invited you {guest[3]} for our family dinner')"
   ]
  },
  {
   "cell_type": "code",
   "execution_count": 16,
   "id": "5b05ff4c",
   "metadata": {},
   "outputs": [
    {
     "name": "stdout",
     "output_type": "stream",
     "text": [
      "['Uzair', 'Noah', 'Haroon', 'Munis']\n",
      "Unfortunately Uzair is not coming for our family dinner\n",
      "['Bisma', 'Noah', 'Haroon', 'Munis']\n",
      "We invited you Bisma for our family dinner\n",
      "We invited you Noah for our family dinner\n",
      "We invited you Haroon for our family dinner\n",
      "We invited you Munis for our family dinner\n"
     ]
    }
   ],
   "source": [
    "#3.5\n",
    "print(guest)\n",
    "guest = ['Uzair','Noah', 'Haroon', 'Munis']\n",
    "print(f'Unfortunately {guest[0]} is not coming for our family dinner')\n",
    "\n",
    "\n",
    "guest[0]= 'Bisma'\n",
    "print(guest)\n",
    "\n",
    "print(f'We invited you {guest[0]} for our family dinner')\n",
    "print(f'We invited you {guest[1]} for our family dinner')\n",
    "print(f'We invited you {guest[2]} for our family dinner')\n",
    "print(f'We invited you {guest[3]} for our family dinner')"
   ]
  },
  {
   "cell_type": "code",
   "execution_count": 17,
   "id": "6e576ce0",
   "metadata": {},
   "outputs": [
    {
     "name": "stdout",
     "output_type": "stream",
     "text": [
      "['Usra', 'Bisma', 'Yasmeen', 'Noah', 'Haroon', 'Munis', 'Abigel']\n",
      "We invited you Usra for our family dinner\n",
      "We invited you Bisma for our family dinner\n",
      "We invited you Yasmeen for our family dinner\n",
      "We invited you Noah for our family dinner\n",
      "We invited you Haroon for our family dinner\n",
      "We invited you Munis for our family dinner\n",
      "We invited you Abigel for our family dinner\n",
      "we have found a bigger dinner table for everybody.\n"
     ]
    }
   ],
   "source": [
    "#3.6\n",
    "\n",
    "guest.insert(0,'Usra')\n",
    "guest.insert(2, 'Yasmeen')\n",
    "guest.append('Abigel')\n",
    "print(guest)\n",
    "\n",
    "\n",
    "print(f'We invited you {guest[0]} for our family dinner')\n",
    "print(f'We invited you {guest[1]} for our family dinner')\n",
    "print(f'We invited you {guest[2]} for our family dinner')\n",
    "print(f'We invited you {guest[3]} for our family dinner')\n",
    "print(f'We invited you {guest[4]} for our family dinner')\n",
    "print(f'We invited you {guest[5]} for our family dinner')\n",
    "print(f'We invited you {guest[6]} for our family dinner')\n",
    "\n",
    "print('we have found a bigger dinner table for everybody.')"
   ]
  },
  {
   "cell_type": "code",
   "execution_count": 18,
   "id": "7c4e53a0",
   "metadata": {},
   "outputs": [
    {
     "name": "stdout",
     "output_type": "stream",
     "text": [
      "Sorry Abigel, due to the shortage of space, we called you off!\n",
      "Sorry Munis, due to the shortage of space, we called you off!\n",
      "Sorry Haroon, due to the shortage of space, we called you off!\n",
      "Sorry Noah, due to the shortage of space, we called you off!\n",
      "Sorry Yasmeen, due to the shortage of space, we called you off!\n",
      "['Usra', 'Bisma']\n",
      "['Usra']\n",
      "[]\n"
     ]
    }
   ],
   "source": [
    "#3.7\n",
    "guest7 = ['Usra', 'Bisma', 'Yasmeen', 'Noah', 'Haroon', 'Munis', 'Abigel']\n",
    "\n",
    "print(f'Sorry {guest7[-1]}, due to the shortage of space, we called you off!')\n",
    "guest7.pop(-1)\n",
    "\n",
    "print(f'Sorry {guest7[-1]}, due to the shortage of space, we called you off!')\n",
    "guest7.pop(-1)\n",
    "\n",
    "print(f'Sorry {guest7[-1]}, due to the shortage of space, we called you off!')\n",
    "guest7.pop(-1)\n",
    "\n",
    "print(f'Sorry {guest7[-1]}, due to the shortage of space, we called you off!')\n",
    "guest7.pop(-1)\n",
    "\n",
    "print(f'Sorry {guest7[-1]}, due to the shortage of space, we called you off!')\n",
    "guest7.pop(-1)\n",
    "\n",
    "print(guest7)\n",
    "\n",
    "del guest7[-1]\n",
    "print(guest7)\n",
    "\n",
    "\n",
    "del guest7[-1]\n",
    "\n",
    "print(guest7)"
   ]
  },
  {
   "cell_type": "markdown",
   "id": "30e00403",
   "metadata": {},
   "source": [
    "#### Organizing a List\n",
    "\n",
    "* By .sort() function\n",
    "* By sorted() function"
   ]
  },
  {
   "cell_type": "code",
   "execution_count": 19,
   "id": "9fa7f752",
   "metadata": {},
   "outputs": [
    {
     "name": "stdout",
     "output_type": "stream",
     "text": [
      "['Usra', 'Bisma', 'Yasmeen', 'Noah', 'Haroon', 'Munis', 'Abigel']\n",
      "['Abigel', 'Bisma', 'Haroon', 'Munis', 'Noah', 'Usra', 'Yasmeen']\n"
     ]
    }
   ],
   "source": [
    "#Sorting a List Permanently with the sort() Method\n",
    "guest1 = guest.copy()\n",
    "print(guest1)\n",
    "guest1.sort()\n",
    "print(guest1)\n"
   ]
  },
  {
   "cell_type": "code",
   "execution_count": 20,
   "id": "23292628",
   "metadata": {},
   "outputs": [
    {
     "name": "stdout",
     "output_type": "stream",
     "text": [
      "['Usra', 'Bisma', 'Yasmeen', 'Noah', 'Haroon', 'Munis', 'Abigel']\n",
      "['Usra', 'Bisma', 'Yasmeen', 'Noah', 'Haroon', 'Munis', 'Abigel']\n",
      "['Abigel', 'Bisma', 'Haroon', 'Munis', 'Noah', 'Usra', 'Yasmeen']\n",
      "['Usra', 'Bisma', 'Yasmeen', 'Noah', 'Haroon', 'Munis', 'Abigel']\n"
     ]
    }
   ],
   "source": [
    "#Sorting a List Temporarily with the sorted() Function\n",
    "print(guest)\n",
    "guest2 = guest.copy()\n",
    "print(guest2)\n",
    "print(sorted(guest2))\n",
    "print(guest2)"
   ]
  },
  {
   "cell_type": "markdown",
   "id": "dceac25c",
   "metadata": {},
   "source": [
    "#### Printing a List in Reverse Order "
   ]
  },
  {
   "cell_type": "code",
   "execution_count": 21,
   "id": "b5c53639",
   "metadata": {},
   "outputs": [
    {
     "name": "stdout",
     "output_type": "stream",
     "text": [
      "['Usra', 'Bisma', 'Yasmeen', 'Noah', 'Haroon', 'Munis', 'Abigel']\n",
      "['Abigel', 'Munis', 'Haroon', 'Noah', 'Yasmeen', 'Bisma', 'Usra']\n"
     ]
    }
   ],
   "source": [
    "print(guest)\n",
    "guest.reverse()\n",
    "print(guest)"
   ]
  },
  {
   "cell_type": "markdown",
   "id": "1513ec2a",
   "metadata": {},
   "source": [
    "#### Finding the Length of a List"
   ]
  },
  {
   "cell_type": "code",
   "execution_count": 22,
   "id": "8533ed5c",
   "metadata": {},
   "outputs": [
    {
     "data": {
      "text/plain": [
       "7"
      ]
     },
     "execution_count": 22,
     "metadata": {},
     "output_type": "execute_result"
    }
   ],
   "source": [
    "len(guest)"
   ]
  },
  {
   "cell_type": "markdown",
   "id": "55755ccb",
   "metadata": {},
   "source": [
    "# Try It Yourself\n",
    "\n",
    "3-8. Seeing the World: \n",
    "\n",
    "Think of at least five places in the world you’d like to visit.\n",
    "\n",
    "•\t Store the locations in a list. Make sure the list is not in alphabetical order.\n",
    "\n",
    "•\t Print your list in its original order. Don’t worry about printing the list neatly,\n",
    "just print it as a raw Python list.\n",
    "\n",
    "•\t Use sorted() to print your list in alphabetical order without modifying the\n",
    "actual list.\n",
    "\n",
    "•\t Show that your list is still in its original order by printing it.\n",
    "\n",
    "•\t Use sorted() to print your list in reverse alphabetical order without changing the order of the original list.\n",
    "\n",
    "•\t Show that your list is still in its original order by printing it again.\n",
    "\n",
    "•\t Use reverse() to change the order of your list. Print the list to show that its\n",
    "order has changed.\n",
    "\n",
    "•\t Use reverse() to change the order of your list again. Print the list to show\n",
    "it’s back to its original order.\n",
    "\n",
    "•\t Use sort() to change your list so it’s stored in alphabetical order. Print the\n",
    "list to show that its order has been changed.\n",
    "\n",
    "•\t Use sort() to change your list so it’s stored in reverse alphabetical order.\n",
    "Print the list to show that its order has changed.\n",
    "\n",
    "\n",
    "3-9. Dinner Guests: \n",
    "\n",
    "Working with one of the programs from Exercises 3-4\n",
    "through 3-7, use len() to print a message indicating the number\n",
    "of people you are inviting to dinner.\n",
    "\n",
    "3-10. Every Function: \n",
    "\n",
    "Think of something you could store in a list. For example,\n",
    "you could make a list of mountains, rivers, countries, cities, languages, or anything else you’d like. Write a program that creates a list containing these items\n",
    "and then uses each function introduced in this chapter at least once."
   ]
  },
  {
   "cell_type": "code",
   "execution_count": 23,
   "id": "07bc46de",
   "metadata": {},
   "outputs": [
    {
     "name": "stdout",
     "output_type": "stream",
     "text": [
      "['Karachi', 'Tokyo', 'Sydney', 'Johannesberg', 'Johannesburg']\n",
      "['Johannesberg', 'Johannesburg', 'Karachi', 'Sydney', 'Tokyo']\n",
      "['Karachi', 'Tokyo', 'Sydney', 'Johannesberg', 'Johannesburg']\n",
      "['Johannesburg', 'Johannesberg', 'Sydney', 'Tokyo', 'Karachi']\n",
      "['Johannesberg', 'Johannesburg', 'Karachi', 'Sydney', 'Tokyo']\n",
      "\n",
      " Before cancelation = 7\n",
      "After cancelation = 0\n",
      "Event has been called off due to shortage of Space.\n"
     ]
    }
   ],
   "source": [
    "#3.8:\n",
    "\n",
    "locations = ['Karachi', 'Tokyo', 'Sydney', 'Johannesberg', 'Johannesburg']\n",
    "print(locations)\n",
    "\n",
    "\n",
    "print(sorted(locations))\n",
    "print(locations)\n",
    "\n",
    "\n",
    "\n",
    "revlocation = locations.copy()\n",
    "revlocation.reverse()\n",
    "print(revlocation)\n",
    "\n",
    "\n",
    "sortlocation = locations.copy()\n",
    "sortlocation.sort()\n",
    "print(sortlocation)\n",
    "\n",
    "\n",
    "#3.9:\n",
    "\n",
    "print(f'\\n Before cancelation = {len(guest)}')\n",
    "print(f'After cancelation = {len(guest7)}')\n",
    "print('Event has been called off due to shortage of Space.')"
   ]
  },
  {
   "cell_type": "code",
   "execution_count": 24,
   "id": "9425abe2",
   "metadata": {},
   "outputs": [
    {
     "name": "stdout",
     "output_type": "stream",
     "text": [
      "Urdu\n",
      "['Urdu Zaban', 'Arabic', 'English', 'Spanish', 'Swedish', 'Uzbek']\n",
      "['Urdu Zaban', 'Arabic', 'English', 'Spanish', 'Swedish', 'Uzbek', 'Persian']\n",
      "['Urdu Zaban', 'Arabic', 'English', 'Latin Spanish', 'Spanish', 'Swedish', 'Uzbek', 'Persian']\n",
      "['Urdu Zaban', 'Arabic', 'English', 'Spanish', 'Swedish', 'Uzbek', 'Persian']\n",
      "['Urdu Zaban', 'Arabic', 'English', 'Spanish', 'Uzbek', 'Persian']\n",
      "['Urdu Zaban', 'Arabic', 'English', 'Spanish', 'Uzbek']\n",
      "['Urdu Zaban', 'English', 'Spanish', 'Uzbek']\n",
      "['English', 'Spanish', 'Urdu Zaban', 'Uzbek']\n",
      "['Uzbek', 'Spanish', 'English', 'Urdu Zaban']\n",
      "['English', 'Spanish', 'Urdu Zaban', 'Uzbek']\n"
     ]
    }
   ],
   "source": [
    "#3.10\n",
    "language  = ['Urdu', 'Arabic', 'English', 'Spanish', 'Swedish', 'Uzbek']\n",
    "print(language[0])\n",
    "\n",
    "language[0] = 'Urdu Zaban'\n",
    "print(language)\n",
    "\n",
    "language.append('Persian')\n",
    "print(language)\n",
    "\n",
    "language.insert(3,'Latin Spanish')\n",
    "print(language)\n",
    "\n",
    "language.remove('Latin Spanish')\n",
    "print(language)\n",
    "\n",
    "del language[4]\n",
    "print(language)\n",
    "\n",
    "language.pop()\n",
    "print(language)\n",
    "\n",
    "language.pop(1)\n",
    "print(language)\n",
    "\n",
    "print(sorted(language))\n",
    "\n",
    "rlanguage = language.copy()\n",
    "rlanguage.reverse()\n",
    "print(rlanguage)\n",
    "\n",
    "slanguage = language.copy()\n",
    "slanguage.sort()\n",
    "print(slanguage)"
   ]
  },
  {
   "cell_type": "code",
   "execution_count": 25,
   "id": "d2f828d5",
   "metadata": {},
   "outputs": [
    {
     "ename": "IndexError",
     "evalue": "list index out of range",
     "output_type": "error",
     "traceback": [
      "\u001b[1;31m---------------------------------------------------------------------------\u001b[0m",
      "\u001b[1;31mIndexError\u001b[0m                                Traceback (most recent call last)",
      "\u001b[1;32m~\\AppData\\Local\\Temp/ipykernel_5688/1522945627.py\u001b[0m in \u001b[0;36m<module>\u001b[1;34m\u001b[0m\n\u001b[0;32m      3\u001b[0m \u001b[1;31m#         -3           -2      -1\u001b[0m\u001b[1;33m\u001b[0m\u001b[1;33m\u001b[0m\u001b[0m\n\u001b[0;32m      4\u001b[0m \u001b[1;33m\u001b[0m\u001b[0m\n\u001b[1;32m----> 5\u001b[1;33m \u001b[0mprint\u001b[0m\u001b[1;33m(\u001b[0m\u001b[0mlists\u001b[0m\u001b[1;33m[\u001b[0m\u001b[1;36m3\u001b[0m\u001b[1;33m]\u001b[0m\u001b[1;33m)\u001b[0m\u001b[1;33m\u001b[0m\u001b[1;33m\u001b[0m\u001b[0m\n\u001b[0m",
      "\u001b[1;31mIndexError\u001b[0m: list index out of range"
     ]
    }
   ],
   "source": [
    "#         0            1       2\n",
    "lists = ['Abdullah', 'Noah', 'Haroon']\n",
    "#         -3           -2      -1\n",
    "\n",
    "print(lists[3])"
   ]
  },
  {
   "cell_type": "markdown",
   "id": "f9a74f0c",
   "metadata": {},
   "source": [
    "# Try It Yourself\n",
    "\n",
    "3-11. Intentional Error: \n",
    "\n",
    "If you haven’t received an index error in one of your\n",
    "programs yet, try to make one happen. Change an index in one of your programs to produce an index error. Make sure you correct the error before closing the program."
   ]
  },
  {
   "cell_type": "code",
   "execution_count": 26,
   "id": "8d9191ac",
   "metadata": {},
   "outputs": [
    {
     "ename": "IndexError",
     "evalue": "list index out of range",
     "output_type": "error",
     "traceback": [
      "\u001b[1;31m---------------------------------------------------------------------------\u001b[0m",
      "\u001b[1;31mIndexError\u001b[0m                                Traceback (most recent call last)",
      "\u001b[1;32m~\\AppData\\Local\\Temp/ipykernel_5688/3936427629.py\u001b[0m in \u001b[0;36m<module>\u001b[1;34m\u001b[0m\n\u001b[0;32m      1\u001b[0m \u001b[1;31m# want 'Abdullah to be get printed'\u001b[0m\u001b[1;33m\u001b[0m\u001b[1;33m\u001b[0m\u001b[0m\n\u001b[1;32m----> 2\u001b[1;33m \u001b[0mprint\u001b[0m\u001b[1;33m(\u001b[0m\u001b[0mlists\u001b[0m\u001b[1;33m[\u001b[0m\u001b[1;33m-\u001b[0m\u001b[1;36m4\u001b[0m\u001b[1;33m]\u001b[0m\u001b[1;33m)\u001b[0m\u001b[1;33m\u001b[0m\u001b[1;33m\u001b[0m\u001b[0m\n\u001b[0m",
      "\u001b[1;31mIndexError\u001b[0m: list index out of range"
     ]
    }
   ],
   "source": [
    "# want 'Abdullah to be get printed'\n",
    "print(lists[-4])"
   ]
  },
  {
   "cell_type": "code",
   "execution_count": 27,
   "id": "98c7938e",
   "metadata": {},
   "outputs": [
    {
     "name": "stdout",
     "output_type": "stream",
     "text": [
      "Abdullah\n"
     ]
    }
   ],
   "source": [
    "#Correct solution:\n",
    "print(lists[-3])"
   ]
  },
  {
   "cell_type": "code",
   "execution_count": null,
   "id": "715db739",
   "metadata": {},
   "outputs": [],
   "source": []
  }
 ],
 "metadata": {
  "kernelspec": {
   "display_name": "Python 3 (ipykernel)",
   "language": "python",
   "name": "python3"
  },
  "language_info": {
   "codemirror_mode": {
    "name": "ipython",
    "version": 3
   },
   "file_extension": ".py",
   "mimetype": "text/x-python",
   "name": "python",
   "nbconvert_exporter": "python",
   "pygments_lexer": "ipython3",
   "version": "3.9.7"
  }
 },
 "nbformat": 4,
 "nbformat_minor": 5
}
