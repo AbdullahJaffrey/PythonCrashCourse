{
 "cells": [
  {
   "cell_type": "markdown",
   "id": "816171d1",
   "metadata": {},
   "source": [
    "## Defining a Function"
   ]
  },
  {
   "cell_type": "code",
   "execution_count": 1,
   "id": "c435a8f6",
   "metadata": {},
   "outputs": [
    {
     "name": "stdout",
     "output_type": "stream",
     "text": [
      "Hello Abdullah!\n"
     ]
    }
   ],
   "source": [
    "def greet_user():\n",
    "    \"\"\"Display a simple greeting.\"\"\"\n",
    "    print(\"Hello Abdullah!\")\n",
    "\n",
    "greet_user()"
   ]
  },
  {
   "cell_type": "markdown",
   "id": "978f6951",
   "metadata": {},
   "source": [
    "## Passing Information to a Function"
   ]
  },
  {
   "cell_type": "code",
   "execution_count": 2,
   "id": "baf8e0da",
   "metadata": {},
   "outputs": [
    {
     "name": "stdout",
     "output_type": "stream",
     "text": [
      "Hello, Abdullah!\n"
     ]
    }
   ],
   "source": [
    "def greet_user(username):\n",
    " \"\"\"Display a simple greeting.\"\"\"\n",
    " print(\"Hello, \" + username.title() + \"!\")\n",
    "\n",
    "greet_user('Abdullah')"
   ]
  },
  {
   "cell_type": "markdown",
   "id": "e5d8329f",
   "metadata": {},
   "source": [
    "## Arguments and Parameters"
   ]
  },
  {
   "cell_type": "markdown",
   "id": "78c7aea0",
   "metadata": {},
   "source": [
    "The value 'Abdullah' in greet_user('Abdullah') is an example of an 'Argument'."
   ]
  },
  {
   "cell_type": "markdown",
   "id": "5bd3d71b",
   "metadata": {},
   "source": [
    "In this case the argument 'Abdullah' was passed to the\n",
    "function greet_user(), and the value was stored in the 'Parameter' (username)."
   ]
  },
  {
   "cell_type": "markdown",
   "id": "686fa6e9",
   "metadata": {},
   "source": [
    "# Try It Yourself\n",
    "\n",
    "###  8-1. Message: \n",
    "\n",
    "Write a function called display_message() that prints one sentence telling everyone what you are learning about in this chapter. Call the\n",
    "function, and make sure the message displays correctly."
   ]
  },
  {
   "cell_type": "code",
   "execution_count": 3,
   "id": "327d12f0",
   "metadata": {},
   "outputs": [],
   "source": [
    "def display_message(message):\n",
    "    message = 'In this chapter, we are going to learn about making functions by the help of python'\n",
    "    print(message)"
   ]
  },
  {
   "cell_type": "code",
   "execution_count": 4,
   "id": "c482ff05",
   "metadata": {},
   "outputs": [
    {
     "name": "stdout",
     "output_type": "stream",
     "text": [
      "In this chapter, we are going to learn about making functions by the help of python\n"
     ]
    }
   ],
   "source": [
    "display_message('message')"
   ]
  },
  {
   "cell_type": "markdown",
   "id": "475722e7",
   "metadata": {},
   "source": [
    "### 8-2. Favorite Book: \n",
    "\n",
    "Write a function called favorite_book() that accepts one\n",
    "parameter, title. The function should print a message, such as One of my\n",
    "favorite books is Alice in Wonderland. Call the function, making sure to\n",
    "include a book title as an argument in the function call."
   ]
  },
  {
   "cell_type": "code",
   "execution_count": 5,
   "id": "4903fe09",
   "metadata": {},
   "outputs": [],
   "source": [
    "def favorite_book(title):\n",
    "    title =  'Alice in Wonderland.'\n",
    "    print(f'One of my favorite books is {title}')"
   ]
  },
  {
   "cell_type": "code",
   "execution_count": 6,
   "id": "0e724763",
   "metadata": {},
   "outputs": [
    {
     "name": "stdout",
     "output_type": "stream",
     "text": [
      "One of my favorite books is Alice in Wonderland.\n"
     ]
    }
   ],
   "source": [
    "favorite_book('Alice in Wonderland')"
   ]
  },
  {
   "cell_type": "markdown",
   "id": "63f080ce",
   "metadata": {},
   "source": [
    "# Passing Arguments"
   ]
  },
  {
   "cell_type": "markdown",
   "id": "74882b3d",
   "metadata": {},
   "source": [
    "### Positional Arguments"
   ]
  },
  {
   "cell_type": "code",
   "execution_count": 7,
   "id": "0cbe664a",
   "metadata": {},
   "outputs": [],
   "source": [
    "def describe_pet(animal_type, pet_name):\n",
    "    \"\"\"Display information about a pet.\"\"\"\n",
    "    print(\"\\nI have a \" + animal_type + \".\")\n",
    "    print(\"My \" + animal_type + \"'s name is \" + pet_name.title() + \".\")"
   ]
  },
  {
   "cell_type": "code",
   "execution_count": 8,
   "id": "cbeecefc",
   "metadata": {},
   "outputs": [
    {
     "name": "stdout",
     "output_type": "stream",
     "text": [
      "\n",
      "I have a cat.\n",
      "My cat's name is Thomas.\n"
     ]
    }
   ],
   "source": [
    "describe_pet('cat', 'Thomas')"
   ]
  },
  {
   "cell_type": "markdown",
   "id": "4ca30a6d",
   "metadata": {},
   "source": [
    "### Multiple Function Calls"
   ]
  },
  {
   "cell_type": "code",
   "execution_count": 9,
   "id": "4612bdde",
   "metadata": {},
   "outputs": [],
   "source": [
    "def describe_pet(animal_type, pet_name):\n",
    "    \"\"\"Display information about a pet.\"\"\"\n",
    "    print(\"\\nI have a \" + animal_type + \".\")\n",
    "    print(\"My \" + animal_type + \"'s name is \" + pet_name.title() + \".\")"
   ]
  },
  {
   "cell_type": "code",
   "execution_count": 10,
   "id": "0d2bcd36",
   "metadata": {},
   "outputs": [
    {
     "name": "stdout",
     "output_type": "stream",
     "text": [
      "\n",
      "I have a cat.\n",
      "My cat's name is Thomas.\n",
      "\n",
      "I have a dog.\n",
      "My dog's name is Spike.\n"
     ]
    }
   ],
   "source": [
    "describe_pet('cat', 'Thomas')\n",
    "describe_pet('dog', 'Spike')"
   ]
  },
  {
   "cell_type": "markdown",
   "id": "99a1557a",
   "metadata": {},
   "source": [
    "### Order Matters in Positional Arguments"
   ]
  },
  {
   "cell_type": "markdown",
   "id": "b7eea5de",
   "metadata": {},
   "source": [
    "In this function call we list the name first and the type of animal second.\n",
    "Because the argument 'Thomas' is listed first this time, that value is stored in\n",
    "the parameter animal_type. Likewise, 'cat' is stored in pet_name. Now we\n",
    "have a “Thomas” named “Cat”:"
   ]
  },
  {
   "cell_type": "code",
   "execution_count": 11,
   "id": "ac7382f8",
   "metadata": {},
   "outputs": [],
   "source": [
    "def describe_pet(animal_type, pet_name):\n",
    "    \"\"\"Display information about a pet.\"\"\"\n",
    "    print(\"\\nI have a \" + animal_type + \".\")\n",
    "    print(\"My \" + animal_type + \"'s name is \" + pet_name.title() + \".\")"
   ]
  },
  {
   "cell_type": "code",
   "execution_count": 12,
   "id": "1516babd",
   "metadata": {},
   "outputs": [
    {
     "name": "stdout",
     "output_type": "stream",
     "text": [
      "\n",
      "I have a cat.\n",
      "My cat's name is Thomas.\n"
     ]
    }
   ],
   "source": [
    "describe_pet('cat', 'Thomas')"
   ]
  },
  {
   "cell_type": "markdown",
   "id": "d53c35d9",
   "metadata": {},
   "source": [
    "### Keyword Arguments"
   ]
  },
  {
   "cell_type": "code",
   "execution_count": 13,
   "id": "63a89e77",
   "metadata": {},
   "outputs": [],
   "source": [
    "def describe_pet(animal_type, pet_name):\n",
    "    \"\"\"Display information about a pet.\"\"\"\n",
    "    print(\"\\nI have a \" + animal_type + \".\")\n",
    "    print(\"My \" + animal_type + \"'s name is \" + pet_name.title() + \".\")"
   ]
  },
  {
   "cell_type": "code",
   "execution_count": 14,
   "id": "282fde46",
   "metadata": {},
   "outputs": [
    {
     "name": "stdout",
     "output_type": "stream",
     "text": [
      "\n",
      "I have a cat.\n",
      "My cat's name is Thomas.\n"
     ]
    }
   ],
   "source": [
    "describe_pet(animal_type='cat', pet_name='Thomas')"
   ]
  },
  {
   "cell_type": "code",
   "execution_count": 15,
   "id": "4848bcdd",
   "metadata": {},
   "outputs": [
    {
     "name": "stdout",
     "output_type": "stream",
     "text": [
      "\n",
      "I have a cat.\n",
      "My cat's name is Thomas.\n",
      "\n",
      "I have a cat.\n",
      "My cat's name is Thomas.\n"
     ]
    }
   ],
   "source": [
    "describe_pet(animal_type='cat', pet_name='Thomas')\n",
    "\n",
    "describe_pet(pet_name='Thomas', animal_type='cat')\n",
    "\n",
    "### Note: When you use keyword arguments, be sure to use the exact names of the parameters in the function’s definition."
   ]
  },
  {
   "cell_type": "markdown",
   "id": "571f6c87",
   "metadata": {},
   "source": [
    "### Default Values:"
   ]
  },
  {
   "cell_type": "code",
   "execution_count": 16,
   "id": "fc4a65be",
   "metadata": {},
   "outputs": [],
   "source": [
    "def describe_pet(pet_name, animal_type='dog'):\n",
    "    \"\"\"Display information about a pet.\"\"\"\n",
    "    print(\"\\nI have a \" + animal_type + \".\")\n",
    "    print(\"My \" + animal_type + \"'s name is \" + pet_name.title() + \".\")"
   ]
  },
  {
   "cell_type": "code",
   "execution_count": 17,
   "id": "5e7a420d",
   "metadata": {},
   "outputs": [
    {
     "name": "stdout",
     "output_type": "stream",
     "text": [
      "\n",
      "I have a dog.\n",
      "My dog's name is Spike.\n"
     ]
    }
   ],
   "source": [
    "describe_pet(pet_name='Spike')"
   ]
  },
  {
   "cell_type": "code",
   "execution_count": 18,
   "id": "a8472ce1",
   "metadata": {},
   "outputs": [
    {
     "name": "stdout",
     "output_type": "stream",
     "text": [
      "\n",
      "I have a cat.\n",
      "My cat's name is Thomas.\n"
     ]
    }
   ],
   "source": [
    "describe_pet(pet_name='Thomas', animal_type='cat')"
   ]
  },
  {
   "cell_type": "markdown",
   "id": "55c41d7a",
   "metadata": {},
   "source": [
    "### Equivalent Function Calls"
   ]
  },
  {
   "cell_type": "code",
   "execution_count": 19,
   "id": "c32a1a41",
   "metadata": {},
   "outputs": [
    {
     "name": "stdout",
     "output_type": "stream",
     "text": [
      "\n",
      "I have a dog.\n",
      "My dog's name is Spike.\n",
      "\n",
      "I have a dog.\n",
      "My dog's name is Spike.\n"
     ]
    }
   ],
   "source": [
    "# A dog named Spike.\n",
    "describe_pet('Spike')\n",
    "describe_pet(pet_name='Spike')"
   ]
  },
  {
   "cell_type": "code",
   "execution_count": 20,
   "id": "e8c4db06",
   "metadata": {},
   "outputs": [
    {
     "name": "stdout",
     "output_type": "stream",
     "text": [
      "\n",
      "I have a cat.\n",
      "My cat's name is Thomas.\n",
      "\n",
      "I have a cat.\n",
      "My cat's name is Thomas.\n",
      "\n",
      "I have a cat.\n",
      "My cat's name is Thomas.\n"
     ]
    }
   ],
   "source": [
    "# A hamster named Harry.\n",
    "describe_pet('Thomas', 'cat')\n",
    "\n",
    "describe_pet(pet_name='Thomas', animal_type='cat')\n",
    "\n",
    "describe_pet(animal_type='cat', pet_name='Thomas')"
   ]
  },
  {
   "cell_type": "markdown",
   "id": "36523ba1",
   "metadata": {},
   "source": [
    "### Avoiding Argument Errors"
   ]
  },
  {
   "cell_type": "code",
   "execution_count": 21,
   "id": "1e321657",
   "metadata": {},
   "outputs": [],
   "source": [
    "def describe_pet(animal_type, pet_name):\n",
    "    \"\"\"Display information about a pet.\"\"\"\n",
    "    print(\"\\nI have a \" + animal_type + \".\")\n",
    "    print(\"My \" + animal_type + \"'s name is \" + pet_name.title() + \".\")"
   ]
  },
  {
   "cell_type": "code",
   "execution_count": 22,
   "id": "f4ec6ade",
   "metadata": {},
   "outputs": [
    {
     "name": "stdout",
     "output_type": "stream",
     "text": [
      "\n",
      "I have a Cat.\n",
      "My Cat's name is Thomas.\n"
     ]
    }
   ],
   "source": [
    "describe_pet('Cat', 'Thomas')"
   ]
  },
  {
   "cell_type": "markdown",
   "id": "fd3b590b",
   "metadata": {},
   "source": [
    "# Try It Yourself\n",
    "\n",
    "### 8-3. T-Shirt: \n",
    "\n",
    "Write a function called make_shirt() that accepts a size and the\n",
    "text of a message that should be printed on the shirt. The function should print\n",
    "a sentence summarizing the size of the shirt and the message printed on it.\n",
    "Call the function once using positional arguments to make a shirt. Call the\n",
    "function a second time using keyword arguments."
   ]
  },
  {
   "cell_type": "code",
   "execution_count": 23,
   "id": "933ec705",
   "metadata": {},
   "outputs": [],
   "source": [
    "def make_shirt(size,text):\n",
    "    return f\"Size = {size}, text = {text}\""
   ]
  },
  {
   "cell_type": "code",
   "execution_count": 24,
   "id": "d5c9dfda",
   "metadata": {},
   "outputs": [
    {
     "data": {
      "text/plain": [
       "'Size = Large, text = Karachi Love Hai Jani!'"
      ]
     },
     "execution_count": 24,
     "metadata": {},
     "output_type": "execute_result"
    }
   ],
   "source": [
    "make_shirt('Large','Karachi Love Hai Jani!')"
   ]
  },
  {
   "cell_type": "markdown",
   "id": "cbcd4bc0",
   "metadata": {},
   "source": [
    "### 8-4. Large Shirts: \n",
    "\n",
    "Modify the make_shirt() function so that shirts are large\n",
    "by default with a message that reads I love Python. Make a large shirt and a\n",
    "medium shirt with the default message, and a shirt of any size with a different\n",
    "message."
   ]
  },
  {
   "cell_type": "code",
   "execution_count": 25,
   "id": "90a2b6bc",
   "metadata": {},
   "outputs": [],
   "source": [
    "def make_shirt(size='Large',text='I Love Python! '):\n",
    "    return f\"Size = {size}, text = {text}\""
   ]
  },
  {
   "cell_type": "code",
   "execution_count": 26,
   "id": "71bcbd4e",
   "metadata": {},
   "outputs": [
    {
     "name": "stdout",
     "output_type": "stream",
     "text": [
      "Size = Medium, text = I Love Python! \n"
     ]
    },
    {
     "data": {
      "text/plain": [
       "'Size = Large, text = I Love Python! '"
      ]
     },
     "execution_count": 26,
     "metadata": {},
     "output_type": "execute_result"
    }
   ],
   "source": [
    "print(make_shirt('Medium'))\n",
    "make_shirt()"
   ]
  },
  {
   "cell_type": "markdown",
   "id": "bea1cc8a",
   "metadata": {},
   "source": [
    "### 8-5. Cities: \n",
    "\n",
    "Write a function called describe_city() that accepts the name of\n",
    "a city and its country. The function should print a simple sentence, such as\n",
    "Reykjavik is in Iceland. Give the parameter for the country a default value.\n",
    "Call your function for three different cities, at least one of which is not in the\n",
    "default country"
   ]
  },
  {
   "cell_type": "code",
   "execution_count": 27,
   "id": "76b13f40",
   "metadata": {},
   "outputs": [],
   "source": [
    "def describe_city(city,country):\n",
    "     return f\"{city}, is in {country}! \""
   ]
  },
  {
   "cell_type": "code",
   "execution_count": 28,
   "id": "877f09f2",
   "metadata": {},
   "outputs": [
    {
     "data": {
      "text/plain": [
       "'Karachi, is in Islamic republic of Pakistan! '"
      ]
     },
     "execution_count": 28,
     "metadata": {},
     "output_type": "execute_result"
    }
   ],
   "source": [
    "describe_city('Karachi','Islamic republic of Pakistan')"
   ]
  },
  {
   "cell_type": "markdown",
   "id": "977879b2",
   "metadata": {},
   "source": [
    "# Return Values"
   ]
  },
  {
   "cell_type": "markdown",
   "id": "2f46ecfb",
   "metadata": {},
   "source": [
    "A function doesn’t always have to display its output directly. Instead, it can\n",
    "process some data and then return a value or set of values. The value the\n",
    "function returns is called a return value. The return statement takes a value\n",
    "from inside a function and sends it back to the line that called the function.\n",
    "Return values allow you to move much of your program’s grunt work into\n",
    "functions, which can simplify the body of your program."
   ]
  },
  {
   "cell_type": "markdown",
   "id": "032f97ce",
   "metadata": {},
   "source": [
    "### Returning a Simple Value"
   ]
  },
  {
   "cell_type": "code",
   "execution_count": 29,
   "id": "b682fe95",
   "metadata": {},
   "outputs": [],
   "source": [
    "def favorite_musician(first_name, last_name):\n",
    "    \"\"\"Return a full name, neatly formatted.\"\"\"\n",
    "    full_name = first_name + ' ' + last_name\n",
    "    return full_name.title()"
   ]
  },
  {
   "cell_type": "code",
   "execution_count": 30,
   "id": "4d9ed859",
   "metadata": {},
   "outputs": [
    {
     "name": "stdout",
     "output_type": "stream",
     "text": [
      "My favorite musician is Duncan James\n"
     ]
    }
   ],
   "source": [
    "musician = favorite_musician('Duncan', 'James')\n",
    "print(f'My favorite musician is {musician}')"
   ]
  },
  {
   "cell_type": "markdown",
   "id": "dd07a7d3",
   "metadata": {},
   "source": [
    "### Making an Argument Optional\n"
   ]
  },
  {
   "cell_type": "code",
   "execution_count": 31,
   "id": "2bb7be62",
   "metadata": {},
   "outputs": [],
   "source": [
    "def favorite_musician(first_name, middle_name, last_name):\n",
    "    \"\"\"Return a full name, neatly formatted.\"\"\"\n",
    "    full_name = first_name + ' ' + middle_name + ' ' + last_name\n",
    "    return full_name.title()"
   ]
  },
  {
   "cell_type": "code",
   "execution_count": 32,
   "id": "58f4e108",
   "metadata": {},
   "outputs": [
    {
     "name": "stdout",
     "output_type": "stream",
     "text": [
      "My favorite musician is Duncan Inglis James\n"
     ]
    }
   ],
   "source": [
    "musician = favorite_musician('Duncan','Inglis','James')\n",
    "print(f'My favorite musician is {musician}')"
   ]
  },
  {
   "cell_type": "code",
   "execution_count": 33,
   "id": "149daeff",
   "metadata": {},
   "outputs": [],
   "source": [
    "def favorite_singer(first_name, last_name, middle_name=''):\n",
    "    \"\"\"Return a full name, neatly formatted.\"\"\"\n",
    "    if middle_name:\n",
    "        full_name = first_name + ' ' + middle_name + ' ' + last_name\n",
    "        return full_name\n",
    "    else:\n",
    "        full_name = first_name + ' ' + last_name\n",
    "        return full_name.title()"
   ]
  },
  {
   "cell_type": "markdown",
   "id": "96189084",
   "metadata": {},
   "source": [
    "##### with no middle name:"
   ]
  },
  {
   "cell_type": "code",
   "execution_count": 34,
   "id": "701fd910",
   "metadata": {},
   "outputs": [
    {
     "name": "stdout",
     "output_type": "stream",
     "text": [
      "My favorite musician is Duncan James\n"
     ]
    }
   ],
   "source": [
    "musician = favorite_singer('Duncan', 'James')\n",
    "print(f'My favorite musician is {musician}')"
   ]
  },
  {
   "cell_type": "markdown",
   "id": "343611bf",
   "metadata": {},
   "source": [
    "##### with middle name:"
   ]
  },
  {
   "cell_type": "code",
   "execution_count": 35,
   "id": "2f78b829",
   "metadata": {},
   "outputs": [
    {
     "name": "stdout",
     "output_type": "stream",
     "text": [
      "My favorite musician is Duncan Inglis James\n"
     ]
    }
   ],
   "source": [
    "musician = favorite_singer('Duncan','James','Inglis')\n",
    "print(f'My favorite musician is {musician}')"
   ]
  },
  {
   "cell_type": "markdown",
   "id": "3a082e1d",
   "metadata": {},
   "source": [
    "## Returning a Dictionary"
   ]
  },
  {
   "cell_type": "code",
   "execution_count": 36,
   "id": "5505c437",
   "metadata": {},
   "outputs": [],
   "source": [
    "def build_person(first_name, last_name):\n",
    "    \"\"\"Return a dictionary of information about a person.\"\"\"\n",
    "    person = {'first': first_name, 'last': last_name}\n",
    "    return person"
   ]
  },
  {
   "cell_type": "code",
   "execution_count": 37,
   "id": "53d761d0",
   "metadata": {},
   "outputs": [
    {
     "data": {
      "text/plain": [
       "{'first': 'Abdullah', 'last': 'Jaffrey'}"
      ]
     },
     "execution_count": 37,
     "metadata": {},
     "output_type": "execute_result"
    }
   ],
   "source": [
    "build_person('Abdullah','Jaffrey')"
   ]
  },
  {
   "cell_type": "code",
   "execution_count": 38,
   "id": "0fcc0a2e",
   "metadata": {},
   "outputs": [],
   "source": [
    "def build_person(first_name, last_name, age=' '):\n",
    "    \"\"\"Return a dictionary of information about a person.\"\"\"\n",
    "    person = {'first': first_name, 'last': last_name}\n",
    "    if age:\n",
    "        person['age'] = age\n",
    "        return person\n",
    "    else:\n",
    "        return person"
   ]
  },
  {
   "cell_type": "markdown",
   "id": "4453a2f5",
   "metadata": {},
   "source": [
    "##### with age"
   ]
  },
  {
   "cell_type": "code",
   "execution_count": 39,
   "id": "86d3f837",
   "metadata": {},
   "outputs": [
    {
     "data": {
      "text/plain": [
       "{'first': 'Abdullah', 'last': 'Jaffrey', 'age': 22}"
      ]
     },
     "execution_count": 39,
     "metadata": {},
     "output_type": "execute_result"
    }
   ],
   "source": [
    "build_person('Abdullah','Jaffrey',22)"
   ]
  },
  {
   "cell_type": "markdown",
   "id": "a8ba99f8",
   "metadata": {},
   "source": [
    "##### with no age:"
   ]
  },
  {
   "cell_type": "code",
   "execution_count": 40,
   "id": "e10c3b3d",
   "metadata": {},
   "outputs": [
    {
     "data": {
      "text/plain": [
       "{'first': 'Abdullah', 'last': 'Jaffrey', 'age': ' '}"
      ]
     },
     "execution_count": 40,
     "metadata": {},
     "output_type": "execute_result"
    }
   ],
   "source": [
    "build_person('Abdullah','Jaffrey')"
   ]
  },
  {
   "cell_type": "markdown",
   "id": "6e24754a",
   "metadata": {},
   "source": [
    "### Using a Function with a while Loop"
   ]
  },
  {
   "cell_type": "code",
   "execution_count": 41,
   "id": "17afa52a",
   "metadata": {},
   "outputs": [],
   "source": [
    "def get_formatted_name(first_name, last_name):\n",
    "    \"\"\"Return a full name, neatly formatted.\"\"\"\n",
    "    full_name = first_name + ' ' + last_name\n",
    "    return full_name.title()\n",
    "\n",
    "# This is an infinite loop!\n",
    "# while True:\n",
    "#     print(\"\\nPlease tell me your name:\")\n",
    "#     f_name = input(\"First name: \")\n",
    "#     l_name = input(\"Last name: \")"
   ]
  },
  {
   "cell_type": "code",
   "execution_count": 42,
   "id": "59bcc8f6",
   "metadata": {},
   "outputs": [
    {
     "name": "stdout",
     "output_type": "stream",
     "text": [
      "\n",
      "Hello, Abdullah Jaffrey!\n"
     ]
    }
   ],
   "source": [
    "formatted_name = get_formatted_name('Abdullah', 'Jaffrey')\n",
    "print(\"\\nHello, \" + formatted_name + \"!\")"
   ]
  },
  {
   "cell_type": "markdown",
   "id": "5add1069",
   "metadata": {},
   "source": [
    "### To perform the whole function, we must stop while from taking infinite number of inputs"
   ]
  },
  {
   "cell_type": "code",
   "execution_count": 43,
   "id": "885dae22",
   "metadata": {},
   "outputs": [],
   "source": [
    "def get_formatted_name(first_name, last_name):\n",
    "#     first_name = input('Enter your first name: ')\n",
    "#     last_name = input('Enter your last name: ')\n",
    "    \"\"\"Return a full name, neatly formatted.\"\"\"\n",
    "    full_name = first_name + ' ' + last_name\n",
    "    while True:\n",
    "        if first_name == 'q':\n",
    "            break\n",
    "            if last_name == 'q':\n",
    "                break\n",
    "        else:\n",
    "            break\n",
    "    return full_name.title()"
   ]
  },
  {
   "cell_type": "code",
   "execution_count": 44,
   "id": "e6edc3e1",
   "metadata": {},
   "outputs": [
    {
     "name": "stdout",
     "output_type": "stream",
     "text": [
      "\n",
      "Hello, Abdullah Jaffrey!\n"
     ]
    }
   ],
   "source": [
    "formatted_name = get_formatted_name('Abdullah', 'Jaffrey')\n",
    "print(\"\\nHello, \" + formatted_name + \"!\")"
   ]
  },
  {
   "cell_type": "markdown",
   "id": "1f63c6c2",
   "metadata": {},
   "source": [
    "# Try It Yourself \n",
    "\n",
    "### 8-6. City Names: Write a function called city_country() that takes in the name\n",
    "of a city and its country. The function should return a string formatted like this:\n",
    "\n",
    "----------------------\n",
    "###### \"Santiago, Chile\"\n",
    "----------------------\n",
    "\n",
    "Call your function with at least three city-country pairs, and print the value\n",
    "that’s returned."
   ]
  },
  {
   "cell_type": "code",
   "execution_count": 45,
   "id": "061a5e8e",
   "metadata": {},
   "outputs": [],
   "source": [
    "def city_country(city,country):\n",
    "    return f' \"{city}, {country}\" '"
   ]
  },
  {
   "cell_type": "code",
   "execution_count": 46,
   "id": "31ae8184",
   "metadata": {},
   "outputs": [
    {
     "name": "stdout",
     "output_type": "stream",
     "text": [
      " \"Karachi, Pakistan\" \n",
      " \"Sydney, Australia\" \n",
      " \"Stockholm, Sweden\" \n",
      " \"Newyork, US\" \n"
     ]
    }
   ],
   "source": [
    "print(city_country('Karachi','Pakistan'))\n",
    "print(city_country('Sydney','Australia'))\n",
    "print(city_country('Stockholm','Sweden'))\n",
    "print(city_country('Newyork','US'))"
   ]
  },
  {
   "cell_type": "markdown",
   "id": "08fdb974",
   "metadata": {},
   "source": [
    "### 8-7. Album: \n",
    "\n",
    "Write a function called make_album() that builds a dictionary\n",
    "describing a music album. The function should take in an artist name and an\n",
    "album title, and it should return a dictionary containing these two pieces of\n",
    "information. Use the function to make three dictionaries representing different\n",
    "albums. Print each return value to show that the dictionaries are storing the\n",
    "album information correctly\n",
    "\n",
    "Add an optional parameter to make_album() that allows you to store the\n",
    "number of tracks on an album. If the calling line includes a value for the number of tracks, add that value to the album’s dictionary. Make at least one new\n",
    "function call that includes the number of tracks on an album"
   ]
  },
  {
   "cell_type": "code",
   "execution_count": 47,
   "id": "ca220a27",
   "metadata": {},
   "outputs": [],
   "source": [
    "def make_album(artist_name, album_title, album_track=' '):\n",
    "    return {'artist name':artist_name, 'album title':album_title, album_track: ' '}"
   ]
  },
  {
   "cell_type": "code",
   "execution_count": 48,
   "id": "773f0c1d",
   "metadata": {},
   "outputs": [
    {
     "name": "stdout",
     "output_type": "stream",
     "text": [
      "{'artist name': 'Farhan Saeed', 'album title': 'Boondh', 'Sajni': ' '}\n",
      "{'artist name': 'Duncan Lawrance', 'album title': 'Loving You is a Losing Game', ' ': ' '}\n",
      "{'artist name': 'Dylan Matthew', 'album title': 'Love Is Gone', ' ': ' '}\n"
     ]
    }
   ],
   "source": [
    "print(make_album('Farhan Saeed', 'Boondh','Sajni'))\n",
    "print(make_album('Duncan Lawrance','Loving You is a Losing Game'))\n",
    "print(make_album('Dylan Matthew', 'Love Is Gone' ))"
   ]
  },
  {
   "cell_type": "markdown",
   "id": "a8b43564",
   "metadata": {},
   "source": [
    "### 8-8. User Albums: \n",
    "\n",
    "Start with your program from Exercise 8-7. Write a while\n",
    "loop that allows users to enter an album’s artist and title. Once you have that\n",
    "information, call make_album() with the user’s input and print the dictionary\n",
    "that’s created. Be sure to include a quit value in the while loop"
   ]
  },
  {
   "cell_type": "code",
   "execution_count": 49,
   "id": "8dfecbe4",
   "metadata": {},
   "outputs": [],
   "source": [
    "def make_album():\n",
    "    artist_name = input('Enter your favorite artist or press \"q\" to exit: ')\n",
    "    album_title = input('Enter your favorite album or press \"q\" to exit: ')\n",
    "    album_track = input('Enter your favorite track or press \"q\" to exit: ')\n",
    "    flag = True\n",
    "    while flag:\n",
    "        if artist_name == 'q':\n",
    "            break\n",
    "        if album_title == 'q':\n",
    "            break\n",
    "        if album_track == 'q':\n",
    "            break\n",
    "        else:\n",
    "            return {'artist name':artist_name, 'album title':album_title, 'album track':album_track}\n",
    "    else:\n",
    "        flag = False"
   ]
  },
  {
   "cell_type": "code",
   "execution_count": 50,
   "id": "2d82fb31",
   "metadata": {},
   "outputs": [
    {
     "name": "stdout",
     "output_type": "stream",
     "text": [
      "Enter your favorite artist or press \"q\" to exit: Duncan James\n",
      "Enter your favorite album or press \"q\" to exit: One Love\n",
      "Enter your favorite track or press \"q\" to exit: Blue\n"
     ]
    },
    {
     "data": {
      "text/plain": [
       "{'artist name': 'Duncan James',\n",
       " 'album title': 'One Love',\n",
       " 'album track': 'Blue'}"
      ]
     },
     "execution_count": 50,
     "metadata": {},
     "output_type": "execute_result"
    }
   ],
   "source": [
    "make_album()"
   ]
  },
  {
   "cell_type": "markdown",
   "id": "c5f4f4a5",
   "metadata": {},
   "source": [
    "### Passing a List"
   ]
  },
  {
   "cell_type": "code",
   "execution_count": 51,
   "id": "a8b65b3f",
   "metadata": {},
   "outputs": [
    {
     "name": "stdout",
     "output_type": "stream",
     "text": [
      "Hello, Hannah!\n",
      "Hello, Robert!\n",
      "Hello, Margot!\n"
     ]
    }
   ],
   "source": [
    "def greet_users(names):\n",
    "    \"\"\"Print a simple greeting to each user in the list.\"\"\"\n",
    "    for name in names:\n",
    "        msg = \"Hello, \" + name.title() + \"!\"\n",
    "        print(msg)\n",
    "\n",
    "        \n",
    "usernames = ['hannah', 'robert', 'margot']\n",
    "greet_users(usernames)"
   ]
  },
  {
   "cell_type": "markdown",
   "id": "b6a552e1",
   "metadata": {},
   "source": [
    "### Modifying a List in a Function"
   ]
  },
  {
   "cell_type": "code",
   "execution_count": 52,
   "id": "90bc3571",
   "metadata": {},
   "outputs": [
    {
     "name": "stdout",
     "output_type": "stream",
     "text": [
      "Printing model: dodecahedron\n",
      "Printing model: robot pendant\n",
      "Printing model: iphone case\n",
      "\n",
      "The following models have been printed:\n",
      "dodecahedron\n",
      "robot pendant\n",
      "iphone case\n"
     ]
    }
   ],
   "source": [
    "unprinted_designs = ['iphone case', 'robot pendant', 'dodecahedron']\n",
    "completed_models = []\n",
    "\n",
    "while unprinted_designs:\n",
    "    current_design = unprinted_designs.pop()\n",
    "    print(\"Printing model: \" + current_design)\n",
    "    completed_models.append(current_design)\n",
    "\n",
    "print(\"\\nThe following models have been printed:\")\n",
    "for completed_model in completed_models:\n",
    "    print(completed_model)"
   ]
  },
  {
   "cell_type": "markdown",
   "id": "c3811309",
   "metadata": {},
   "source": [
    "### Preventing a Function from Modifying a List\n"
   ]
  },
  {
   "cell_type": "code",
   "execution_count": 53,
   "id": "3d3977fd",
   "metadata": {},
   "outputs": [
    {
     "name": "stdout",
     "output_type": "stream",
     "text": [
      "[] ['dodecahedron', 'robot pendant', 'iphone case']\n"
     ]
    }
   ],
   "source": [
    "print(unprinted_designs, completed_models)"
   ]
  },
  {
   "cell_type": "code",
   "execution_count": 54,
   "id": "2a5fc444",
   "metadata": {},
   "outputs": [],
   "source": [
    "#50% done"
   ]
  },
  {
   "cell_type": "markdown",
   "id": "7ba12526",
   "metadata": {},
   "source": [
    "# Try It Yourself!\n",
    "\n",
    "## 8-9. Magicians: \n",
    "\n",
    "Make a list of magician’s names. Pass the list to a function\n",
    "called show_magicians(), which prints the name of each magician in the list.\n",
    "\n",
    "## 8-10. Great Magicians: \n",
    "\n",
    "Start with a copy of your program from Exercise 8-9.\n",
    "Write a function called make_great() that modifies the list of magicians by adding the phrase the Great to each magician’s name. Call show_magicians() to\n",
    "see that the list has actually been modified.\n",
    "## 8-11. Unchanged Magicians:\n",
    "\n",
    "Start with your work from Exercise 8-10. Call the\n",
    "function make_great() with a copy of the list of magicians’ names. Because the\n",
    "original list will be unchanged, return the new list and store it in a separate list.\n",
    "Call show_magicians() with each list to show that you have one list of the original names and one list with the Great added to each magician’s name."
   ]
  },
  {
   "cell_type": "code",
   "execution_count": 55,
   "id": "ca5cd986",
   "metadata": {},
   "outputs": [],
   "source": [
    "# Exercise 8.9:\n",
    "\n",
    "def show_magicians(names_of_magician):\n",
    "    list_of_magicians = names_of_magician\n",
    "    return list_of_magicians"
   ]
  },
  {
   "cell_type": "code",
   "execution_count": 56,
   "id": "3bd73005",
   "metadata": {},
   "outputs": [
    {
     "data": {
      "text/plain": [
       "['Criss Angel', 'Val Valentino', 'Harry Houdini']"
      ]
     },
     "execution_count": 56,
     "metadata": {},
     "output_type": "execute_result"
    }
   ],
   "source": [
    "show_magicians(['Criss Angel','Val Valentino','Harry Houdini'])"
   ]
  },
  {
   "cell_type": "code",
   "execution_count": 57,
   "id": "c5379bf3",
   "metadata": {},
   "outputs": [],
   "source": [
    "# Exercise 8.10:\n",
    "\n",
    "def show_magicians(names_of_magician):\n",
    "    list_of_magicians = names_of_magician\n",
    "    for i in list_of_magicians:\n",
    "        list_of_magicians.append('Great ' + i)\n",
    "        list_of_magicians.pop(0)\n",
    "    return list_of_magicians"
   ]
  },
  {
   "cell_type": "code",
   "execution_count": 58,
   "id": "a6a6de06",
   "metadata": {},
   "outputs": [
    {
     "data": {
      "text/plain": [
       "['Great Criss Angel', 'Great Harry Houdini', 'Great Great Harry Houdini']"
      ]
     },
     "execution_count": 58,
     "metadata": {},
     "output_type": "execute_result"
    }
   ],
   "source": [
    "show_magicians(['Criss Angel','Val Valentino','Harry Houdini'])"
   ]
  },
  {
   "cell_type": "code",
   "execution_count": 59,
   "id": "21aa4e45",
   "metadata": {},
   "outputs": [],
   "source": [
    "# Exercise 8.11:\n",
    "\n",
    "new_list_of_magicians = []\n",
    "\n",
    "def make_great(show_magicians):\n",
    "    list_of_magician = show_magicians\n",
    "    for i in list_of_magician:\n",
    "        new_list_of_magicians.append('Great Magician: Mr '+ i)\n",
    "    return (new_list_of_magicians), (list_of_magician)"
   ]
  },
  {
   "cell_type": "code",
   "execution_count": 60,
   "id": "77b40304",
   "metadata": {},
   "outputs": [
    {
     "data": {
      "text/plain": [
       "(['Great Magician: Mr Criss Angel',\n",
       "  'Great Magician: Mr Val Valentino',\n",
       "  'Great Magician: Mr Harry Houdini'],\n",
       " ['Criss Angel', 'Val Valentino', 'Harry Houdini'])"
      ]
     },
     "execution_count": 60,
     "metadata": {},
     "output_type": "execute_result"
    }
   ],
   "source": [
    "make_great(['Criss Angel','Val Valentino','Harry Houdini'])"
   ]
  },
  {
   "cell_type": "markdown",
   "id": "749ec5f7",
   "metadata": {},
   "source": [
    "### Passing an Arbitrary Number of Arguments:"
   ]
  },
  {
   "cell_type": "code",
   "execution_count": 61,
   "id": "4720dbf8",
   "metadata": {},
   "outputs": [
    {
     "name": "stdout",
     "output_type": "stream",
     "text": [
      "\n",
      "Making a pizza with the following toppings:\n",
      "- pepperoni\n",
      "\n",
      "Making a pizza with the following toppings:\n",
      "- mushrooms\n",
      "- green peppers\n",
      "- extra cheese\n"
     ]
    }
   ],
   "source": [
    "def make_pizza(*toppings):\n",
    "    \"\"\"Summarize the pizza we are about to make.\"\"\"\n",
    "    print(\"\\nMaking a pizza with the following toppings:\")\n",
    "    for topping in toppings:\n",
    "        print(\"- \" + topping)\n",
    "\n",
    "make_pizza('pepperoni')\n",
    "make_pizza('mushrooms', 'green peppers', 'extra cheese')"
   ]
  },
  {
   "cell_type": "markdown",
   "id": "b4fa2a35",
   "metadata": {},
   "source": [
    "### Mixing Positional and Arbitrary Arguments"
   ]
  },
  {
   "cell_type": "code",
   "execution_count": 62,
   "id": "4f16a21a",
   "metadata": {},
   "outputs": [
    {
     "name": "stdout",
     "output_type": "stream",
     "text": [
      "\n",
      "Making a 16-inch pizza with the following toppings:\n",
      "- pepperoni\n",
      "\n",
      "Making a 12-inch pizza with the following toppings:\n",
      "- mushrooms\n",
      "- green peppers\n",
      "- extra cheese\n"
     ]
    }
   ],
   "source": [
    "def make_pizza(size, *toppings):\n",
    "    \"\"\"Summarize the pizza we are about to make.\"\"\"\n",
    "    print(\"\\nMaking a \" + str(size) + \"-inch pizza with the following toppings:\")\n",
    "    for topping in toppings:\n",
    "        print(\"- \" + topping)\n",
    "\n",
    "make_pizza(16, 'pepperoni')\n",
    "make_pizza(12, 'mushrooms', 'green peppers', 'extra cheese')"
   ]
  },
  {
   "cell_type": "markdown",
   "id": "8f6a9ecb",
   "metadata": {},
   "source": [
    "### Using Arbitrary Keyword Arguments:"
   ]
  },
  {
   "cell_type": "code",
   "execution_count": 63,
   "id": "90d8e061",
   "metadata": {},
   "outputs": [
    {
     "name": "stdout",
     "output_type": "stream",
     "text": [
      "{'first_name': 'albert', 'last_name': 'einstein', 'location': 'princeton', 'field': 'physics'}\n"
     ]
    }
   ],
   "source": [
    "def build_profile(first, last, **user_info):\n",
    "    \"\"\"Build a dictionary containing everything we know about a user.\"\"\"\n",
    "    profile = {}\n",
    "    profile['first_name'] = first\n",
    "    profile['last_name'] = last\n",
    "    for key, value in user_info.items():\n",
    "        profile[key] = value\n",
    "    return profile\n",
    "\n",
    "user_profile = build_profile('albert', 'einstein', location='princeton', field='physics')\n",
    "print(user_profile)"
   ]
  },
  {
   "cell_type": "markdown",
   "id": "793b4cc6",
   "metadata": {},
   "source": [
    "# Try It Yourself\n",
    "\n",
    "### 8-12. Sandwiches: \n",
    "\n",
    "Write a function that accepts a list of items a person wants\n",
    "on a sandwich. \n",
    "\n",
    "The function should have one parameter that collects as many\n",
    "items as the function call provides, and it should print a summary of the sandwich that is being ordered. \n",
    "\n",
    "Call the function three times, using a different number of arguments each time"
   ]
  },
  {
   "cell_type": "code",
   "execution_count": 64,
   "id": "87fa7dd8",
   "metadata": {},
   "outputs": [],
   "source": [
    "def new_make_pizza(*toppings):\n",
    "    print(\"Making a pizza with the following toppings:\")\n",
    "    for topping in toppings:\n",
    "        print(\"- \" + topping)"
   ]
  },
  {
   "cell_type": "code",
   "execution_count": 65,
   "id": "ef747cd7",
   "metadata": {},
   "outputs": [
    {
     "name": "stdout",
     "output_type": "stream",
     "text": [
      "Making a pizza with the following toppings:\n",
      "- pepperoni\n",
      "\n",
      "\n",
      "Making a pizza with the following toppings:\n",
      "- mushrooms\n",
      "- green peppers\n",
      "- extra cheese\n",
      "\n",
      "\n",
      "Making a pizza with the following toppings:\n",
      "- barbeque\n",
      "- olives\n",
      "\n",
      "\n",
      "Making a pizza with the following toppings:\n",
      "- Mayonnaise\n"
     ]
    }
   ],
   "source": [
    "new_make_pizza('pepperoni')\n",
    "print('\\n')\n",
    "new_make_pizza('mushrooms', 'green peppers', 'extra cheese')\n",
    "print('\\n')\n",
    "new_make_pizza('barbeque', 'olives')\n",
    "print('\\n')\n",
    "new_make_pizza('Mayonnaise')"
   ]
  },
  {
   "cell_type": "markdown",
   "id": "8994b5d0",
   "metadata": {},
   "source": [
    "### 8-13. User Profile: \n",
    "\n",
    "Start with a copy of user_profile.py from page 153. \n",
    "\n",
    "Build a profile of yourself by calling build_profile(), using your first and last names\n",
    "\n",
    "and three other key-value pairs that describe you."
   ]
  },
  {
   "cell_type": "code",
   "execution_count": 66,
   "id": "7fd93d81",
   "metadata": {},
   "outputs": [],
   "source": [
    "def build_profile(my_first_name, my_last_name, **my_info):\n",
    "    my_profile = {}\n",
    "    my_profile['First_Name'] = my_first_name\n",
    "    my_profile['Last_Name'] = my_last_name\n",
    "    for key, values in my_info.items():\n",
    "        my_profile[key]= values\n",
    "    return my_profile    "
   ]
  },
  {
   "cell_type": "code",
   "execution_count": 67,
   "id": "1d2fa9da",
   "metadata": {},
   "outputs": [
    {
     "name": "stdout",
     "output_type": "stream",
     "text": [
      "{'First_Name': 'Abdullah', 'Last_Name': 'Jafri', 'location': 'Karachi', 'gender': 'Male', 'age': 23}\n"
     ]
    }
   ],
   "source": [
    "my_user_profile = build_profile('Abdullah', 'Jafri', location='Karachi', gender='Male', age=23)\n",
    "print(my_user_profile)"
   ]
  },
  {
   "cell_type": "markdown",
   "id": "4b9789c0",
   "metadata": {},
   "source": [
    "### 8-14. Cars: \n",
    "\n",
    "Write a function that stores information about a car in a dictionary. The function should always receive a manufacturer and a model name. It\n",
    "should then accept an arbitrary number of keyword arguments. Call the function with the required information and two other name-value pairs, such as a\n",
    "color or an optional feature. Your function should work for a call like this one:\n",
    "\n",
    "\n",
    "-----------------------------------------------------------------------\n",
    "#### car = make_car('subaru', 'outback', color='blue', tow_package=True)\n",
    "----------------------------------------------------------------------------------------\n",
    "Print the dictionary that’s returned to make sure all the information was\n",
    "stored correctly"
   ]
  },
  {
   "cell_type": "code",
   "execution_count": 68,
   "id": "30db2a68",
   "metadata": {},
   "outputs": [],
   "source": [
    "def make_car(company_name, model_name, **car_info):\n",
    "    car_profile = {}\n",
    "    car_profile['Company_name'] = company_name\n",
    "    car_profile['Model_name'] = model_name\n",
    "    for key, values in car_info.items():\n",
    "        car_profile[key]= values\n",
    "    return car_profile    "
   ]
  },
  {
   "cell_type": "code",
   "execution_count": 69,
   "id": "9fa5de74",
   "metadata": {},
   "outputs": [
    {
     "name": "stdout",
     "output_type": "stream",
     "text": [
      "{'Company_name': 'Toyota', 'Model_name': 'Corolla', 'Color': 'Black', 'Model_year': '2022'}\n"
     ]
    }
   ],
   "source": [
    "my_car = make_car('Toyota', 'Corolla', Color='Black', Model_year='2022')\n",
    "print(my_car)"
   ]
  },
  {
   "cell_type": "markdown",
   "id": "a81cc7be",
   "metadata": {},
   "source": [
    "## Storing Your Functions in Modules:"
   ]
  },
  {
   "cell_type": "markdown",
   "id": "05e5267b",
   "metadata": {},
   "source": [
    "### Importing an Entire Module:"
   ]
  },
  {
   "cell_type": "code",
   "execution_count": null,
   "id": "b92308f9",
   "metadata": {},
   "outputs": [],
   "source": [
    "# %load pizza.py\n",
    "def make_pizza(size, *toppings):\n",
    "    \"\"\"Summarize the pizza we are about to make.\"\"\"\n",
    "    print(\"\\nMaking a \" + str(size) + \"-inch pizza with the following toppings:\")\n",
    "    for topping in toppings:\n",
    "        print(\"- \" + topping)"
   ]
  },
  {
   "cell_type": "code",
   "execution_count": 71,
   "id": "056c2d83",
   "metadata": {},
   "outputs": [],
   "source": [
    "%run pizza.py"
   ]
  },
  {
   "cell_type": "code",
   "execution_count": 72,
   "id": "7798477f",
   "metadata": {},
   "outputs": [
    {
     "name": "stdout",
     "output_type": "stream",
     "text": [
      "\n",
      "Making a 16-inch pizza with the following toppings:\n",
      "- pepperoni\n",
      "\n",
      "Making a 12-inch pizza with the following toppings:\n",
      "- mushrooms\n",
      "- green peppers\n",
      "- extra cheese\n"
     ]
    }
   ],
   "source": [
    "import pizza\n",
    "\n",
    "pizza.make_pizza(16, 'pepperoni')\n",
    "pizza.make_pizza(12, 'mushrooms', 'green peppers', 'extra cheese')"
   ]
  },
  {
   "cell_type": "markdown",
   "id": "9734f939",
   "metadata": {},
   "source": [
    "### Importing Specific Functions:"
   ]
  },
  {
   "cell_type": "code",
   "execution_count": 73,
   "id": "fc4f7e5b",
   "metadata": {},
   "outputs": [
    {
     "name": "stdout",
     "output_type": "stream",
     "text": [
      "\n",
      "Making a 16-inch pizza with the following toppings:\n",
      "- pepperoni\n",
      "\n",
      "Making a 12-inch pizza with the following toppings:\n",
      "- mushrooms\n",
      "- green peppers\n",
      "- extra cheese\n"
     ]
    }
   ],
   "source": [
    "from pizza import make_pizza\n",
    "\n",
    "pizza.make_pizza(16, 'pepperoni')\n",
    "pizza.make_pizza(12, 'mushrooms', 'green peppers', 'extra cheese')\n"
   ]
  },
  {
   "cell_type": "markdown",
   "id": "1c551ff0",
   "metadata": {},
   "source": [
    "### Using as to Give a Function an Alias:"
   ]
  },
  {
   "cell_type": "code",
   "execution_count": 74,
   "id": "dfa84871",
   "metadata": {},
   "outputs": [
    {
     "name": "stdout",
     "output_type": "stream",
     "text": [
      "\n",
      "Making a 16-inch pizza with the following toppings:\n",
      "- pepperoni\n",
      "\n",
      "Making a 12-inch pizza with the following toppings:\n",
      "- mushrooms\n",
      "- green peppers\n",
      "- extra cheese\n"
     ]
    }
   ],
   "source": [
    "from pizza import make_pizza as mp\n",
    "\n",
    "mp(16, 'pepperoni')\n",
    "mp(12, 'mushrooms', 'green peppers', 'extra cheese')"
   ]
  },
  {
   "cell_type": "markdown",
   "id": "51e485a3",
   "metadata": {},
   "source": [
    "### Using as to Give a Module an Alias:"
   ]
  },
  {
   "cell_type": "code",
   "execution_count": 75,
   "id": "963599d0",
   "metadata": {},
   "outputs": [
    {
     "name": "stdout",
     "output_type": "stream",
     "text": [
      "\n",
      "Making a 16-inch pizza with the following toppings:\n",
      "- pepperoni\n",
      "\n",
      "Making a 12-inch pizza with the following toppings:\n",
      "- mushrooms\n",
      "- green peppers\n",
      "- extra cheese\n"
     ]
    }
   ],
   "source": [
    "import pizza as p\n",
    "\n",
    "p.make_pizza(16, 'pepperoni')\n",
    "p.make_pizza(12, 'mushrooms', 'green peppers', 'extra cheese')"
   ]
  },
  {
   "cell_type": "markdown",
   "id": "8240e070",
   "metadata": {},
   "source": [
    "### Importing All Functions in a Module:"
   ]
  },
  {
   "cell_type": "code",
   "execution_count": 76,
   "id": "5454e0c3",
   "metadata": {},
   "outputs": [
    {
     "name": "stdout",
     "output_type": "stream",
     "text": [
      "\n",
      "Making a 16-inch pizza with the following toppings:\n",
      "- pepperoni\n",
      "\n",
      "Making a 12-inch pizza with the following toppings:\n",
      "- mushrooms\n",
      "- green peppers\n",
      "- extra cheese\n"
     ]
    }
   ],
   "source": [
    "from pizza import *\n",
    "\n",
    "make_pizza(16, 'pepperoni')\n",
    "make_pizza(12, 'mushrooms', 'green peppers', 'extra cheese')"
   ]
  },
  {
   "cell_type": "markdown",
   "id": "d6c411ef",
   "metadata": {},
   "source": [
    "## Styling Functions"
   ]
  },
  {
   "cell_type": "code",
   "execution_count": 77,
   "id": "9121fb49",
   "metadata": {},
   "outputs": [],
   "source": [
    "# def function_name(parameter_0, parameter_1='default value')"
   ]
  },
  {
   "cell_type": "code",
   "execution_count": 78,
   "id": "582787c7",
   "metadata": {},
   "outputs": [],
   "source": [
    "# function_name(value_0, parameter_1='value')"
   ]
  },
  {
   "cell_type": "code",
   "execution_count": 79,
   "id": "1bc7dce4",
   "metadata": {},
   "outputs": [],
   "source": [
    "# def function_name(parameter_0, parameter_1, parameter_2, parameter_3, parameter_4, parameter_5):\n",
    "#     function body..."
   ]
  },
  {
   "cell_type": "markdown",
   "id": "da339e59",
   "metadata": {},
   "source": [
    "## Try It Yourself :"
   ]
  },
  {
   "cell_type": "markdown",
   "id": "dea19240",
   "metadata": {},
   "source": [
    "#### 8-15. Printing Models: \n",
    "\n",
    "Put the functions for the example print_models.py in a separate file called printing_functions.py. \n",
    "\n",
    "Write an import statement at the top of print_models.py, and modify the file to use the imported functions."
   ]
  },
  {
   "cell_type": "code",
   "execution_count": 80,
   "id": "90f1f336",
   "metadata": {},
   "outputs": [],
   "source": [
    "# %load printing_functions.py\n",
    "def print_models(model_name, company_name, color=\"Black\"):\n",
    "        return model_name, company_name, color"
   ]
  },
  {
   "cell_type": "code",
   "execution_count": 81,
   "id": "00dffbe3",
   "metadata": {},
   "outputs": [],
   "source": [
    "%run printing_functions.py"
   ]
  },
  {
   "cell_type": "code",
   "execution_count": 82,
   "id": "0561fee7",
   "metadata": {},
   "outputs": [],
   "source": [
    "import printing_functions as pf"
   ]
  },
  {
   "cell_type": "code",
   "execution_count": 83,
   "id": "62d58e74",
   "metadata": {},
   "outputs": [
    {
     "data": {
      "text/plain": [
       "('L90', 'LG', 'Black')"
      ]
     },
     "execution_count": 83,
     "metadata": {},
     "output_type": "execute_result"
    }
   ],
   "source": [
    "pf.print_models('L90','LG',)"
   ]
  },
  {
   "cell_type": "markdown",
   "id": "9a2d057c",
   "metadata": {},
   "source": [
    "#### 8-16. Imports: \n",
    "\n",
    "Using a program you wrote that has one function in it, store that\n",
    "function in a separate file. \n",
    "\n",
    "Import the function into your main program file, and\n",
    "call the function using each of these approaches:\n",
    "\n",
    "import module_name\n",
    "\n",
    "from module_name import function_name\n",
    "\n",
    "from module_name import function_name as fn\n",
    "\n",
    "import module_name as mn\n",
    "\n",
    "from module_name import *"
   ]
  },
  {
   "cell_type": "code",
   "execution_count": 84,
   "id": "2953cc0f",
   "metadata": {},
   "outputs": [],
   "source": [
    "# %load printing_functions\n",
    "def print_models(model_name, company_name, color):\n",
    "        return model_name, company_name, color"
   ]
  },
  {
   "cell_type": "code",
   "execution_count": 85,
   "id": "60844b58",
   "metadata": {},
   "outputs": [],
   "source": [
    "%run printing_functions"
   ]
  },
  {
   "cell_type": "code",
   "execution_count": 86,
   "id": "6c795cf6",
   "metadata": {},
   "outputs": [
    {
     "data": {
      "text/plain": [
       "('N90', 'Nokia', 'Black')"
      ]
     },
     "execution_count": 86,
     "metadata": {},
     "output_type": "execute_result"
    }
   ],
   "source": [
    "import printing_functions\n",
    "\n",
    "print_models('N90','Nokia', 'Black')\n"
   ]
  },
  {
   "cell_type": "code",
   "execution_count": 87,
   "id": "32ee673a",
   "metadata": {},
   "outputs": [
    {
     "data": {
      "text/plain": [
       "('D600', 'Samsung', 'Black')"
      ]
     },
     "execution_count": 87,
     "metadata": {},
     "output_type": "execute_result"
    }
   ],
   "source": [
    "from printing_functions import print_models\n",
    "\n",
    "print_models('D600','Samsung', 'Black')"
   ]
  },
  {
   "cell_type": "code",
   "execution_count": 88,
   "id": "eb21fd35",
   "metadata": {},
   "outputs": [
    {
     "data": {
      "text/plain": [
       "('Iphone4', 'Apple', 'Black')"
      ]
     },
     "execution_count": 88,
     "metadata": {},
     "output_type": "execute_result"
    }
   ],
   "source": [
    "from printing_functions import print_models as pm\n",
    "\n",
    "pm('Iphone4','Apple', 'Black')"
   ]
  },
  {
   "cell_type": "code",
   "execution_count": 89,
   "id": "5ceb5c85",
   "metadata": {},
   "outputs": [
    {
     "data": {
      "text/plain": [
       "('V90', 'Vivo', 'Blue')"
      ]
     },
     "execution_count": 89,
     "metadata": {},
     "output_type": "execute_result"
    }
   ],
   "source": [
    "from printing_functions import *\n",
    "\n",
    "print_models('V90','Vivo', 'Blue')"
   ]
  },
  {
   "cell_type": "markdown",
   "id": "1424cb1b",
   "metadata": {},
   "source": [
    "### 8-17. Styling Functions: \n",
    "    \n",
    "Choose any three programs you wrote for this chapter, and make sure they follow the styling guidelines described in this section"
   ]
  },
  {
   "cell_type": "code",
   "execution_count": 90,
   "id": "cd0bb31b",
   "metadata": {},
   "outputs": [
    {
     "data": {
      "text/plain": [
       "('N90', 'Nokia', 'Black')"
      ]
     },
     "execution_count": 90,
     "metadata": {},
     "output_type": "execute_result"
    }
   ],
   "source": [
    "def print_models(model_name, company_name, color='Black'):\n",
    "        return model_name, company_name, color\n",
    "    \n",
    "print_models('N90','Nokia', 'Black')"
   ]
  },
  {
   "cell_type": "code",
   "execution_count": 91,
   "id": "0e1782f7",
   "metadata": {},
   "outputs": [
    {
     "name": "stdout",
     "output_type": "stream",
     "text": [
      "{'Company_name': 'Toyota', 'Model_name': 'Corolla', 'Color': 'Black', 'Model_year': '2022'}\n"
     ]
    }
   ],
   "source": [
    "def make_car(company_name, model_name, **car_info):\n",
    "    car_profile = {}\n",
    "    car_profile['Company_name'] = company_name\n",
    "    car_profile['Model_name'] = model_name\n",
    "    for key, values in car_info.items():\n",
    "        car_profile[key]= values\n",
    "    return car_profile   \n",
    "\n",
    "\n",
    "my_car = make_car('Toyota', 'Corolla', Color='Black', Model_year='2022')\n",
    "print(my_car)"
   ]
  },
  {
   "cell_type": "code",
   "execution_count": 92,
   "id": "35c6fb23",
   "metadata": {},
   "outputs": [
    {
     "name": "stdout",
     "output_type": "stream",
     "text": [
      "{'first_name': 'albert', 'last_name': 'einstein', 'location': 'princeton', 'field': 'physics'}\n"
     ]
    }
   ],
   "source": [
    "def build_profile(first, last, **user_info):\n",
    "    \"\"\"Build a dictionary containing everything we know about a user.\"\"\"\n",
    "    profile = {}\n",
    "    profile['first_name'] = first\n",
    "    profile['last_name'] = last\n",
    "    for key, value in user_info.items():\n",
    "        profile[key] = value\n",
    "    return profile\n",
    "\n",
    "user_profile = build_profile('albert', 'einstein', location='princeton', field='physics')\n",
    "print(user_profile)"
   ]
  },
  {
   "cell_type": "code",
   "execution_count": 93,
   "id": "7aed8d6c",
   "metadata": {},
   "outputs": [],
   "source": [
    "# 100% Done"
   ]
  }
 ],
 "metadata": {
  "kernelspec": {
   "display_name": "Python 3 (ipykernel)",
   "language": "python",
   "name": "python3"
  },
  "language_info": {
   "codemirror_mode": {
    "name": "ipython",
    "version": 3
   },
   "file_extension": ".py",
   "mimetype": "text/x-python",
   "name": "python",
   "nbconvert_exporter": "python",
   "pygments_lexer": "ipython3",
   "version": "3.9.7"
  }
 },
 "nbformat": 4,
 "nbformat_minor": 5
}
