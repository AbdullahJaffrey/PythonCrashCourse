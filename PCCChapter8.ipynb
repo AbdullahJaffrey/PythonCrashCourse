{
 "cells": [
  {
   "cell_type": "markdown",
   "id": "816171d1",
   "metadata": {},
   "source": [
    "## Defining a Function"
   ]
  },
  {
   "cell_type": "code",
   "execution_count": 1,
   "id": "c435a8f6",
   "metadata": {},
   "outputs": [
    {
     "name": "stdout",
     "output_type": "stream",
     "text": [
      "Hello Abdullah!\n"
     ]
    }
   ],
   "source": [
    "def greet_user():\n",
    "    \"\"\"Display a simple greeting.\"\"\"\n",
    "    print(\"Hello Abdullah!\")\n",
    "\n",
    "greet_user()"
   ]
  },
  {
   "cell_type": "markdown",
   "id": "978f6951",
   "metadata": {},
   "source": [
    "## Passing Information to a Function"
   ]
  },
  {
   "cell_type": "code",
   "execution_count": 2,
   "id": "baf8e0da",
   "metadata": {},
   "outputs": [
    {
     "name": "stdout",
     "output_type": "stream",
     "text": [
      "Hello, Abdullah!\n"
     ]
    }
   ],
   "source": [
    "def greet_user(username):\n",
    " \"\"\"Display a simple greeting.\"\"\"\n",
    " print(\"Hello, \" + username.title() + \"!\")\n",
    "\n",
    "greet_user('Abdullah')"
   ]
  },
  {
   "cell_type": "markdown",
   "id": "e5d8329f",
   "metadata": {},
   "source": [
    "## Arguments and Parameters"
   ]
  },
  {
   "cell_type": "markdown",
   "id": "78c7aea0",
   "metadata": {},
   "source": [
    "The value 'Abdullah' in greet_user('Abdullah') is an example of an 'Argument'."
   ]
  },
  {
   "cell_type": "markdown",
   "id": "5bd3d71b",
   "metadata": {},
   "source": [
    "In this case the argument 'Abdullah' was passed to the\n",
    "function greet_user(), and the value was stored in the 'Parameter' (username)."
   ]
  },
  {
   "cell_type": "markdown",
   "id": "686fa6e9",
   "metadata": {},
   "source": [
    "# Try It Yourself\n",
    "\n",
    "###  8-1. Message: \n",
    "\n",
    "Write a function called display_message() that prints one sentence telling everyone what you are learning about in this chapter. Call the\n",
    "function, and make sure the message displays correctly."
   ]
  },
  {
   "cell_type": "code",
   "execution_count": 3,
   "id": "327d12f0",
   "metadata": {},
   "outputs": [],
   "source": [
    "def display_message(message):\n",
    "    message = 'In this chapter, we are going to learn about making functions by the help of python'\n",
    "    print(message)"
   ]
  },
  {
   "cell_type": "code",
   "execution_count": 4,
   "id": "c482ff05",
   "metadata": {},
   "outputs": [
    {
     "name": "stdout",
     "output_type": "stream",
     "text": [
      "In this chapter, we are going to learn about making functions by the help of python\n"
     ]
    }
   ],
   "source": [
    "display_message('message')"
   ]
  },
  {
   "cell_type": "markdown",
   "id": "475722e7",
   "metadata": {},
   "source": [
    "### 8-2. Favorite Book: \n",
    "\n",
    "Write a function called favorite_book() that accepts one\n",
    "parameter, title. The function should print a message, such as One of my\n",
    "favorite books is Alice in Wonderland. Call the function, making sure to\n",
    "include a book title as an argument in the function call."
   ]
  },
  {
   "cell_type": "code",
   "execution_count": 5,
   "id": "4903fe09",
   "metadata": {},
   "outputs": [
    {
     "ename": "SyntaxError",
     "evalue": "invalid syntax (Temp/ipykernel_9680/3760461978.py, line 2)",
     "output_type": "error",
     "traceback": [
      "\u001b[1;36m  File \u001b[1;32m\"C:\\Users\\abdul\\AppData\\Local\\Temp/ipykernel_9680/3760461978.py\"\u001b[1;36m, line \u001b[1;32m2\u001b[0m\n\u001b[1;33m    title =  One of my favorite books is Alice in Wonderland.\u001b[0m\n\u001b[1;37m                 ^\u001b[0m\n\u001b[1;31mSyntaxError\u001b[0m\u001b[1;31m:\u001b[0m invalid syntax\n"
     ]
    }
   ],
   "source": [
    "def favorite_book(title):\n",
    "    title =  One of my favorite books is Alice in Wonderland.\n",
    "    print(f'One of my favorite books is {title}')"
   ]
  },
  {
   "cell_type": "code",
   "execution_count": null,
   "id": "0e724763",
   "metadata": {},
   "outputs": [],
   "source": [
    "favorite_book('Alice in Wonderland')"
   ]
  },
  {
   "cell_type": "markdown",
   "id": "63f080ce",
   "metadata": {},
   "source": [
    "# Passing Arguments"
   ]
  },
  {
   "cell_type": "markdown",
   "id": "74882b3d",
   "metadata": {},
   "source": [
    "### Positional Arguments"
   ]
  },
  {
   "cell_type": "code",
   "execution_count": null,
   "id": "0cbe664a",
   "metadata": {},
   "outputs": [],
   "source": [
    "def describe_pet(animal_type, pet_name):\n",
    "    \"\"\"Display information about a pet.\"\"\"\n",
    "    print(\"\\nI have a \" + animal_type + \".\")\n",
    "    print(\"My \" + animal_type + \"'s name is \" + pet_name.title() + \".\")"
   ]
  },
  {
   "cell_type": "code",
   "execution_count": null,
   "id": "cbeecefc",
   "metadata": {},
   "outputs": [],
   "source": [
    "describe_pet('cat', 'Thomas')"
   ]
  },
  {
   "cell_type": "markdown",
   "id": "4ca30a6d",
   "metadata": {},
   "source": [
    "### Multiple Function Calls"
   ]
  },
  {
   "cell_type": "code",
   "execution_count": null,
   "id": "4612bdde",
   "metadata": {},
   "outputs": [],
   "source": [
    "def describe_pet(animal_type, pet_name):\n",
    "    \"\"\"Display information about a pet.\"\"\"\n",
    "    print(\"\\nI have a \" + animal_type + \".\")\n",
    "    print(\"My \" + animal_type + \"'s name is \" + pet_name.title() + \".\")"
   ]
  },
  {
   "cell_type": "code",
   "execution_count": null,
   "id": "0d2bcd36",
   "metadata": {},
   "outputs": [],
   "source": [
    "describe_pet('cat', 'Thomas')\n",
    "describe_pet('dog', 'Spike')"
   ]
  },
  {
   "cell_type": "markdown",
   "id": "99a1557a",
   "metadata": {},
   "source": [
    "### Order Matters in Positional Arguments"
   ]
  },
  {
   "cell_type": "markdown",
   "id": "b7eea5de",
   "metadata": {},
   "source": [
    "In this function call we list the name first and the type of animal second.\n",
    "Because the argument 'Thomas' is listed first this time, that value is stored in\n",
    "the parameter animal_type. Likewise, 'cat' is stored in pet_name. Now we\n",
    "have a “Thomas” named “Cat”:"
   ]
  },
  {
   "cell_type": "code",
   "execution_count": null,
   "id": "ac7382f8",
   "metadata": {},
   "outputs": [],
   "source": [
    "def describe_pet(animal_type, pet_name):\n",
    "    \"\"\"Display information about a pet.\"\"\"\n",
    "    print(\"\\nI have a \" + animal_type + \".\")\n",
    "    print(\"My \" + animal_type + \"'s name is \" + pet_name.title() + \".\")"
   ]
  },
  {
   "cell_type": "code",
   "execution_count": null,
   "id": "1516babd",
   "metadata": {},
   "outputs": [],
   "source": [
    "describe_pet('cat', 'Thomas')"
   ]
  },
  {
   "cell_type": "markdown",
   "id": "d53c35d9",
   "metadata": {},
   "source": [
    "### Keyword Arguments"
   ]
  },
  {
   "cell_type": "code",
   "execution_count": null,
   "id": "63a89e77",
   "metadata": {},
   "outputs": [],
   "source": [
    "def describe_pet(animal_type, pet_name):\n",
    "    \"\"\"Display information about a pet.\"\"\"\n",
    "    print(\"\\nI have a \" + animal_type + \".\")\n",
    "    print(\"My \" + animal_type + \"'s name is \" + pet_name.title() + \".\")"
   ]
  },
  {
   "cell_type": "code",
   "execution_count": null,
   "id": "282fde46",
   "metadata": {},
   "outputs": [],
   "source": [
    "describe_pet(animal_type='cat', pet_name='Thomas')"
   ]
  },
  {
   "cell_type": "code",
   "execution_count": null,
   "id": "4848bcdd",
   "metadata": {},
   "outputs": [],
   "source": [
    "describe_pet(animal_type='cat', pet_name='Thomas')\n",
    "\n",
    "describe_pet(pet_name='Thomas', animal_type='cat')\n",
    "\n",
    "### Note: When you use keyword arguments, be sure to use the exact names of the parameters in the function’s definition."
   ]
  },
  {
   "cell_type": "markdown",
   "id": "571f6c87",
   "metadata": {},
   "source": [
    "### Default Values:"
   ]
  },
  {
   "cell_type": "code",
   "execution_count": null,
   "id": "fc4a65be",
   "metadata": {},
   "outputs": [],
   "source": [
    "def describe_pet(pet_name, animal_type='dog'):\n",
    "    \"\"\"Display information about a pet.\"\"\"\n",
    "    print(\"\\nI have a \" + animal_type + \".\")\n",
    "    print(\"My \" + animal_type + \"'s name is \" + pet_name.title() + \".\")"
   ]
  },
  {
   "cell_type": "code",
   "execution_count": null,
   "id": "5e7a420d",
   "metadata": {},
   "outputs": [],
   "source": [
    "describe_pet(pet_name='Spike')"
   ]
  },
  {
   "cell_type": "code",
   "execution_count": null,
   "id": "a8472ce1",
   "metadata": {},
   "outputs": [],
   "source": [
    "describe_pet(pet_name='Thomas', animal_type='cat')"
   ]
  },
  {
   "cell_type": "markdown",
   "id": "55c41d7a",
   "metadata": {},
   "source": [
    "### Equivalent Function Calls"
   ]
  },
  {
   "cell_type": "code",
   "execution_count": null,
   "id": "c32a1a41",
   "metadata": {},
   "outputs": [],
   "source": [
    "# A dog named Spike.\n",
    "describe_pet('Spike')\n",
    "describe_pet(pet_name='Spike')"
   ]
  },
  {
   "cell_type": "code",
   "execution_count": null,
   "id": "e8c4db06",
   "metadata": {},
   "outputs": [],
   "source": [
    "# A hamster named Harry.\n",
    "describe_pet('Thomas', 'cat')\n",
    "\n",
    "describe_pet(pet_name='Thomas', animal_type='cat')\n",
    "\n",
    "describe_pet(animal_type='cat', pet_name='Thomas')"
   ]
  },
  {
   "cell_type": "markdown",
   "id": "36523ba1",
   "metadata": {},
   "source": [
    "### Avoiding Argument Errors"
   ]
  },
  {
   "cell_type": "code",
   "execution_count": null,
   "id": "1e321657",
   "metadata": {},
   "outputs": [],
   "source": [
    "def describe_pet(animal_type, pet_name):\n",
    "    \"\"\"Display information about a pet.\"\"\"\n",
    "    print(\"\\nI have a \" + animal_type + \".\")\n",
    "    print(\"My \" + animal_type + \"'s name is \" + pet_name.title() + \".\")"
   ]
  },
  {
   "cell_type": "code",
   "execution_count": null,
   "id": "f4ec6ade",
   "metadata": {},
   "outputs": [],
   "source": [
    "describe_pet()"
   ]
  },
  {
   "cell_type": "markdown",
   "id": "fd3b590b",
   "metadata": {},
   "source": [
    "# Try It Yourself\n",
    "\n",
    "### 8-3. T-Shirt: \n",
    "\n",
    "Write a function called make_shirt() that accepts a size and the\n",
    "text of a message that should be printed on the shirt. The function should print\n",
    "a sentence summarizing the size of the shirt and the message printed on it.\n",
    "Call the function once using positional arguments to make a shirt. Call the\n",
    "function a second time using keyword arguments."
   ]
  },
  {
   "cell_type": "code",
   "execution_count": null,
   "id": "933ec705",
   "metadata": {},
   "outputs": [],
   "source": []
  },
  {
   "cell_type": "markdown",
   "id": "cbcd4bc0",
   "metadata": {},
   "source": [
    "### 8-4. Large Shirts: \n",
    "\n",
    "Modify the make_shirt() function so that shirts are large\n",
    "by default with a message that reads I love Python. Make a large shirt and a\n",
    "medium shirt with the default message, and a shirt of any size with a different\n",
    "message."
   ]
  },
  {
   "cell_type": "code",
   "execution_count": null,
   "id": "90a2b6bc",
   "metadata": {},
   "outputs": [],
   "source": []
  },
  {
   "cell_type": "markdown",
   "id": "bea1cc8a",
   "metadata": {},
   "source": [
    "### 8-5. Cities: \n",
    "\n",
    "Write a function called describe_city() that accepts the name of\n",
    "a city and its country. The function should print a simple sentence, such as\n",
    "Reykjavik is in Iceland. Give the parameter for the country a default value.\n",
    "Call your function for three different cities, at least one of which is not in the\n",
    "default country"
   ]
  },
  {
   "cell_type": "code",
   "execution_count": null,
   "id": "76b13f40",
   "metadata": {},
   "outputs": [],
   "source": []
  },
  {
   "cell_type": "markdown",
   "id": "977879b2",
   "metadata": {},
   "source": [
    "# Return Values"
   ]
  },
  {
   "cell_type": "markdown",
   "id": "2f46ecfb",
   "metadata": {},
   "source": [
    "A function doesn’t always have to display its output directly. Instead, it can\n",
    "process some data and then return a value or set of values. The value the\n",
    "function returns is called a return value. The return statement takes a value\n",
    "from inside a function and sends it back to the line that called the function.\n",
    "Return values allow you to move much of your program’s grunt work into\n",
    "functions, which can simplify the body of your program."
   ]
  },
  {
   "cell_type": "markdown",
   "id": "032f97ce",
   "metadata": {},
   "source": [
    "### Returning a Simple Value"
   ]
  },
  {
   "cell_type": "code",
   "execution_count": null,
   "id": "b682fe95",
   "metadata": {},
   "outputs": [],
   "source": [
    "def favorite_musician(first_name, last_name):\n",
    "    \"\"\"Return a full name, neatly formatted.\"\"\"\n",
    "    full_name = first_name + ' ' + last_name\n",
    "    return full_name.title()"
   ]
  },
  {
   "cell_type": "code",
   "execution_count": null,
   "id": "4d9ed859",
   "metadata": {},
   "outputs": [],
   "source": [
    "musician = favorite_musician('Duncan', 'James')\n",
    "print(f'My favorite musician is {musician}')"
   ]
  },
  {
   "cell_type": "markdown",
   "id": "dd07a7d3",
   "metadata": {},
   "source": [
    "### Making an Argument Optional\n"
   ]
  },
  {
   "cell_type": "code",
   "execution_count": null,
   "id": "2bb7be62",
   "metadata": {},
   "outputs": [],
   "source": [
    "def favorite_musician(first_name, middle_name, last_name):\n",
    "    \"\"\"Return a full name, neatly formatted.\"\"\"\n",
    "    full_name = first_name + ' ' + middle_name + ' ' + last_name\n",
    "    return full_name.title()"
   ]
  },
  {
   "cell_type": "code",
   "execution_count": null,
   "id": "58f4e108",
   "metadata": {},
   "outputs": [],
   "source": [
    "musician = favorite_musician('Duncan','Inglis','James')\n",
    "print(f'My favorite musician is {musician}')"
   ]
  },
  {
   "cell_type": "code",
   "execution_count": null,
   "id": "149daeff",
   "metadata": {},
   "outputs": [],
   "source": [
    "def favorite_singer(first_name, last_name, middle_name=''):\n",
    "    \"\"\"Return a full name, neatly formatted.\"\"\"\n",
    "    if middle_name:\n",
    "        full_name = first_name + ' ' + middle_name + ' ' + last_name\n",
    "        return full_name\n",
    "    else:\n",
    "        full_name = first_name + ' ' + last_name\n",
    "        return full_name.title()"
   ]
  },
  {
   "cell_type": "markdown",
   "id": "96189084",
   "metadata": {},
   "source": [
    "##### with no middle name:"
   ]
  },
  {
   "cell_type": "code",
   "execution_count": null,
   "id": "701fd910",
   "metadata": {},
   "outputs": [],
   "source": [
    "musician = favorite_singer('Duncan', 'James')\n",
    "print(f'My favorite musician is {musician}')"
   ]
  },
  {
   "cell_type": "markdown",
   "id": "343611bf",
   "metadata": {},
   "source": [
    "##### with middle name:"
   ]
  },
  {
   "cell_type": "code",
   "execution_count": null,
   "id": "2f78b829",
   "metadata": {},
   "outputs": [],
   "source": [
    "musician = favorite_singer('Duncan','Inglis','James')\n",
    "print(f'My favorite musician is {musician}')"
   ]
  },
  {
   "cell_type": "markdown",
   "id": "3a082e1d",
   "metadata": {},
   "source": [
    "## Returning a Dictionary"
   ]
  },
  {
   "cell_type": "code",
   "execution_count": null,
   "id": "5505c437",
   "metadata": {},
   "outputs": [],
   "source": [
    "def build_person(first_name, last_name):\n",
    "    \"\"\"Return a dictionary of information about a person.\"\"\"\n",
    "    person = {'first': first_name, 'last': last_name}\n",
    "    return person"
   ]
  },
  {
   "cell_type": "code",
   "execution_count": null,
   "id": "53d761d0",
   "metadata": {},
   "outputs": [],
   "source": [
    "build_person('Abdullah','Jaffrey')"
   ]
  },
  {
   "cell_type": "code",
   "execution_count": null,
   "id": "0fcc0a2e",
   "metadata": {},
   "outputs": [],
   "source": [
    "def build_person(first_name, last_name, age=' '):\n",
    "    \"\"\"Return a dictionary of information about a person.\"\"\"\n",
    "    person = {'first': first_name, 'last': last_name}\n",
    "    if age:\n",
    "        person['age'] = age\n",
    "        return person\n",
    "    else:\n",
    "        return person"
   ]
  },
  {
   "cell_type": "markdown",
   "id": "4453a2f5",
   "metadata": {},
   "source": [
    "##### with age"
   ]
  },
  {
   "cell_type": "code",
   "execution_count": null,
   "id": "86d3f837",
   "metadata": {},
   "outputs": [],
   "source": [
    "build_person('Abdullah','Jaffrey',22)"
   ]
  },
  {
   "cell_type": "markdown",
   "id": "a8ba99f8",
   "metadata": {},
   "source": [
    "##### with no age:"
   ]
  },
  {
   "cell_type": "code",
   "execution_count": null,
   "id": "e10c3b3d",
   "metadata": {},
   "outputs": [],
   "source": [
    "build_person('Abdullah','Jaffrey')"
   ]
  },
  {
   "cell_type": "markdown",
   "id": "6e24754a",
   "metadata": {},
   "source": [
    "### Using a Function with a while Loop"
   ]
  },
  {
   "cell_type": "code",
   "execution_count": null,
   "id": "17afa52a",
   "metadata": {},
   "outputs": [],
   "source": [
    "def get_formatted_name(first_name, last_name):\n",
    "    \"\"\"Return a full name, neatly formatted.\"\"\"\n",
    "    full_name = first_name + ' ' + last_name\n",
    "    return full_name.title()\n",
    "\n",
    "# This is an infinite loop!\n",
    "while True:\n",
    "    print(\"\\nPlease tell me your name:\")\n",
    "    f_name = input(\"First name: \")\n",
    "    l_name = input(\"Last name: \")"
   ]
  },
  {
   "cell_type": "code",
   "execution_count": null,
   "id": "59bcc8f6",
   "metadata": {},
   "outputs": [],
   "source": [
    "formatted_name = get_formatted_name(f_name, l_name)\n",
    "print(\"\\nHello, \" + formatted_name + \"!\")"
   ]
  },
  {
   "cell_type": "markdown",
   "id": "5add1069",
   "metadata": {},
   "source": [
    "### To perform the whole function, we must stop while from taking infinite number of inputs"
   ]
  },
  {
   "cell_type": "code",
   "execution_count": null,
   "id": "885dae22",
   "metadata": {},
   "outputs": [],
   "source": [
    "def get_formatted_name(first_name, last_name):\n",
    "    \"\"\"Return a full name, neatly formatted.\"\"\"\n",
    "    full_name = first_name + ' ' + last_name\n",
    "    return full_name.title()\n",
    "\n",
    "while True:\n",
    "    print(\"\\nPlease tell me your name:\")\n",
    "    print(\"(enter 'q' at any time to quit)\")\n",
    "    f_name = input(\"First name: \")\n",
    "    if f_name == 'q':\n",
    "        break\n",
    "    l_name = input(\"Last name: \")\n",
    "    if l_name == 'q': \n",
    "        break"
   ]
  },
  {
   "cell_type": "code",
   "execution_count": null,
   "id": "e6edc3e1",
   "metadata": {},
   "outputs": [],
   "source": [
    "formatted_name = get_formatted_name(f_name, l_name)\n",
    "print(\"\\nHello, \" + formatted_name + \"!\")"
   ]
  },
  {
   "cell_type": "markdown",
   "id": "1f63c6c2",
   "metadata": {},
   "source": [
    "# Try It Yourself \n",
    "\n",
    "### 8-6. City Names: Write a function called city_country() that takes in the name\n",
    "of a city and its country. The function should return a string formatted like this:\n",
    "\n",
    "----------------------\n",
    "###### \"Santiago, Chile\"\n",
    "----------------------\n",
    "\n",
    "Call your function with at least three city-country pairs, and print the value\n",
    "that’s returned."
   ]
  },
  {
   "cell_type": "code",
   "execution_count": null,
   "id": "061a5e8e",
   "metadata": {},
   "outputs": [],
   "source": [
    "def city_country(city,country):\n",
    "    return f' \"{city}, {country}\" '"
   ]
  },
  {
   "cell_type": "code",
   "execution_count": null,
   "id": "31ae8184",
   "metadata": {},
   "outputs": [],
   "source": [
    "print(city_country('Karachi','Pakistan'))\n",
    "print(city_country('Sydney','Australia'))\n",
    "print(city_country('Stockholm','Sweden'))\n",
    "print(city_country('Newyork','US'))"
   ]
  },
  {
   "cell_type": "markdown",
   "id": "08fdb974",
   "metadata": {},
   "source": [
    "### 8-7. Album: \n",
    "\n",
    "Write a function called make_album() that builds a dictionary\n",
    "describing a music album. The function should take in an artist name and an\n",
    "album title, and it should return a dictionary containing these two pieces of\n",
    "information. Use the function to make three dictionaries representing different\n",
    "albums. Print each return value to show that the dictionaries are storing the\n",
    "album information correctly\n",
    "\n",
    "Add an optional parameter to make_album() that allows you to store the\n",
    "number of tracks on an album. If the calling line includes a value for the number of tracks, add that value to the album’s dictionary. Make at least one new\n",
    "function call that includes the number of tracks on an album"
   ]
  },
  {
   "cell_type": "code",
   "execution_count": null,
   "id": "ca220a27",
   "metadata": {},
   "outputs": [],
   "source": [
    "def make_album(artist_name, album_title, album_track=' '):\n",
    "    return {'artist name':artist_name, 'album title':album_title, album_track: ' '}"
   ]
  },
  {
   "cell_type": "code",
   "execution_count": null,
   "id": "773f0c1d",
   "metadata": {},
   "outputs": [],
   "source": [
    "print(make_album('Farhan Saeed', 'Boondh','Sajni'))\n",
    "print(make_album('Duncan Lawrance','Loving You is a Losing Game'))\n",
    "print(make_album('Dylan Matthew', 'Love Is Gone' ))"
   ]
  },
  {
   "cell_type": "markdown",
   "id": "a8b43564",
   "metadata": {},
   "source": [
    "### 8-8. User Albums: \n",
    "\n",
    "Start with your program from Exercise 8-7. Write a while\n",
    "loop that allows users to enter an album’s artist and title. Once you have that\n",
    "information, call make_album() with the user’s input and print the dictionary\n",
    "that’s created. Be sure to include a quit value in the while loop"
   ]
  },
  {
   "cell_type": "code",
   "execution_count": 15,
   "id": "8dfecbe4",
   "metadata": {},
   "outputs": [],
   "source": [
    "def make_album():\n",
    "    artist_name = input('Enter your favorite artist or press \"q\" to exit: ')\n",
    "    album_title = input('Enter your favorite album or press \"q\" to exit: ')\n",
    "    album_track = input('Enter your favorite track or press \"q\" to exit: ')\n",
    "    flag = True\n",
    "    while flag:\n",
    "        if artist_name == 'q':\n",
    "            break\n",
    "        if album_title == 'q':\n",
    "            break\n",
    "        if album_track == 'q':\n",
    "            break\n",
    "        else:\n",
    "            return {'artist name':artist_name, 'album title':album_title, 'album track':album_track}\n",
    "    else:\n",
    "        flag = False"
   ]
  },
  {
   "cell_type": "code",
   "execution_count": 17,
   "id": "2d82fb31",
   "metadata": {},
   "outputs": [
    {
     "ename": "KeyboardInterrupt",
     "evalue": "Interrupted by user",
     "output_type": "error",
     "traceback": [
      "\u001b[1;31m---------------------------------------------------------------------------\u001b[0m",
      "\u001b[1;31mKeyboardInterrupt\u001b[0m                         Traceback (most recent call last)",
      "\u001b[1;32m~\\AppData\\Local\\Temp/ipykernel_9680/637527266.py\u001b[0m in \u001b[0;36m<module>\u001b[1;34m\u001b[0m\n\u001b[1;32m----> 1\u001b[1;33m \u001b[0mmake_album\u001b[0m\u001b[1;33m(\u001b[0m\u001b[1;33m)\u001b[0m\u001b[1;33m\u001b[0m\u001b[1;33m\u001b[0m\u001b[0m\n\u001b[0m",
      "\u001b[1;32m~\\AppData\\Local\\Temp/ipykernel_9680/3421777069.py\u001b[0m in \u001b[0;36mmake_album\u001b[1;34m()\u001b[0m\n\u001b[0;32m      1\u001b[0m \u001b[1;32mdef\u001b[0m \u001b[0mmake_album\u001b[0m\u001b[1;33m(\u001b[0m\u001b[1;33m)\u001b[0m\u001b[1;33m:\u001b[0m\u001b[1;33m\u001b[0m\u001b[1;33m\u001b[0m\u001b[0m\n\u001b[1;32m----> 2\u001b[1;33m     \u001b[0martist_name\u001b[0m \u001b[1;33m=\u001b[0m \u001b[0minput\u001b[0m\u001b[1;33m(\u001b[0m\u001b[1;34m'Enter your favorite artist or press \"q\" to exit: '\u001b[0m\u001b[1;33m)\u001b[0m\u001b[1;33m\u001b[0m\u001b[1;33m\u001b[0m\u001b[0m\n\u001b[0m\u001b[0;32m      3\u001b[0m     \u001b[0malbum_title\u001b[0m \u001b[1;33m=\u001b[0m \u001b[0minput\u001b[0m\u001b[1;33m(\u001b[0m\u001b[1;34m'Enter your favorite album or press \"q\" to exit: '\u001b[0m\u001b[1;33m)\u001b[0m\u001b[1;33m\u001b[0m\u001b[1;33m\u001b[0m\u001b[0m\n\u001b[0;32m      4\u001b[0m     \u001b[0malbum_track\u001b[0m \u001b[1;33m=\u001b[0m \u001b[0minput\u001b[0m\u001b[1;33m(\u001b[0m\u001b[1;34m'Enter your favorite track or press \"q\" to exit: '\u001b[0m\u001b[1;33m)\u001b[0m\u001b[1;33m\u001b[0m\u001b[1;33m\u001b[0m\u001b[0m\n\u001b[0;32m      5\u001b[0m     \u001b[0mflag\u001b[0m \u001b[1;33m=\u001b[0m \u001b[1;32mTrue\u001b[0m\u001b[1;33m\u001b[0m\u001b[1;33m\u001b[0m\u001b[0m\n",
      "\u001b[1;32mC:\\ProgramData\\Anaconda3\\lib\\site-packages\\ipykernel\\kernelbase.py\u001b[0m in \u001b[0;36mraw_input\u001b[1;34m(self, prompt)\u001b[0m\n\u001b[0;32m   1004\u001b[0m                 \u001b[1;34m\"raw_input was called, but this frontend does not support input requests.\"\u001b[0m\u001b[1;33m\u001b[0m\u001b[1;33m\u001b[0m\u001b[0m\n\u001b[0;32m   1005\u001b[0m             )\n\u001b[1;32m-> 1006\u001b[1;33m         return self._input_request(\n\u001b[0m\u001b[0;32m   1007\u001b[0m             \u001b[0mstr\u001b[0m\u001b[1;33m(\u001b[0m\u001b[0mprompt\u001b[0m\u001b[1;33m)\u001b[0m\u001b[1;33m,\u001b[0m\u001b[1;33m\u001b[0m\u001b[1;33m\u001b[0m\u001b[0m\n\u001b[0;32m   1008\u001b[0m             \u001b[0mself\u001b[0m\u001b[1;33m.\u001b[0m\u001b[0m_parent_ident\u001b[0m\u001b[1;33m[\u001b[0m\u001b[1;34m\"shell\"\u001b[0m\u001b[1;33m]\u001b[0m\u001b[1;33m,\u001b[0m\u001b[1;33m\u001b[0m\u001b[1;33m\u001b[0m\u001b[0m\n",
      "\u001b[1;32mC:\\ProgramData\\Anaconda3\\lib\\site-packages\\ipykernel\\kernelbase.py\u001b[0m in \u001b[0;36m_input_request\u001b[1;34m(self, prompt, ident, parent, password)\u001b[0m\n\u001b[0;32m   1049\u001b[0m             \u001b[1;32mexcept\u001b[0m \u001b[0mKeyboardInterrupt\u001b[0m\u001b[1;33m:\u001b[0m\u001b[1;33m\u001b[0m\u001b[1;33m\u001b[0m\u001b[0m\n\u001b[0;32m   1050\u001b[0m                 \u001b[1;31m# re-raise KeyboardInterrupt, to truncate traceback\u001b[0m\u001b[1;33m\u001b[0m\u001b[1;33m\u001b[0m\u001b[0m\n\u001b[1;32m-> 1051\u001b[1;33m                 \u001b[1;32mraise\u001b[0m \u001b[0mKeyboardInterrupt\u001b[0m\u001b[1;33m(\u001b[0m\u001b[1;34m\"Interrupted by user\"\u001b[0m\u001b[1;33m)\u001b[0m \u001b[1;32mfrom\u001b[0m \u001b[1;32mNone\u001b[0m\u001b[1;33m\u001b[0m\u001b[1;33m\u001b[0m\u001b[0m\n\u001b[0m\u001b[0;32m   1052\u001b[0m             \u001b[1;32mexcept\u001b[0m \u001b[0mException\u001b[0m\u001b[1;33m:\u001b[0m\u001b[1;33m\u001b[0m\u001b[1;33m\u001b[0m\u001b[0m\n\u001b[0;32m   1053\u001b[0m                 \u001b[0mself\u001b[0m\u001b[1;33m.\u001b[0m\u001b[0mlog\u001b[0m\u001b[1;33m.\u001b[0m\u001b[0mwarning\u001b[0m\u001b[1;33m(\u001b[0m\u001b[1;34m\"Invalid Message:\"\u001b[0m\u001b[1;33m,\u001b[0m \u001b[0mexc_info\u001b[0m\u001b[1;33m=\u001b[0m\u001b[1;32mTrue\u001b[0m\u001b[1;33m)\u001b[0m\u001b[1;33m\u001b[0m\u001b[1;33m\u001b[0m\u001b[0m\n",
      "\u001b[1;31mKeyboardInterrupt\u001b[0m: Interrupted by user"
     ]
    }
   ],
   "source": [
    "make_album()"
   ]
  },
  {
   "cell_type": "markdown",
   "id": "c5f4f4a5",
   "metadata": {},
   "source": [
    "### Passing a List"
   ]
  },
  {
   "cell_type": "code",
   "execution_count": 19,
   "id": "a8b65b3f",
   "metadata": {},
   "outputs": [
    {
     "name": "stdout",
     "output_type": "stream",
     "text": [
      "Hello, Hannah!\n",
      "Hello, Robert!\n",
      "Hello, Margot!\n"
     ]
    }
   ],
   "source": [
    "def greet_users(names):\n",
    "    \"\"\"Print a simple greeting to each user in the list.\"\"\"\n",
    "    for name in names:\n",
    "        msg = \"Hello, \" + name.title() + \"!\"\n",
    "        print(msg)\n",
    "\n",
    "        \n",
    "usernames = ['hannah', 'robert', 'margot']\n",
    "greet_users(usernames)"
   ]
  },
  {
   "cell_type": "markdown",
   "id": "b6a552e1",
   "metadata": {},
   "source": [
    "### Modifying a List in a Function"
   ]
  },
  {
   "cell_type": "code",
   "execution_count": 21,
   "id": "90bc3571",
   "metadata": {},
   "outputs": [
    {
     "name": "stdout",
     "output_type": "stream",
     "text": [
      "Printing model: dodecahedron\n",
      "Printing model: robot pendant\n",
      "Printing model: iphone case\n",
      "\n",
      "The following models have been printed:\n",
      "dodecahedron\n",
      "robot pendant\n",
      "iphone case\n"
     ]
    }
   ],
   "source": [
    "unprinted_designs = ['iphone case', 'robot pendant', 'dodecahedron']\n",
    "completed_models = []\n",
    "\n",
    "while unprinted_designs:\n",
    "    current_design = unprinted_designs.pop()\n",
    "    print(\"Printing model: \" + current_design)\n",
    "    completed_models.append(current_design)\n",
    "\n",
    "print(\"\\nThe following models have been printed:\")\n",
    "for completed_model in completed_models:\n",
    "    print(completed_model)"
   ]
  },
  {
   "cell_type": "markdown",
   "id": "c3811309",
   "metadata": {},
   "source": [
    "### Preventing a Function from Modifying a List\n"
   ]
  },
  {
   "cell_type": "code",
   "execution_count": 23,
   "id": "3d3977fd",
   "metadata": {},
   "outputs": [
    {
     "name": "stdout",
     "output_type": "stream",
     "text": [
      "[] ['dodecahedron', 'robot pendant', 'iphone case']\n"
     ]
    }
   ],
   "source": [
    "print(unprinted_designs[:], completed_models)"
   ]
  },
  {
   "cell_type": "code",
   "execution_count": 24,
   "id": "2a5fc444",
   "metadata": {},
   "outputs": [],
   "source": [
    "#50% done"
   ]
  }
 ],
 "metadata": {
  "kernelspec": {
   "display_name": "Python 3 (ipykernel)",
   "language": "python",
   "name": "python3"
  },
  "language_info": {
   "codemirror_mode": {
    "name": "ipython",
    "version": 3
   },
   "file_extension": ".py",
   "mimetype": "text/x-python",
   "name": "python",
   "nbconvert_exporter": "python",
   "pygments_lexer": "ipython3",
   "version": "3.9.7"
  }
 },
 "nbformat": 4,
 "nbformat_minor": 5
}
