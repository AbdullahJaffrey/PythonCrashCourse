{
 "cells": [
  {
   "cell_type": "markdown",
   "id": "4c500e80",
   "metadata": {},
   "source": [
    "# If Statements:\n",
    "    \n",
    "If Statements help us check the possibility and generate the result accordingly."
   ]
  },
  {
   "cell_type": "markdown",
   "id": "47b15bb5",
   "metadata": {},
   "source": [
    "#### A Simple Example"
   ]
  },
  {
   "cell_type": "code",
   "execution_count": 1,
   "id": "7e05c09f",
   "metadata": {},
   "outputs": [],
   "source": [
    "name = ['Abdullah','Noah','Jibreel']"
   ]
  },
  {
   "cell_type": "code",
   "execution_count": 2,
   "id": "8fcdb61f",
   "metadata": {},
   "outputs": [
    {
     "name": "stdout",
     "output_type": "stream",
     "text": [
      "Hello Abdullah\n"
     ]
    }
   ],
   "source": [
    "if 'Abdullah' in name:\n",
    "    print('Hello Abdullah')\n",
    "else:\n",
    "    print('Abdullah isnt here in the list!')"
   ]
  },
  {
   "cell_type": "markdown",
   "id": "37e47710",
   "metadata": {},
   "source": [
    "#### Checking for Equality"
   ]
  },
  {
   "cell_type": "code",
   "execution_count": 3,
   "id": "ba43a952",
   "metadata": {},
   "outputs": [
    {
     "name": "stdout",
     "output_type": "stream",
     "text": [
      "Hello Abdullah\n"
     ]
    }
   ],
   "source": [
    "if name[0] == 'Abdullah':\n",
    "    print('Hello Abdullah')\n",
    "else:\n",
    "    print('Abdullah isnt here in the list!')"
   ]
  },
  {
   "cell_type": "markdown",
   "id": "11948da0",
   "metadata": {},
   "source": [
    "#### Ignoring Case When Checking for Equality"
   ]
  },
  {
   "cell_type": "code",
   "execution_count": 4,
   "id": "9fcb5df9",
   "metadata": {},
   "outputs": [
    {
     "name": "stdout",
     "output_type": "stream",
     "text": [
      "Hello Abdullah\n"
     ]
    }
   ],
   "source": [
    "if name[0] == 'abdullah' or 'Abdullah':\n",
    "    print('Hello Abdullah')\n",
    "else:\n",
    "    print('Abdullah isnt here in the list!')"
   ]
  },
  {
   "cell_type": "markdown",
   "id": "9eab1d22",
   "metadata": {},
   "source": [
    "#### Checking for Inequality"
   ]
  },
  {
   "cell_type": "code",
   "execution_count": 5,
   "id": "89aee18b",
   "metadata": {},
   "outputs": [
    {
     "name": "stdout",
     "output_type": "stream",
     "text": [
      "Hello Abdullah\n"
     ]
    }
   ],
   "source": [
    "if name[0] != 'Abdullah':\n",
    "    print('Abdullah isnt here in the list!')\n",
    "else:\n",
    "    print('Hello Abdullah')"
   ]
  },
  {
   "cell_type": "markdown",
   "id": "676801c8",
   "metadata": {},
   "source": [
    "#### Numerical Comparisons"
   ]
  },
  {
   "cell_type": "code",
   "execution_count": 6,
   "id": "9d5b21be",
   "metadata": {},
   "outputs": [
    {
     "name": "stdout",
     "output_type": "stream",
     "text": [
      "Enter your age: 16\n",
      "Teen\n"
     ]
    }
   ],
   "source": [
    "age = int(input('Enter your age: '))\n",
    "\n",
    "if age >= 18:\n",
    "    print('Adult')\n",
    "else:\n",
    "    print('Teen')"
   ]
  },
  {
   "cell_type": "markdown",
   "id": "0fe97401",
   "metadata": {},
   "source": [
    "#### Checking Multiple Conditions"
   ]
  },
  {
   "cell_type": "code",
   "execution_count": 7,
   "id": "f74510b4",
   "metadata": {},
   "outputs": [
    {
     "name": "stdout",
     "output_type": "stream",
     "text": [
      "Enter your age: 23\n"
     ]
    },
    {
     "data": {
      "text/plain": [
       "True"
      ]
     },
     "execution_count": 7,
     "metadata": {},
     "output_type": "execute_result"
    }
   ],
   "source": [
    "age = int(input('Enter your age: '))\n",
    "\n",
    "age == 18 or age > 18"
   ]
  },
  {
   "cell_type": "markdown",
   "id": "046eff42",
   "metadata": {},
   "source": [
    "# Try It Yourself\n",
    "5-1. Conditional Tests: \n",
    "\n",
    "Write a series of conditional tests. Print a statement\n",
    "describing each test and your prediction for the results of each test. Your code\n",
    "should look something like this:\n",
    "\n",
    "car = 'subaru'\n",
    "\n",
    "print(\"Is car == 'subaru'? I predict True.\")\n",
    "\n",
    "print(car == 'subaru')\n",
    "\n",
    "print(\"Is car == 'audi'? I predict False.\")\n",
    "\n",
    "print(car == 'audi')\n",
    "\n",
    "• Look closely at your results, and make sure you understand why each line\n",
    "evaluates to True or False.\n",
    "\n",
    "• Create at least 10 tests. Have at least 5 tests evaluate to True and another\n",
    "5 tests evaluate to False.\n"
   ]
  },
  {
   "cell_type": "code",
   "execution_count": 8,
   "id": "db3a6cf1",
   "metadata": {},
   "outputs": [
    {
     "name": "stdout",
     "output_type": "stream",
     "text": [
      "Is motocycle == 'Honda'?\n",
      "True\n",
      "Is motocycle == 'Suzuki'?\n",
      "False\n",
      "\n",
      "\n",
      "Is city == 'Islamabad'? \n",
      "False\n",
      "Is city == 'Karachi'? \n",
      "True\n",
      "\n",
      "\n",
      "Is country == 'UK'?\n",
      "False\n",
      "Is country == 'Pakistan'?\n",
      "True\n",
      "\n",
      "\n",
      "Is flag == 'Red'?\n",
      "False\n",
      "Is flag == 'Green'?\n",
      "True\n",
      "\n",
      "\n",
      "Is founder == 'Liaquat Ali Khan'?\n",
      "False\n",
      "Is founder == 'Quaid e Azam'?\n",
      "True\n",
      "\n",
      "\n",
      "Is language == 'English'?\n",
      "False\n",
      "Is language == 'Urdu'?\n",
      "True\n",
      "\n",
      "\n",
      "Is university == 'Karachi University'?\n",
      "True\n",
      "Is university == 'Federal University'?\n",
      "False\n",
      "\n",
      "\n",
      "Is dept == 'Sociology'?\n",
      "False\n",
      "Is dept == 'UBIT'?\n",
      "True\n",
      "\n",
      "\n",
      "Is truck == 'Volkswagen'?\n",
      "False\n",
      "Is truck == 'Ford'?\n",
      "True\n",
      "\n",
      "\n",
      "Is fav_country = 'US'?\n",
      "False\n",
      "Is fav_country = 'UK'?\n",
      "True\n"
     ]
    }
   ],
   "source": [
    "motocycle = 'Honda'\n",
    "\n",
    "print(\"Is motocycle == 'Honda'?\")\n",
    "\n",
    "print(motocycle == 'Honda')\n",
    "\n",
    "print(\"Is motocycle == 'Suzuki'?\")\n",
    "\n",
    "print(motocycle == 'Suzuki')\n",
    "\n",
    "print('\\n')\n",
    "\n",
    "\n",
    "city = 'Karachi'\n",
    "\n",
    "print(\"Is city == 'Islamabad'? \")\n",
    "\n",
    "print(city == 'Islamabad')\n",
    "\n",
    "print(\"Is city == 'Karachi'? \")\n",
    "\n",
    "print(city == 'Karachi')\n",
    "\n",
    "print('\\n')\n",
    "\n",
    "\n",
    "country = 'Pakistan'\n",
    "\n",
    "print(\"Is country == 'UK'?\")\n",
    "\n",
    "print(country == 'UK')\n",
    "\n",
    "print(\"Is country == 'Pakistan'?\")\n",
    "\n",
    "print(country == 'Pakistan')\n",
    "\n",
    "print('\\n')\n",
    "\n",
    "\n",
    "\n",
    "flag :str = 'Green'\n",
    "\n",
    "\n",
    "print(\"Is flag == 'Red'?\")\n",
    "\n",
    "print(flag == 'Red')\n",
    "\n",
    "print(\"Is flag == 'Green'?\")\n",
    "\n",
    "print(flag == 'Green')\n",
    "\n",
    "print('\\n')\n",
    "\n",
    "\n",
    "\n",
    "founder = 'Quaid e Azam'\n",
    "\n",
    "print(\"Is founder == 'Liaquat Ali Khan'?\")\n",
    "\n",
    "print(founder == 'Liaquat Ali Khan')\n",
    "\n",
    "print(\"Is founder == 'Quaid e Azam'?\")\n",
    "\n",
    "print(founder == 'Quaid e Azam')\n",
    "\n",
    "print('\\n')\n",
    "\n",
    "\n",
    "language = 'Urdu'\n",
    "\n",
    "print(\"Is language == 'English'?\")\n",
    "\n",
    "print(language == 'English')\n",
    "\n",
    "print(\"Is language == 'Urdu'?\")\n",
    "\n",
    "print(language == 'Urdu')\n",
    "\n",
    "print('\\n')\n",
    "\n",
    "\n",
    "\n",
    "\n",
    "university = 'Karachi University'\n",
    "\n",
    "print(\"Is university == 'Karachi University'?\")\n",
    "\n",
    "print(university == 'Karachi University')\n",
    "\n",
    "print(\"Is university == 'Federal University'?\")\n",
    "\n",
    "print(university == 'Federal University')\n",
    "\n",
    "print('\\n')\n",
    "\n",
    "\n",
    "\n",
    "\n",
    "dept = 'UBIT'\n",
    "\n",
    "print(\"Is dept == 'Sociology'?\")\n",
    "\n",
    "print(dept == 'Sociology')\n",
    "\n",
    "print(\"Is dept == 'UBIT'?\")\n",
    "\n",
    "print(dept == 'UBIT')\n",
    "\n",
    "print('\\n')\n",
    "\n",
    "\n",
    "\n",
    "truck = 'Ford'\n",
    "\n",
    "print(\"Is truck == 'Volkswagen'?\")\n",
    "\n",
    "print(truck == 'Volkswagen')\n",
    "\n",
    "print(\"Is truck == 'Ford'?\")\n",
    "\n",
    "print(truck == 'Ford')\n",
    "\n",
    "print('\\n')\n",
    "\n",
    "\n",
    "\n",
    "fav_country = 'UK'\n",
    "\n",
    "print(\"Is fav_country = 'US'?\")\n",
    "\n",
    "print(fav_country == 'US')\n",
    "\n",
    "print(\"Is fav_country = 'UK'?\")\n",
    "\n",
    "print(fav_country == 'UK')\n"
   ]
  },
  {
   "cell_type": "markdown",
   "id": "01791b14",
   "metadata": {},
   "source": [
    "# \n",
    "5-2. More Conditional Tests: \n",
    "    \n",
    "You don’t have to limit the number of tests you\n",
    "create to 10. If you want to try more comparisons, write more tests and add\n",
    "them to conditional_tests.py. Have at least one True and one False result for\n",
    "each of the following:\n",
    "\n",
    "• Tests for equality and inequality with strings\n",
    "\n",
    "• Tests using the lower() function\n",
    "\n",
    "• Numerical tests involving equality and inequality, greater than and\n",
    "less than, greater than or equal to, and less than or equal to\n",
    "\n",
    "• Tests using the and keyword and the or keyword\n",
    "\n",
    "• Test whether an item is in a list\n",
    "\n",
    "• Test whether an item is not in a list"
   ]
  },
  {
   "cell_type": "code",
   "execution_count": 9,
   "id": "2689bce0",
   "metadata": {},
   "outputs": [
    {
     "name": "stdout",
     "output_type": "stream",
     "text": [
      "Is fav_country = 'US'?\n",
      "False\n",
      "Is fav_country = 'UK'?\n",
      "True\n",
      "\n",
      "\n",
      "Is fav_country = 'US'?\n",
      "False\n",
      "Is fav_country = 'UK'?\n",
      "True\n",
      "\n",
      "\n",
      "Is num == '1'?\n",
      "True\n",
      "Is num < 1?\n",
      "False\n",
      "Is num > 1?\n",
      "False\n",
      "\n",
      "\n",
      "Is fav_country = 'US' and 'UK'?\n",
      "False\n",
      "Is fav_country = 'UK' or 'KSA'?\n",
      "True\n"
     ]
    }
   ],
   "source": [
    "fav_country = ['UK', 'KSA']\n",
    "\n",
    "print(\"Is fav_country = 'US'?\")\n",
    "print('US' in fav_country)\n",
    "\n",
    "print(\"Is fav_country = 'UK'?\")\n",
    "print('UK' in fav_country)\n",
    "\n",
    "print('\\n')\n",
    "\n",
    "\n",
    "fav_country = ['uk', 'ksa']\n",
    "\n",
    "print(\"Is fav_country = 'US'?\")\n",
    "print('US'.lower() in fav_country)\n",
    "\n",
    "print(\"Is fav_country = 'UK'?\")\n",
    "print('UK'.lower() in fav_country)\n",
    "\n",
    "print('\\n')\n",
    "\n",
    "\n",
    "num = 1\n",
    "print(\"Is num == '1'?\")\n",
    "print(num == 1)\n",
    "\n",
    "print(\"Is num < 1?\")\n",
    "print(num < 1)\n",
    "\n",
    "print(\"Is num > 1?\")\n",
    "print(num > 1)\n",
    "\n",
    "print('\\n')\n",
    "\n",
    "\n",
    "fav_country = ['UK', 'KSA']\n",
    "\n",
    "print(\"Is fav_country = 'US' and 'UK'?\")\n",
    "print('US' in fav_country)\n",
    "\n",
    "print(\"Is fav_country = 'UK' or 'KSA'?\")\n",
    "print('UK' in fav_country)\n",
    "\n"
   ]
  },
  {
   "cell_type": "markdown",
   "id": "078e2605",
   "metadata": {},
   "source": [
    "### The if-elif-else Chain"
   ]
  },
  {
   "cell_type": "code",
   "execution_count": 10,
   "id": "7ae7efdc",
   "metadata": {},
   "outputs": [
    {
     "name": "stdout",
     "output_type": "stream",
     "text": [
      "Enter your age: 23\n",
      "Adult\n"
     ]
    }
   ],
   "source": [
    "age = int(input('Enter your age: '))\n",
    "\n",
    "if age > 18:\n",
    "    print('Adult')\n",
    "elif age == 18:\n",
    "    print('Adult, but still teen')\n",
    "else:\n",
    "    print('Teen')"
   ]
  },
  {
   "cell_type": "markdown",
   "id": "48e19f8f",
   "metadata": {},
   "source": [
    "### Using Multiple elif Blocks\n"
   ]
  },
  {
   "cell_type": "code",
   "execution_count": 11,
   "id": "2dfcc0eb",
   "metadata": {},
   "outputs": [
    {
     "name": "stdout",
     "output_type": "stream",
     "text": [
      "Enter your age: 21\n",
      "Adult\n"
     ]
    }
   ],
   "source": [
    "age = int(input('Enter your age: '))\n",
    "\n",
    "if age > 18:\n",
    "    print('Adult')\n",
    "elif age == 18:\n",
    "    print('Adult, but still teen')\n",
    "elif age < 18 and age > 4:\n",
    "    print('Teen')\n",
    "else:\n",
    "    print('Toddler')"
   ]
  },
  {
   "cell_type": "markdown",
   "id": "471a7503",
   "metadata": {},
   "source": [
    "### Omitting the else Block"
   ]
  },
  {
   "cell_type": "code",
   "execution_count": 12,
   "id": "780a521e",
   "metadata": {},
   "outputs": [
    {
     "name": "stdout",
     "output_type": "stream",
     "text": [
      "Enter your age: 15\n",
      "Kid\n"
     ]
    }
   ],
   "source": [
    "age = int(input('Enter your age: '))\n",
    "\n",
    "if age > 18:\n",
    "    print('Adult')\n",
    "elif age == 18:\n",
    "    print('Adult, but still teen')\n",
    "elif age < 18:\n",
    "    print('Kid')"
   ]
  },
  {
   "cell_type": "markdown",
   "id": "4b0ed737",
   "metadata": {},
   "source": [
    "# Try It Yourself\n",
    "\n",
    "### 5-3. Alien Colors \n",
    "\n",
    "Imagine an alien was just shot down in a game. Create a\n",
    "variable called alien_color and assign it a value of 'green', 'yellow', or 'red'.\n",
    "\n",
    "• Write an if statement to test whether the alien’s color is green. If it is, print\n",
    "a message that the player just earned 5 points.\n",
    "\n",
    "• Write one version of this program that passes the if test and another that\n",
    "fails. (The version that fails will have no output.)"
   ]
  },
  {
   "cell_type": "code",
   "execution_count": 13,
   "id": "a65bedc4",
   "metadata": {},
   "outputs": [
    {
     "name": "stdout",
     "output_type": "stream",
     "text": [
      "alien_color == green?\n",
      "True\n",
      "You just earned 5 points.\n",
      "\n",
      "\n",
      "alien_color == red?\n",
      "False\n",
      "You just earned 0 points.\n",
      "\n",
      "\n",
      "alien_color == yellow?\n",
      "False\n",
      "You just earned 0 points.\n"
     ]
    }
   ],
   "source": [
    "#(a):\n",
    "alien_color = 'green'\n",
    "print(\"alien_color == green?\")\n",
    "print(alien_color == 'green')\n",
    "print('You just earned 5 points.')\n",
    "print('\\n')\n",
    "\n",
    "print(\"alien_color == red?\")\n",
    "print(alien_color == 'red')\n",
    "print('You just earned 0 points.')\n",
    "print('\\n')\n",
    "\n",
    "print(\"alien_color == yellow?\")\n",
    "print(alien_color == 'yellow')\n",
    "print('You just earned 0 points.')\n",
    "\n"
   ]
  },
  {
   "cell_type": "code",
   "execution_count": 14,
   "id": "b6c867eb",
   "metadata": {},
   "outputs": [
    {
     "name": "stdout",
     "output_type": "stream",
     "text": [
      "alien_color == green?\n",
      "True\n",
      "You just earned 5 points.\n",
      "\n",
      "\n",
      "alien_color == red?\n",
      "\n",
      "\n",
      "alien_color == yellow?\n"
     ]
    }
   ],
   "source": [
    "#(b):\n",
    "alien_color = 'green'\n",
    "print(\"alien_color == green?\")\n",
    "print(alien_color == 'green')\n",
    "print('You just earned 5 points.')\n",
    "print('\\n')\n",
    "\n",
    "print(\"alien_color == red?\")\n",
    "print('\\n')\n",
    "\n",
    "print(\"alien_color == yellow?\")\n"
   ]
  },
  {
   "cell_type": "markdown",
   "id": "9091a928",
   "metadata": {},
   "source": [
    "### 5-4. Alien Colors: \n",
    "\n",
    "Choose a color for an alien as you did in Exercise 5-3, and\n",
    "\n",
    "write an if-else chain.\n",
    "\n",
    "•\t If the alien’s color is green, print a statement that the player just earned\n",
    "5 points for shooting the alien.\n",
    "\n",
    "•\t If the alien’s color isn’t green, print a statement that the player just earned\n",
    "10 points.\n",
    "\n",
    "•\t Write one version of this program that runs the if block and another that\n",
    "runs the else block."
   ]
  },
  {
   "cell_type": "code",
   "execution_count": 15,
   "id": "d0ab2c60",
   "metadata": {},
   "outputs": [
    {
     "name": "stdout",
     "output_type": "stream",
     "text": [
      "Enter your alien color: green\n",
      "You just earned 5 points.\n"
     ]
    }
   ],
   "source": [
    "alien_color = input('Enter your alien color: ')\n",
    "\n",
    "if alien_color == 'green':\n",
    "    print('You just earned 5 points.')\n",
    "else:\n",
    "    print('You just earned 10 points.')"
   ]
  },
  {
   "cell_type": "markdown",
   "id": "3d89b429",
   "metadata": {},
   "source": [
    "### 5-5. Alien Colors : \n",
    "\n",
    "Turn your if-else chain from Exercise 5-4 into an if-elifelse chain.\n",
    "\n",
    "•\t If the alien is green, print a message that the player earned 5 points.\n",
    "\n",
    "•\t If the alien is yellow, print a message that the player earned 10 points.\n",
    "\n",
    "•\t If the alien is red, print a message that the player earned 15 points.\n",
    "\n",
    "•\t Write three versions of this program, making sure each message is printed\n",
    "for the appropriate color alien.\n"
   ]
  },
  {
   "cell_type": "code",
   "execution_count": 16,
   "id": "5acca509",
   "metadata": {},
   "outputs": [
    {
     "name": "stdout",
     "output_type": "stream",
     "text": [
      "Enter your alien color: red\n",
      "You just earned 10 points.\n"
     ]
    }
   ],
   "source": [
    "alien_color = input('Enter your alien color: ')\n",
    "\n",
    "if alien_color == 'green':\n",
    "    print('You just earned 5 points.')\n",
    "elif alien_color == 'yellow':\n",
    "    print('You just earned 10 points.')\n",
    "elif alien_color == 'red':\n",
    "    print('You just earned 10 points.')\n",
    "else:\n",
    "    print('You missed! Try again')"
   ]
  },
  {
   "cell_type": "markdown",
   "id": "d8a2bf8e",
   "metadata": {},
   "source": [
    "### 5-6. Stages of Life: \n",
    "    \n",
    "    Write an if-elif-else chain that determines a person’s\n",
    "stage of life. Set a value for the variable age, and then:\n",
    "\n",
    "•\t If the person is less than 2 years old, print a message that the person is\n",
    "a baby.\n",
    "\n",
    "•\t If the person is at least 2 years old but less than 4, print a message that\n",
    "the person is a toddler.\n",
    "\n",
    "•\t If the person is at least 4 years old but less than 13, print a message that\n",
    "the person is a kid.\n",
    "\n",
    "•\t If the person is at least 13 years old but less than 20, print a message that\n",
    "the person is a teenager.\n",
    "\n",
    "•\t If the person is at least 20 years old but less than 65, print a message that\n",
    "the person is an adult.\n",
    "\n",
    "•\t If the person is age 65 or older, print a message that the person is an\n",
    "elder."
   ]
  },
  {
   "cell_type": "code",
   "execution_count": 17,
   "id": "3bd75871",
   "metadata": {},
   "outputs": [
    {
     "name": "stdout",
     "output_type": "stream",
     "text": [
      "Enter your name: Abdullah\n",
      "Enter your age: 23\n",
      " Abdullah You're an adult\n"
     ]
    }
   ],
   "source": [
    "name = input('Enter your name: ')\n",
    "age = float(input('Enter your age: '))\n",
    "\n",
    "if age < 2:\n",
    "    print(f\" {name} You're a baby. Aww!\")\n",
    "elif age == 2 or age < 4:\n",
    "    print(f\" {name} You're a toddler\")\n",
    "elif age == 4 or age < 13:\n",
    "    print(f\" {name} You're a kiddo\")\n",
    "elif age == 13 or age < 20:\n",
    "    print(f\" {name} You're a teen\")\n",
    "elif age == 20 or age < 65:\n",
    "    print(f\" {name} You're an adult\")\n",
    "else:\n",
    "    print(f\" {name} You're an elder\")"
   ]
  },
  {
   "cell_type": "markdown",
   "id": "4f8a528f",
   "metadata": {},
   "source": [
    "### 5-7. Favorite Fruit: \n",
    "    \n",
    "Make a list of your favorite fruits, and then write a series of\n",
    "independent if statements that check for certain fruits in your list.\n",
    "\n",
    "•\t Make a list of your three favorite fruits and call it favorite_fruits.\n",
    "\n",
    "•\t Write five if statements. Each should check whether a certain kind of fruit\n",
    "is in your list. If the fruit is in your list, the if block should print a statement,\n",
    "such as You really like bananas!"
   ]
  },
  {
   "cell_type": "code",
   "execution_count": 18,
   "id": "bfe6a68e",
   "metadata": {},
   "outputs": [
    {
     "name": "stdout",
     "output_type": "stream",
     "text": [
      "'You really like Banana'\n",
      "'You really like Apple'\n",
      "'You really like Pomegranate'\n",
      "'You really like Mango'\n",
      "'You really like Fig'\n"
     ]
    }
   ],
   "source": [
    "favorite_fruits = ['Banana', 'Apple', 'Pomegranate', 'Mango', 'Fig']\n",
    "\n",
    "if True:\n",
    "    print(f\"'You really like {favorite_fruits[0]}'\")\n",
    "if True:\n",
    "    print(f\"'You really like {favorite_fruits[1]}'\")\n",
    "if True:\n",
    "    print(f\"'You really like {favorite_fruits[2]}'\")\n",
    "if True:\n",
    "    print(f\"'You really like {favorite_fruits[3]}'\")\n",
    "if True:\n",
    "    print(f\"'You really like {favorite_fruits[4]}'\")\n",
    "else:\n",
    "    print(f\"{i in favorite_fruits}\")"
   ]
  },
  {
   "cell_type": "markdown",
   "id": "f64bd520",
   "metadata": {},
   "source": [
    "### Using if Statements with Lists\n"
   ]
  },
  {
   "cell_type": "code",
   "execution_count": 19,
   "id": "5b6a37d5",
   "metadata": {},
   "outputs": [],
   "source": [
    "# As above"
   ]
  },
  {
   "cell_type": "markdown",
   "id": "b635a710",
   "metadata": {},
   "source": [
    "### Checking That a List Is Not Empty\n"
   ]
  },
  {
   "cell_type": "code",
   "execution_count": 20,
   "id": "8d776983",
   "metadata": {},
   "outputs": [
    {
     "name": "stdout",
     "output_type": "stream",
     "text": [
      "You inserted an non-empty list: [1, 2, 3, 4, 5, 6, 7]\n"
     ]
    }
   ],
   "source": [
    "lists1 = [1,2,3,4,5,6,7]\n",
    "\n",
    "if lists1 != []:\n",
    "    print(f'You inserted an non-empty list: {lists1}')\n",
    "else:\n",
    "    print('You inserted an empty list: []')"
   ]
  },
  {
   "cell_type": "markdown",
   "id": "99764a7c",
   "metadata": {},
   "source": [
    "### Using Multiple Lists\n"
   ]
  },
  {
   "cell_type": "code",
   "execution_count": 21,
   "id": "a161e253",
   "metadata": {},
   "outputs": [
    {
     "name": "stdout",
     "output_type": "stream",
     "text": [
      "Bisma is not there\n"
     ]
    }
   ],
   "source": [
    "l1 = ['Noah','Usra','Mehak']\n",
    "l2 = ['Bisma','Mehak']\n",
    "\n",
    "for i in l2:\n",
    "    if i not in l1:\n",
    "        print(f\"{i} is not there\")\n",
    "    else:\n",
    "        pass"
   ]
  },
  {
   "cell_type": "markdown",
   "id": "a960118c",
   "metadata": {},
   "source": [
    "# Try It Yourself\n",
    "\n",
    "### 5-8. Hello Admin: \n",
    "\n",
    "Make a list of five or more usernames, including the name\n",
    "'admin'. Imagine you are writing code that will print a greeting to each user\n",
    "after they log in to a website. Loop through the list, and print a greeting to\n",
    "each user:\n",
    "\n",
    "•\t If the username is 'admin', print a special greeting, such as Hello admin,\n",
    "would you like to see a status report?\n",
    "\n",
    "•\t Otherwise, print a generic greeting, such as Hello Eric, thank you for logging in again."
   ]
  },
  {
   "cell_type": "code",
   "execution_count": 22,
   "id": "020793c8",
   "metadata": {},
   "outputs": [
    {
     "name": "stdout",
     "output_type": "stream",
     "text": [
      "Hello Noah, thank you for logging in again.\n",
      "Hello Usra, thank you for logging in again.\n",
      "Hello Mehak, thank you for logging in again.\n",
      "Hello Bisma, thank you for logging in again.\n",
      "Hello Admin, would you like to see a status report?\n"
     ]
    }
   ],
   "source": [
    "username = ['Noah','Usra','Mehak','Bisma','Admin']\n",
    "status = 'login'\n",
    "\n",
    "for i in username:\n",
    "    if status == 'login':\n",
    "        if i != 'Admin':\n",
    "            print(f'Hello {i}, thank you for logging in again.')\n",
    "        else:\n",
    "            print(f\"Hello {i}, would you like to see a status report?\")\n",
    "    else:\n",
    "        print('Login to see further steps!')\n",
    "\n"
   ]
  },
  {
   "cell_type": "markdown",
   "id": "3aba9c61",
   "metadata": {},
   "source": [
    "### 5-9. No Users: \n",
    "    \n",
    "Add an if test to hello_admin.py to make sure the list of users is\n",
    "not empty.\n",
    "\n",
    "•\t If the list is empty, print the message We need to find some users!\n",
    "\n",
    "•\t Remove all of the usernames from your list, and make sure the correct\n",
    "message is printed."
   ]
  },
  {
   "cell_type": "code",
   "execution_count": 23,
   "id": "904774d8",
   "metadata": {},
   "outputs": [
    {
     "name": "stdout",
     "output_type": "stream",
     "text": [
      "Wait a sec! We are removing all our users.\n",
      "Done!! \n",
      "Again, We need to find some new users!\n"
     ]
    }
   ],
   "source": [
    "if username == []:\n",
    "    print(f'We need to find some users!')\n",
    "else:\n",
    "    print(\"Wait a sec! We are removing all our users.\")\n",
    "    username.clear()\n",
    "    print('Done!! ')\n",
    "    print(f'Again, We need to find some new users!')"
   ]
  },
  {
   "cell_type": "markdown",
   "id": "b13f913d",
   "metadata": {},
   "source": [
    "# 5-10. Checking Usernames: \n",
    "\n",
    "Do the following to create a program that simulates\n",
    "how websites ensure that everyone has a unique username.\n",
    "\n",
    "•\t Make a list of five or more usernames called current_users.\n",
    "\n",
    "•\t Make another list of five usernames called new_users. Make sure one or\n",
    "two of the new usernames are also in the current_users list.\n",
    "\n",
    "•\t Loop through the new_users list to see if each new username has already\n",
    "been used. If it has, print a message that the person will need to enter a\n",
    "new username. If a username has not been used, print a message saying\n",
    "that the username is available.\n",
    "\n",
    "•\t Make sure your comparison is case insensitive. If 'John' has been used,\n",
    "'JOHN' should not be accepted."
   ]
  },
  {
   "cell_type": "code",
   "execution_count": 24,
   "id": "8caa662b",
   "metadata": {},
   "outputs": [
    {
     "name": "stdout",
     "output_type": "stream",
     "text": [
      "Enter your name: Usra\n",
      "Enter your name: noah\n",
      "Enter your name: jibrael\n",
      "Enter your name: salis\n",
      "Enter your name: Jasmin\n",
      "['USRA', 'NOAH', 'JIBRAEL', 'SALIS', 'JASMIN']\n"
     ]
    }
   ],
   "source": [
    "current_users = []\n",
    "\n",
    "for i in range(5):\n",
    "    i = input('Enter your name: ')\n",
    "    i = i.upper()\n",
    "    current_users.append(i)\n",
    "print(current_users)"
   ]
  },
  {
   "cell_type": "code",
   "execution_count": 25,
   "id": "146b2b6d",
   "metadata": {},
   "outputs": [
    {
     "name": "stdout",
     "output_type": "stream",
     "text": [
      "Enter your name: abdullah\n",
      "Enter your name: usra\n",
      "Enter your name: ahsan\n",
      "Enter your name: umair\n",
      "Enter your name: noah\n",
      "['ABDULLAH', 'USRA', 'AHSAN', 'UMAIR', 'NOAH']\n"
     ]
    }
   ],
   "source": [
    "new_users = []\n",
    "\n",
    "for j in range(5):\n",
    "    j = input('Enter your name: ')\n",
    "    j=j.upper()\n",
    "    new_users.append(j)\n",
    "print(new_users)"
   ]
  },
  {
   "cell_type": "code",
   "execution_count": 26,
   "id": "29f61cc1",
   "metadata": {},
   "outputs": [
    {
     "name": "stdout",
     "output_type": "stream",
     "text": [
      "Username: ABDULLAH is available\n",
      "Username: USRA has already been used, enter a new username\n",
      "Username: AHSAN is available\n",
      "Username: UMAIR is available\n",
      "Username: NOAH has already been used, enter a new username\n"
     ]
    }
   ],
   "source": [
    "for new in new_users:\n",
    "    if new in current_users:\n",
    "        print(f'Username: {new} has already been used, enter a new username')\n",
    "    else:\n",
    "        print(f'Username: {new} is available')"
   ]
  },
  {
   "cell_type": "markdown",
   "id": "dccda8f2",
   "metadata": {},
   "source": [
    "### 5-11. Ordinal Numbers: \n",
    "\n",
    "Ordinal numbers indicate their position in a list, such\n",
    "as 1st or 2nd. Most ordinal numbers end in th, except 1, 2, and 3.\n",
    "\n",
    "•\t Store the numbers 1 through 9 in a list.\n",
    "\n",
    "•\t Loop through the list.\n",
    "\n",
    "•\t Use an if-elif-else chain inside the loop to print the proper ordinal ending for each number. Your output should read \"1st 2nd 3rd 4th 5th 6th 7th 8th 9th\", and each result should be on a separate line."
   ]
  },
  {
   "cell_type": "code",
   "execution_count": 27,
   "id": "b595e027",
   "metadata": {},
   "outputs": [
    {
     "name": "stdout",
     "output_type": "stream",
     "text": [
      "List 1: \n",
      "[0, 1, 2, 3, 4, 5, 6, 7, 8, 9]\n",
      "\n",
      "\n",
      "--------------\n",
      "\n",
      "\n",
      "Ordinal list: \n",
      "['1st', '2nd', '3rd', '4th', '5th', '6th', '7th', '8th', '9th']\n"
     ]
    }
   ],
   "source": [
    "list_1 = []\n",
    "ordinal_list = []\n",
    "for i in range(10):\n",
    "    list_1.append(i)\n",
    "    if i == 0:\n",
    "        pass\n",
    "    elif i == 1:\n",
    "        ordinal_list.append(f'{i}st')\n",
    "    elif i == 2:\n",
    "        ordinal_list.append(f'{i}nd')\n",
    "    elif i == 3:\n",
    "        ordinal_list.append(f'{i}rd')\n",
    "    else:\n",
    "        ordinal_list.append(f'{i}th')\n",
    "        \n",
    "print('List 1: ')        \n",
    "print(list_1)\n",
    "print('\\n')\n",
    "print('--------------')\n",
    "print('\\n')\n",
    "print('Ordinal list: ')\n",
    "print(ordinal_list)\n",
    "     "
   ]
  },
  {
   "cell_type": "markdown",
   "id": "12e2e058",
   "metadata": {},
   "source": [
    "### Styling Your if Statements:"
   ]
  },
  {
   "cell_type": "code",
   "execution_count": 28,
   "id": "5e774b04",
   "metadata": {},
   "outputs": [],
   "source": [
    "# It's good to write code like this\n",
    "#if x == 1:\n",
    "    \n",
    "    \n",
    "#then, this:    \n",
    "#if x==1:"
   ]
  },
  {
   "cell_type": "code",
   "execution_count": 29,
   "id": "751f1572",
   "metadata": {},
   "outputs": [],
   "source": [
    "#Done"
   ]
  }
 ],
 "metadata": {
  "kernelspec": {
   "display_name": "Python 3 (ipykernel)",
   "language": "python",
   "name": "python3"
  },
  "language_info": {
   "codemirror_mode": {
    "name": "ipython",
    "version": 3
   },
   "file_extension": ".py",
   "mimetype": "text/x-python",
   "name": "python",
   "nbconvert_exporter": "python",
   "pygments_lexer": "ipython3",
   "version": "3.9.7"
  }
 },
 "nbformat": 4,
 "nbformat_minor": 5
}
