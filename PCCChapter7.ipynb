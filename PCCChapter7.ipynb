{
 "cells": [
  {
   "cell_type": "markdown",
   "id": "650dbfd7",
   "metadata": {},
   "source": [
    "### How the input() Function Works"
   ]
  },
  {
   "cell_type": "code",
   "execution_count": 1,
   "id": "061d2ba4",
   "metadata": {},
   "outputs": [
    {
     "name": "stdout",
     "output_type": "stream",
     "text": [
      "Tell me something: Hi. My name is Abdullah Jaffrey! you can find me on fb with the same name!\n",
      "Hi. My name is Abdullah Jaffrey! you can find me on fb with the same name!\n"
     ]
    }
   ],
   "source": [
    "message = input(\"Tell me something: \")\n",
    "print(message)"
   ]
  },
  {
   "cell_type": "markdown",
   "id": "aefd7bb0",
   "metadata": {},
   "source": [
    "### Writing Clear Prompts\n"
   ]
  },
  {
   "cell_type": "code",
   "execution_count": 2,
   "id": "fcda645a",
   "metadata": {},
   "outputs": [
    {
     "name": "stdout",
     "output_type": "stream",
     "text": [
      "Please enter your name: Abdullah Jaffrey\n",
      "Hello, Abdullah Jaffrey!\n"
     ]
    }
   ],
   "source": [
    "name = input(\"Please enter your name: \")\n",
    "print(\"Hello, \" + name + \"!\")"
   ]
  },
  {
   "cell_type": "code",
   "execution_count": 3,
   "id": "899e9112",
   "metadata": {},
   "outputs": [
    {
     "name": "stdout",
     "output_type": "stream",
     "text": [
      "If you tell us who you are, we can personalize the messages you see.\n",
      "What is your first name? Abdullah\n",
      "\n",
      "Hello, Abdullah!\n"
     ]
    }
   ],
   "source": [
    "prompt = \"If you tell us who you are, we can personalize the messages you see.\"\n",
    "prompt += \"\\nWhat is your first name? \"\n",
    "name = input(prompt)\n",
    "print(\"\\nHello, \" + name + \"!\")"
   ]
  },
  {
   "cell_type": "markdown",
   "id": "e9fd8f47",
   "metadata": {},
   "source": [
    "### Using int() to Accept Numerical Input"
   ]
  },
  {
   "cell_type": "code",
   "execution_count": 4,
   "id": "440aecfd",
   "metadata": {},
   "outputs": [
    {
     "name": "stdout",
     "output_type": "stream",
     "text": [
      "How old are you? 22\n"
     ]
    },
    {
     "data": {
      "text/plain": [
       "'22'"
      ]
     },
     "execution_count": 4,
     "metadata": {},
     "output_type": "execute_result"
    }
   ],
   "source": [
    "age = input(\"How old are you? \")\n",
    "age"
   ]
  },
  {
   "cell_type": "code",
   "execution_count": 5,
   "id": "c3c22db8",
   "metadata": {},
   "outputs": [
    {
     "name": "stdout",
     "output_type": "stream",
     "text": [
      "How tall are you, in inches? 6\n",
      "\n",
      "You'll be able to ride when you're a little older.\n"
     ]
    }
   ],
   "source": [
    "height = input(\"How tall are you, in inches? \")\n",
    "height = int(height)\n",
    "if height >= 36:\n",
    " print(\"\\nYou're tall enough to ride!\")\n",
    "else:\n",
    " print(\"\\nYou'll be able to ride when you're a little older.\")"
   ]
  },
  {
   "cell_type": "markdown",
   "id": "a0bfb697",
   "metadata": {},
   "source": [
    "### The Modulo Operator:"
   ]
  },
  {
   "cell_type": "code",
   "execution_count": 6,
   "id": "6e2f98ca",
   "metadata": {},
   "outputs": [
    {
     "name": "stdout",
     "output_type": "stream",
     "text": [
      "1\n",
      "2\n",
      "0\n",
      "1\n"
     ]
    }
   ],
   "source": [
    "print(4 % 3)\n",
    "print(5 % 3)\n",
    "print(6 % 3)\n",
    "print(7 % 3)"
   ]
  },
  {
   "cell_type": "code",
   "execution_count": 7,
   "id": "d6f191a1",
   "metadata": {},
   "outputs": [
    {
     "name": "stdout",
     "output_type": "stream",
     "text": [
      "Enter a number, and I'll tell you if it's even or odd: 234\n",
      "\n",
      "The number 234 is even.\n"
     ]
    }
   ],
   "source": [
    "number = input(\"Enter a number, and I'll tell you if it's even or odd: \")\n",
    "number = int(number)\n",
    "if number % 2 == 0:\n",
    "    print(\"\\nThe number \" + str(number) + \" is even.\")\n",
    "else:\n",
    "    print(\"\\nThe number \" + str(number) + \" is odd.\")"
   ]
  },
  {
   "cell_type": "markdown",
   "id": "861959d5",
   "metadata": {},
   "source": [
    "### Accepting Input in Python 2.7\n",
    "\n",
    "print \"Hello world\"\n",
    "\n",
    "print 3:int"
   ]
  },
  {
   "cell_type": "markdown",
   "id": "7c114ea5",
   "metadata": {},
   "source": [
    "# Try It Yourself\n",
    "\n",
    "### 7-1. Rental Car: \n",
    "\n",
    "Write a program that asks the user what kind of rental car they\n",
    "would like. Print a message about that car, such as “Let me see if I can find you\n",
    "a Subaru.”"
   ]
  },
  {
   "cell_type": "code",
   "execution_count": 8,
   "id": "dfedcd77",
   "metadata": {},
   "outputs": [
    {
     "name": "stdout",
     "output_type": "stream",
     "text": [
      "Enter the car name, you want!Bugatti\n",
      "Let me see if I can find you a Bugatti!\n"
     ]
    }
   ],
   "source": [
    "Car = input('Enter the car name, you want!')\n",
    "print(f\"Let me see if I can find you a {Car}!\")"
   ]
  },
  {
   "cell_type": "markdown",
   "id": "822277e6",
   "metadata": {},
   "source": [
    "### 7-2. Restaurant Seating: \n",
    "\n",
    "Write a program that asks the user how many people\n",
    "are in their dinner group. If the answer is more than eight, print a message saying they’ll have to wait for a table. Otherwise, report that their table is ready."
   ]
  },
  {
   "cell_type": "code",
   "execution_count": 9,
   "id": "97d2c66f",
   "metadata": {},
   "outputs": [
    {
     "name": "stdout",
     "output_type": "stream",
     "text": [
      "How many people are with you for dinner: 14\n",
      "You’ll have to wait for a table\n"
     ]
    }
   ],
   "source": [
    "Peoplereservation = int(input(\"How many people are with you for dinner: \"))\n",
    "\n",
    "if Peoplereservation>8:\n",
    "    print(\"You’ll have to wait for a table\")\n",
    "else:\n",
    "    print(\"Your table is ready, Sir!\")"
   ]
  },
  {
   "cell_type": "markdown",
   "id": "d58732c7",
   "metadata": {},
   "source": [
    "### 7-3. Multiples of Ten: \n",
    "    \n",
    "Ask the user for a number, and then report whether the\n",
    "number is a multiple of 10 or not."
   ]
  },
  {
   "cell_type": "code",
   "execution_count": 10,
   "id": "20ce4b94",
   "metadata": {},
   "outputs": [
    {
     "name": "stdout",
     "output_type": "stream",
     "text": [
      "Enter a number: 120\n",
      "It's a multiple of 10\n"
     ]
    }
   ],
   "source": [
    "multiple10 = int(input(\"Enter a number: \"))\n",
    "if multiple10 % 10 == 0:\n",
    "    print(\"It's a multiple of 10\")\n",
    "else:\n",
    "    print(\"It's not a multiple of 10\")"
   ]
  },
  {
   "cell_type": "markdown",
   "id": "ff5324c7",
   "metadata": {},
   "source": [
    "# Introducing while Loops"
   ]
  },
  {
   "cell_type": "code",
   "execution_count": 11,
   "id": "5ed401eb",
   "metadata": {},
   "outputs": [],
   "source": [
    "# While loop runs as long as user wants, or, till the certain conditions are true."
   ]
  },
  {
   "cell_type": "markdown",
   "id": "a56c8303",
   "metadata": {},
   "source": [
    "### The while Loop in Action:"
   ]
  },
  {
   "cell_type": "code",
   "execution_count": 12,
   "id": "e5a13e60",
   "metadata": {},
   "outputs": [
    {
     "name": "stdout",
     "output_type": "stream",
     "text": [
      "1\n",
      "2\n",
      "3\n",
      "4\n",
      "5\n"
     ]
    }
   ],
   "source": [
    "current_number = 1\n",
    "while current_number <= 5:\n",
    "    print(current_number)\n",
    "    current_number += 1"
   ]
  },
  {
   "cell_type": "markdown",
   "id": "8ad317c1",
   "metadata": {},
   "source": [
    "### Letting the User Choose When to Quit"
   ]
  },
  {
   "cell_type": "code",
   "execution_count": 13,
   "id": "ce1b172b",
   "metadata": {},
   "outputs": [
    {
     "name": "stdout",
     "output_type": "stream",
     "text": [
      "\n",
      "Tell me something, and I will repeat it back to you:\n",
      "Enter 'quit' to end the program. Hello, Everyone.\n",
      "Hello, Everyone.\n",
      "\n",
      "Tell me something, and I will repeat it back to you:\n",
      "Enter 'quit' to end the program. quit\n",
      "quit\n"
     ]
    }
   ],
   "source": [
    "prompt = \"\\nTell me something, and I will repeat it back to you:\"\n",
    "prompt += \"\\nEnter 'quit' to end the program. \"\n",
    "\n",
    "\n",
    "message = \"\"\n",
    "while message != 'quit':\n",
    "    message = input(prompt)\n",
    "    print(message)"
   ]
  },
  {
   "cell_type": "markdown",
   "id": "6441afe2",
   "metadata": {},
   "source": [
    "### Using a Flag"
   ]
  },
  {
   "cell_type": "code",
   "execution_count": 14,
   "id": "2d523421",
   "metadata": {},
   "outputs": [
    {
     "name": "stdout",
     "output_type": "stream",
     "text": [
      "\n",
      "Tell me something, and I will repeat it back to you:\n",
      "Enter 'quit' to end the program. Hello, I am Abdullah.\n",
      "Hello, I am Abdullah.\n",
      "\n",
      "Tell me something, and I will repeat it back to you:\n",
      "Enter 'quit' to end the program. quit\n"
     ]
    }
   ],
   "source": [
    "prompt = \"\\nTell me something, and I will repeat it back to you:\"\n",
    "prompt += \"\\nEnter 'quit' to end the program. \"\n",
    "\n",
    "active = True #Flag returns signals [ true = continue, false = stop ]\n",
    "while active:\n",
    "    message = input(prompt)\n",
    "    if message == 'quit':\n",
    "        active = False\n",
    "    else:\n",
    "        print(message)"
   ]
  },
  {
   "cell_type": "markdown",
   "id": "5f8b2bf8",
   "metadata": {},
   "source": [
    "### Using break to Exit a Loop\n"
   ]
  },
  {
   "cell_type": "code",
   "execution_count": 15,
   "id": "db084bb6",
   "metadata": {},
   "outputs": [
    {
     "name": "stdout",
     "output_type": "stream",
     "text": [
      "\n",
      "Please enter the name of a city you have visited:\n",
      "(Enter 'quit' when you are finished.) Islamabad\n",
      "I'd love to go to Islamabad!\n",
      "\n",
      "Please enter the name of a city you have visited:\n",
      "(Enter 'quit' when you are finished.) Lahore\n",
      "I'd love to go to Lahore!\n",
      "\n",
      "Please enter the name of a city you have visited:\n",
      "(Enter 'quit' when you are finished.) Rawalpindi\n",
      "I'd love to go to Rawalpindi!\n",
      "\n",
      "Please enter the name of a city you have visited:\n",
      "(Enter 'quit' when you are finished.) Peshawar\n",
      "I'd love to go to Peshawar!\n",
      "\n",
      "Please enter the name of a city you have visited:\n",
      "(Enter 'quit' when you are finished.) Larkana\n",
      "I'd love to go to Larkana!\n",
      "\n",
      "Please enter the name of a city you have visited:\n",
      "(Enter 'quit' when you are finished.) quit\n"
     ]
    }
   ],
   "source": [
    "prompt = \"\\nPlease enter the name of a city you have visited:\"\n",
    "prompt += \"\\n(Enter 'quit' when you are finished.) \"\n",
    "\n",
    "while True:\n",
    "    city = input(prompt)\n",
    "\n",
    "    if city == 'quit':\n",
    "        break  # break terminates the program\n",
    "    else:\n",
    "        print(\"I'd love to go to \" + city.title() + \"!\")\n"
   ]
  },
  {
   "cell_type": "markdown",
   "id": "63c920e6",
   "metadata": {},
   "source": [
    "### Using continue in a Loop\n"
   ]
  },
  {
   "cell_type": "code",
   "execution_count": 16,
   "id": "7944e145",
   "metadata": {},
   "outputs": [
    {
     "name": "stdout",
     "output_type": "stream",
     "text": [
      "10\n"
     ]
    }
   ],
   "source": [
    "current_number = 0\n",
    "while current_number < 10:\n",
    "    current_number += 1\n",
    "    if current_number % 2 == 0:\n",
    "        continue  #continue skips the unwanted value\n",
    "\n",
    "print(current_number)"
   ]
  },
  {
   "cell_type": "markdown",
   "id": "6e711795",
   "metadata": {},
   "source": [
    "### Avoiding Infinite Loops\n"
   ]
  },
  {
   "cell_type": "code",
   "execution_count": 17,
   "id": "ddfcf51b",
   "metadata": {},
   "outputs": [],
   "source": [
    "# This loop runs forever!\n",
    "# x = 1\n",
    "# while x <= 5:\n",
    "#     print(x)"
   ]
  },
  {
   "cell_type": "code",
   "execution_count": 18,
   "id": "07b5da51",
   "metadata": {},
   "outputs": [
    {
     "name": "stdout",
     "output_type": "stream",
     "text": [
      "1\n",
      "2\n",
      "3\n",
      "4\n",
      "5\n"
     ]
    }
   ],
   "source": [
    "x = 1\n",
    "while x <= 5:\n",
    "    print(x)\n",
    "    x += 1 # this line helps us to increment the value, so we dont get stuck in an infinite loop"
   ]
  },
  {
   "cell_type": "markdown",
   "id": "a3f55fbe",
   "metadata": {},
   "source": [
    "# Try It Yourself\n",
    "\n",
    "### 7-4. Pizza Toppings: \n",
    "\n",
    "Write a loop that prompts the user to enter a series of\n",
    "pizza toppings until they enter a 'quit' value. As they enter each topping,\n",
    "print a message saying you’ll add that topping to their pizza."
   ]
  },
  {
   "cell_type": "code",
   "execution_count": 19,
   "id": "0b867cb7",
   "metadata": {},
   "outputs": [
    {
     "name": "stdout",
     "output_type": "stream",
     "text": [
      "Enter a series of pizza toppings you require: Cheese\n",
      "Enter a series of pizza toppings you require: Mayonnaise\n",
      "Enter a series of pizza toppings you require: Ketchup\n",
      "Enter a series of pizza toppings you require: quit\n",
      "Okay! We’ll add these toppings to your pizza\n"
     ]
    }
   ],
   "source": [
    "while True:\n",
    "    message = input('Enter a series of pizza toppings you require: ')\n",
    "    if message == 'quit':\n",
    "        break\n",
    "    else:\n",
    "        continue\n",
    "\n",
    "\n",
    "print(f\"Okay! We’ll add these toppings to your pizza\")"
   ]
  },
  {
   "cell_type": "markdown",
   "id": "bc635a3f",
   "metadata": {},
   "source": [
    "### 7-5. Movie Tickets: \n",
    "\n",
    "A movie theater charges different ticket prices depending on\n",
    "a person’s age. If a person is under the age of 3, the ticket is free; if they are\n",
    "between 3 and 12, the ticket is 10$ and if they are over age 12, the ticket is \n",
    "15 dollars. Write a loop in which you ask users their age, and then tell them the cost\n",
    "of their movie ticket."
   ]
  },
  {
   "cell_type": "code",
   "execution_count": 20,
   "id": "4eb3c6e1",
   "metadata": {},
   "outputs": [
    {
     "name": "stdout",
     "output_type": "stream",
     "text": [
      "Press '0' to exit or Enter your age to get the movie ticket: 1\n",
      "No ticket require\n",
      "Press '0' to exit or Enter your age to get the movie ticket: 22\n",
      "the ticket will cost you 15$\n",
      "Press '0' to exit or Enter your age to get the movie ticket: 75\n",
      "the ticket will cost you 15$\n",
      "Press '0' to exit or Enter your age to get the movie ticket: 4\n",
      "the ticket will cost you 10$\n",
      "Press '0' to exit or Enter your age to get the movie ticket: 0\n"
     ]
    }
   ],
   "source": [
    "while True:\n",
    "    age = int(input(\"Press '0' to exit or Enter your age to get the movie ticket: \"))\n",
    "    if age > 0:\n",
    "        if age < 3:\n",
    "            print('No ticket require')\n",
    "        elif age >= 3 and age < 12:\n",
    "            print('the ticket will cost you 10$')\n",
    "        else:\n",
    "            print('the ticket will cost you 15$')\n",
    "    else:\n",
    "        break"
   ]
  },
  {
   "cell_type": "markdown",
   "id": "f33da665",
   "metadata": {},
   "source": [
    "### 7-6. Three Exits: \n",
    "\n",
    "Write different versions of either Exercise 7-4 or Exercise 7-5\n",
    "that do each of the following at least once:\n",
    "\n",
    "•\t Use a conditional test in the while statement to stop the loop.\n",
    "\n",
    "•\t Use an active variable to control how long the loop runs.\n",
    "\n",
    "•\t Use a break statement to exit the loop when the user enters a 'quit' value."
   ]
  },
  {
   "cell_type": "code",
   "execution_count": 21,
   "id": "8d422176",
   "metadata": {},
   "outputs": [],
   "source": [
    "#try this by yourself"
   ]
  },
  {
   "cell_type": "markdown",
   "id": "56211209",
   "metadata": {},
   "source": [
    "### 7-7. Infinity: \n",
    "\n",
    "Write a loop that never ends, and run it. (To end the loop, press ctrl-C or close the window displaying the output.)\n"
   ]
  },
  {
   "cell_type": "code",
   "execution_count": 22,
   "id": "45e591e4",
   "metadata": {},
   "outputs": [],
   "source": [
    "# x = 1\n",
    "# while x <= 5:\n",
    "#     print(x)"
   ]
  },
  {
   "cell_type": "markdown",
   "id": "acd87438",
   "metadata": {},
   "source": [
    "## Using a while Loop with Lists and Dictionaries\n"
   ]
  },
  {
   "cell_type": "markdown",
   "id": "4913cf0a",
   "metadata": {},
   "source": [
    "### Moving Items from One List to Another"
   ]
  },
  {
   "cell_type": "code",
   "execution_count": 23,
   "id": "acb3fbef",
   "metadata": {},
   "outputs": [
    {
     "name": "stdout",
     "output_type": "stream",
     "text": [
      "Verifying user: Candace\n",
      "Verifying user: Brian\n",
      "Verifying user: Alice\n",
      "\n",
      "The following users have been confirmed:\n",
      "Candace\n",
      "Brian\n",
      "Alice\n"
     ]
    }
   ],
   "source": [
    "# Start with users that need to be verified, and an empty list to hold confirmed users.\n",
    "\n",
    "unconfirmed_users = ['alice', 'brian', 'candace']\n",
    "confirmed_users = []\n",
    "\n",
    "# Verify each user until there are no more unconfirmed users.\n",
    "\n",
    "# Move each verified user into the list of confirmed users.\n",
    "while unconfirmed_users:\n",
    "    current_user = unconfirmed_users.pop()\n",
    "    print(\"Verifying user: \" + current_user.title())\n",
    "    confirmed_users.append(current_user)\n",
    "    \n",
    "# Display all confirmed users.\n",
    "print(\"\\nThe following users have been confirmed:\")\n",
    "for confirmed_user in confirmed_users:\n",
    "    print(confirmed_user.title())"
   ]
  },
  {
   "cell_type": "markdown",
   "id": "9884958f",
   "metadata": {},
   "source": [
    "### Removing All Instances of Specific Values from a List"
   ]
  },
  {
   "cell_type": "code",
   "execution_count": 24,
   "id": "f7058991",
   "metadata": {},
   "outputs": [
    {
     "name": "stdout",
     "output_type": "stream",
     "text": [
      "['dog', 'cat', 'dog', 'goldfish', 'cat', 'rabbit', 'cat']\n",
      "['dog', 'dog', 'goldfish', 'rabbit']\n"
     ]
    }
   ],
   "source": [
    "pets = ['dog', 'cat', 'dog', 'goldfish', 'cat', 'rabbit', 'cat']\n",
    "print(pets)\n",
    "while 'cat' in pets:\n",
    "    pets.remove('cat')\n",
    "print(pets)"
   ]
  },
  {
   "cell_type": "markdown",
   "id": "1ac07a41",
   "metadata": {},
   "source": [
    "### Filling a Dictionary with User Input:"
   ]
  },
  {
   "cell_type": "code",
   "execution_count": 25,
   "id": "492db895",
   "metadata": {},
   "outputs": [
    {
     "name": "stdout",
     "output_type": "stream",
     "text": [
      "\n",
      "What is your name? Abdullah Jaffrey\n",
      "Which mountain would you like to climb someday? K2\n",
      "Would you like to let another person respond? (yes/ no) yes\n",
      "\n",
      "What is your name? Noah\n",
      "Which mountain would you like to climb someday? Mount Everest\n",
      "Would you like to let another person respond? (yes/ no) no\n",
      "\n",
      "--- Poll Results ---\n",
      "Abdullah Jaffrey would like to climb K2.\n",
      "Noah would like to climb Mount Everest.\n"
     ]
    }
   ],
   "source": [
    "responses = {}\n",
    "\n",
    "# Set a flag to indicate that polling is active.\n",
    "polling_active = True\n",
    "while polling_active:\n",
    "    name = input(\"\\nWhat is your name? \") # Prompt for the person's name and response.\n",
    "    response = input(\"Which mountain would you like to climb someday? \")\n",
    "\n",
    "    # Store the response in the dictionary:\n",
    "    responses[name] = response\n",
    "\n",
    "    # Find out if anyone else is going to take the poll.\n",
    "\n",
    "    repeat = input(\"Would you like to let another person respond? (yes/ no) \")\n",
    "\n",
    "    if repeat == 'no':\n",
    "        polling_active = False\n",
    "\n",
    "# Polling is complete. Show the results.\n",
    "print(\"\\n--- Poll Results ---\")\n",
    "for name, response in responses.items():\n",
    "    print(name + \" would like to climb \" + response + \".\")"
   ]
  },
  {
   "cell_type": "markdown",
   "id": "636a2ed1",
   "metadata": {},
   "source": [
    "# Try It Yourself\n",
    "\n",
    "### 7-8. Deli: \n",
    "\n",
    "Make a list called sandwich_orders and fill it with the names of various sandwiches. Then make an empty list called finished_sandwiches. Loop\n",
    "through the list of sandwich orders and print a message for each order, such\n",
    "as I made your tuna sandwich. As each sandwich is made, move it to the list\n",
    "of finished sandwiches. After all the sandwiches have been made, print a\n",
    "message listing each sandwich that was made."
   ]
  },
  {
   "cell_type": "code",
   "execution_count": 26,
   "id": "d8a52235",
   "metadata": {},
   "outputs": [
    {
     "name": "stdout",
     "output_type": "stream",
     "text": [
      "I made your Chicken Sandwich sandwich\n",
      "I made your Seafood Sandwich sandwich\n",
      "I made your Grilled Cheese sandwich\n",
      "I made your Roast Beef Sandwich sandwich\n",
      "I made your Grilled Cheese sandwich\n",
      "------------------------------\n",
      "All done with your Chicken Sandwich sandwich\n",
      "------------------------------\n",
      "All done with your Seafood Sandwich sandwich\n",
      "------------------------------\n",
      "All done with your Grilled Cheese sandwich\n",
      "------------------------------\n",
      "All done with your Roast Beef Sandwich sandwich\n",
      "------------------------------\n",
      "All done with your Grilled Cheese sandwich\n"
     ]
    }
   ],
   "source": [
    "sandwich_orders = ['Chicken Sandwich','Egg Sandwich','Seafood Sandwich','Roast Beef Sandwich','Grilled Cheese']\n",
    "\n",
    "finished_sandwiches = []\n",
    "\n",
    "flag = True\n",
    "\n",
    "while flag:\n",
    "    for i in sandwich_orders:\n",
    "        print(f\"I made your {i} sandwich\")\n",
    "        finished_sandwiches.append(i)\n",
    "        sandwich_orders.pop(0)\n",
    "\n",
    "        \n",
    "        if sandwich_orders == []:\n",
    "            flag = False\n",
    "            \n",
    "#print(sandwich_orders)            \n",
    "for i in finished_sandwiches:\n",
    "    print('------------------------------')\n",
    "    print(f\"All done with your {i} sandwich\")"
   ]
  },
  {
   "cell_type": "markdown",
   "id": "637ebf56",
   "metadata": {},
   "source": [
    "# 7-9. No Pastrami: \n",
    "\n",
    "Using the list sandwich_orders from Exercise 7-8, make sure\n",
    "the sandwich 'pastrami' appears in the list at least three times. Add code\n",
    "near the beginning of your program to print a message saying the deli has\n",
    "run out of pastrami, and then use a while loop to remove all occurrences of\n",
    "'pastrami' from sandwich_orders. Make sure no pastrami sandwiches end up\n",
    "in finished_sandwiches."
   ]
  },
  {
   "cell_type": "code",
   "execution_count": 27,
   "id": "423825e9",
   "metadata": {},
   "outputs": [
    {
     "name": "stdout",
     "output_type": "stream",
     "text": [
      "['pastrami', 'Chicken Sandwich', 'Egg Sandwich', 'pastrami', 'Seafood Sandwich', 'Roast Beef Sandwich', 'Grilled Cheese', 'pastrami']\n"
     ]
    }
   ],
   "source": [
    "sandwich_order = ['Chicken Sandwich','Egg Sandwich','Seafood Sandwich','Roast Beef Sandwich','Grilled Cheese']\n",
    "sandwich_order.insert(0,'pastrami')\n",
    "sandwich_order.insert(3,'pastrami')\n",
    "sandwich_order.append('pastrami')\n",
    "print(sandwich_order)"
   ]
  },
  {
   "cell_type": "code",
   "execution_count": 28,
   "id": "41ced466",
   "metadata": {},
   "outputs": [
    {
     "name": "stdout",
     "output_type": "stream",
     "text": [
      "deli has run out of pastrami!\n"
     ]
    }
   ],
   "source": [
    "print('deli has run out of pastrami!')"
   ]
  },
  {
   "cell_type": "code",
   "execution_count": 29,
   "id": "7cea8b80",
   "metadata": {},
   "outputs": [],
   "source": [
    "finished_sandwich = []"
   ]
  },
  {
   "cell_type": "code",
   "execution_count": 30,
   "id": "d15c894e",
   "metadata": {},
   "outputs": [],
   "source": [
    "count = 0\n",
    "\n",
    "while count == 0:\n",
    "    for i in sandwich_order:\n",
    "        if i != 'pastrami':\n",
    "            finished_sandwich.append(i)\n",
    "            count =+1\n",
    "        else:\n",
    "            pass"
   ]
  },
  {
   "cell_type": "code",
   "execution_count": 31,
   "id": "e81d7123",
   "metadata": {},
   "outputs": [
    {
     "name": "stdout",
     "output_type": "stream",
     "text": [
      "------------------------------\n",
      "['Chicken Sandwich', 'Egg Sandwich', 'Seafood Sandwich', 'Roast Beef Sandwich', 'Grilled Cheese']\n"
     ]
    }
   ],
   "source": [
    "print('------------------------------')\n",
    "print(finished_sandwich)"
   ]
  },
  {
   "cell_type": "code",
   "execution_count": 32,
   "id": "11435d23",
   "metadata": {},
   "outputs": [
    {
     "data": {
      "text/plain": [
       "['Chicken Sandwich',\n",
       " 'Egg Sandwich',\n",
       " 'Seafood Sandwich',\n",
       " 'Roast Beef Sandwich',\n",
       " 'Grilled Cheese']"
      ]
     },
     "execution_count": 32,
     "metadata": {},
     "output_type": "execute_result"
    }
   ],
   "source": [
    "finished_sandwich"
   ]
  },
  {
   "cell_type": "markdown",
   "id": "1a7f237b",
   "metadata": {},
   "source": [
    "# 7-10. Dream Vacation: \n",
    "\n",
    "Write a program that polls users about their dream\n",
    "vacation. Write a prompt similar to If you could visit one place in the world,\n",
    "where would you go? Include a block of code that prints the results of the poll."
   ]
  },
  {
   "cell_type": "code",
   "execution_count": 33,
   "id": "dce69b07",
   "metadata": {},
   "outputs": [
    {
     "name": "stdout",
     "output_type": "stream",
     "text": [
      "\n",
      "What is your name? Abdullah Jaffrey\n",
      "If you could visit one place in the world, where would you go to? Makkah\n",
      "Would you like to let another person respond? (yes/ no) yes\n",
      "\n",
      "What is your name? Noah\n",
      "If you could visit one place in the world, where would you go to? Karachi\n",
      "Would you like to let another person respond? (yes/ no) no\n",
      "\n",
      "--- Poll Results ---\n",
      "Abdullah Jaffrey would like to go to: Makkah.\n",
      "Noah would like to go to: Karachi.\n"
     ]
    }
   ],
   "source": [
    "responses = {}\n",
    "\n",
    "polling_active = True\n",
    "while polling_active:\n",
    "    name = input(\"\\nWhat is your name? \")\n",
    "    response = input(\"If you could visit one place in the world, where would you go to? \")\n",
    "    responses[name] = response\n",
    "    repeat = input(\"Would you like to let another person respond? (yes/ no) \")\n",
    "\n",
    "    if repeat == 'no':\n",
    "        polling_active = False\n",
    "\n",
    "print(\"\\n--- Poll Results ---\")\n",
    "for name, response in responses.items():\n",
    "    print(name + \" would like to go to: \" + response + \".\")"
   ]
  },
  {
   "cell_type": "code",
   "execution_count": 34,
   "id": "1652815e",
   "metadata": {},
   "outputs": [],
   "source": [
    "#Done"
   ]
  }
 ],
 "metadata": {
  "kernelspec": {
   "display_name": "Python 3 (ipykernel)",
   "language": "python",
   "name": "python3"
  },
  "language_info": {
   "codemirror_mode": {
    "name": "ipython",
    "version": 3
   },
   "file_extension": ".py",
   "mimetype": "text/x-python",
   "name": "python",
   "nbconvert_exporter": "python",
   "pygments_lexer": "ipython3",
   "version": "3.9.7"
  },
  "vscode": {
   "interpreter": {
    "hash": "c347c8f9a7ef94e4c9e03b4513be7835ed18f45b99a2a817fb579f408b867b16"
   }
  }
 },
 "nbformat": 4,
 "nbformat_minor": 5
}
