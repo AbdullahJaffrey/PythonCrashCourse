{
 "cells": [
  {
   "cell_type": "markdown",
   "id": "512d0c76",
   "metadata": {},
   "source": [
    "# Chapter1:"
   ]
  },
  {
   "cell_type": "markdown",
   "id": "d61785ad",
   "metadata": {},
   "source": [
    "This chapter dealt with the historical background of python and its version used till now. Furthermore, we then discussed using different types of editor and ide's for python."
   ]
  },
  {
   "cell_type": "markdown",
   "id": "20caeb88",
   "metadata": {},
   "source": [
    "### Why Python:\n",
    "    \n",
    "Python is dynamically-typed and garbage-collected. It supports multiple programming paradigms, including structured (particularly procedural), object-oriented and functional programming. It is often described as a \"batteries included\" language due to its comprehensive standard library."
   ]
  },
  {
   "cell_type": "markdown",
   "id": "6c028eb8",
   "metadata": {},
   "source": [
    "### Historical background of Python:\n",
    "\n",
    "Guido van Rossum began working on Python in the late 1980s as a successor to the ABC programming language and first released it in 1991 as Python 0.9.0.\n"
   ]
  },
  {
   "cell_type": "markdown",
   "id": "a74358ed",
   "metadata": {},
   "source": [
    "### Python 2 vs Python 3"
   ]
  },
  {
   "cell_type": "markdown",
   "id": "498f3c04",
   "metadata": {},
   "source": [
    "Python 2.0 \n",
    "was released in 2000 and introduced new features such as list comprehensions, cycle-detecting garbage collection, reference counting, and Unicode support!. Python 2 was discontinued with version 2.7.18 in 2020.\n"
   ]
  },
  {
   "cell_type": "raw",
   "id": "1635f9a6",
   "metadata": {},
   "source": [
    "print \"Hello world\""
   ]
  },
  {
   "cell_type": "markdown",
   "id": "54b62674",
   "metadata": {},
   "source": [
    "Python 3.0 was released in 2008, was a major revision that is not completely backward-compatible with earlier versions."
   ]
  },
  {
   "cell_type": "raw",
   "id": "dbf27e06",
   "metadata": {},
   "source": [
    "print(\"Hello world\")"
   ]
  },
  {
   "cell_type": "markdown",
   "id": "9984dc5a",
   "metadata": {},
   "source": [
    "##### Checking Your Version of Python 2:\n",
    "$ python (Linux)\n",
    "C:\\> python (Windows)\n"
   ]
  },
  {
   "cell_type": "markdown",
   "id": "8a9529f1",
   "metadata": {},
   "source": [
    "#### Checking Your Version of Python 3:\n",
    "$ python3 (Linux)\n",
    "C:\\> python (Windows)\n"
   ]
  },
  {
   "cell_type": "markdown",
   "id": "232be1b3",
   "metadata": {},
   "source": [
    "........................................"
   ]
  },
  {
   "cell_type": "markdown",
   "id": "59f6c35c",
   "metadata": {},
   "source": [
    "# Chapter2:\n",
    "\n",
    "Since Python 2 has been discontinued, so we will use Python 3 for our course."
   ]
  },
  {
   "cell_type": "markdown",
   "id": "062cb3f1",
   "metadata": {},
   "source": [
    "#### Checking installed version of Python:"
   ]
  },
  {
   "cell_type": "code",
   "execution_count": 1,
   "id": "b743a658",
   "metadata": {},
   "outputs": [
    {
     "name": "stdout",
     "output_type": "stream",
     "text": [
      "3.9.7 (default, Sep 16 2021, 16:59:28) [MSC v.1916 64 bit (AMD64)]\n"
     ]
    }
   ],
   "source": [
    "import sys\n",
    "print(sys.version)"
   ]
  },
  {
   "cell_type": "markdown",
   "id": "e1b232f2",
   "metadata": {},
   "source": [
    "#### How to print hello world:"
   ]
  },
  {
   "cell_type": "code",
   "execution_count": 2,
   "id": "f67ecfb6",
   "metadata": {},
   "outputs": [
    {
     "name": "stdout",
     "output_type": "stream",
     "text": [
      "Hello world\n"
     ]
    }
   ],
   "source": [
    "print(\"Hello world\")"
   ]
  },
  {
   "cell_type": "markdown",
   "id": "acb2fbdd",
   "metadata": {},
   "source": [
    "#### How to create a variable in python:"
   ]
  },
  {
   "cell_type": "code",
   "execution_count": 3,
   "id": "8f2a0dd2",
   "metadata": {},
   "outputs": [],
   "source": [
    "a = \"Hello Folks, I am Abdullah\""
   ]
  },
  {
   "cell_type": "markdown",
   "id": "6e876bd1",
   "metadata": {},
   "source": [
    "##### we will print this to check either the variable is created or not."
   ]
  },
  {
   "cell_type": "code",
   "execution_count": 4,
   "id": "72770329",
   "metadata": {},
   "outputs": [
    {
     "name": "stdout",
     "output_type": "stream",
     "text": [
      "Hello Folks, I am Abdullah\n"
     ]
    }
   ],
   "source": [
    "print(a)"
   ]
  },
  {
   "cell_type": "markdown",
   "id": "2c3034e3",
   "metadata": {},
   "source": [
    "#### Var Names to avoid in Python3:"
   ]
  },
  {
   "cell_type": "markdown",
   "id": "a5231a46",
   "metadata": {},
   "source": [
    "A variable name must start with a letter or the underscore character"
   ]
  },
  {
   "cell_type": "raw",
   "id": "8c7f54fb",
   "metadata": {},
   "source": [
    "cb = \"Hello Folks, I am Abdullah\"\n",
    "print(cb)✓\n",
    "\n",
    "\n",
    "_cb = \"Hello Folks, I am Abdullah\"\n",
    "print(_cb)✓\n"
   ]
  },
  {
   "cell_type": "markdown",
   "id": "30297e8e",
   "metadata": {},
   "source": [
    "A variable name cannot start with a number"
   ]
  },
  {
   "cell_type": "raw",
   "id": "3a869a8d",
   "metadata": {},
   "source": [
    "1cb = \"Hello Folks, I am Abdullah\"\n",
    "print(1cb)X"
   ]
  },
  {
   "cell_type": "markdown",
   "id": "8a241fcc",
   "metadata": {},
   "source": [
    "A variable name can only contain alpha-numeric characters and underscores (A-z, 0-9, and _ )"
   ]
  },
  {
   "cell_type": "markdown",
   "id": "fbac707c",
   "metadata": {},
   "source": [
    "Variable names are case-sensitive (age, Age and AGE are three different variables)"
   ]
  },
  {
   "cell_type": "markdown",
   "id": "629d313f",
   "metadata": {},
   "source": [
    "Variable name cannot be on any function, any statement or any attribute name."
   ]
  },
  {
   "cell_type": "raw",
   "id": "9a240f87",
   "metadata": {},
   "source": [
    "def = \"Hello Folks, I am Abdullah\"\n",
    "print(def)X\n",
    "\n",
    "if = \"Hello Folks, I am Abdullah\"\n",
    "print(if)X\n",
    "\n",
    "\n",
    "class = \"Hello Folks, I am Abdullah\"\n",
    "print(class)X"
   ]
  },
  {
   "cell_type": "markdown",
   "id": "d6f8d95d",
   "metadata": {},
   "source": [
    "### Try It Yourself:\n",
    "    \n",
    "Write a separate program to accomplish each of these exercises. Save\n",
    "each program with a filename that follows standard Python conventions,\n",
    "using lowercase letters and underscores, such as simple_message.py and\n",
    "simple_messages.py.\n",
    "\n",
    "2-1. Simple Message: Store a message in a variable, and then print that\n",
    "message.\n",
    "\n",
    "2-2. Simple Messages: Store a message in a variable, and print that message.\n",
    "Then change the value of your variable to a new message, and print the new\n",
    "message."
   ]
  },
  {
   "cell_type": "code",
   "execution_count": 5,
   "id": "627e2974",
   "metadata": {},
   "outputs": [
    {
     "name": "stdout",
     "output_type": "stream",
     "text": [
      "Hello Folks\n",
      "Hello there\n"
     ]
    }
   ],
   "source": [
    "#2.1:\n",
    "\n",
    "hello = 'Hello Folks'\n",
    "\n",
    "print(hello)\n",
    "\n",
    "\n",
    "#2.2 \n",
    "\n",
    "\n",
    "hello = 'Hello there'\n",
    "\n",
    "print(hello)\n",
    "\n"
   ]
  },
  {
   "cell_type": "markdown",
   "id": "8245422c",
   "metadata": {},
   "source": [
    "#### Character:\n",
    "\n",
    "A single word use for symbols\n",
    "\n",
    "a,b,c,...,z\n",
    "A,B,C,..,Z"
   ]
  },
  {
   "cell_type": "markdown",
   "id": "6b2e9804",
   "metadata": {},
   "source": [
    "#### Strings:\n",
    "\n",
    "Set of characters wrapped inside single, double, or triple quotes. Included as one of the data type in Python3.\n",
    "\n",
    "OR\n",
    "\n",
    "Strings are the 'set of characters merged together to form a word'.\n",
    "\n",
    "\n",
    "'Python'\n",
    "\n",
    "\n",
    "\"Python\"\n",
    "\n",
    "''' \n",
    "P\n",
    "y\n",
    "t\n",
    "h\n",
    "o\n",
    "n\n",
    "'''"
   ]
  },
  {
   "cell_type": "markdown",
   "id": "3235b580",
   "metadata": {},
   "source": [
    "#### Changing Case in a String with Methods:\n"
   ]
  },
  {
   "cell_type": "code",
   "execution_count": 6,
   "id": "c9e17865",
   "metadata": {},
   "outputs": [
    {
     "data": {
      "text/plain": [
       "'Python'"
      ]
     },
     "execution_count": 6,
     "metadata": {},
     "output_type": "execute_result"
    }
   ],
   "source": [
    "string = \"python\"\n",
    "\n",
    "string.title()"
   ]
  },
  {
   "cell_type": "code",
   "execution_count": 7,
   "id": "5ff3d922",
   "metadata": {},
   "outputs": [
    {
     "data": {
      "text/plain": [
       "'Python'"
      ]
     },
     "execution_count": 7,
     "metadata": {},
     "output_type": "execute_result"
    }
   ],
   "source": [
    "string = \"python\"\n",
    "\n",
    "string.capitalize()"
   ]
  },
  {
   "cell_type": "code",
   "execution_count": 8,
   "id": "1bb8fa62",
   "metadata": {},
   "outputs": [
    {
     "data": {
      "text/plain": [
       "'PYTHON'"
      ]
     },
     "execution_count": 8,
     "metadata": {},
     "output_type": "execute_result"
    }
   ],
   "source": [
    "string = \"python\"\n",
    "\n",
    "string.upper()"
   ]
  },
  {
   "cell_type": "code",
   "execution_count": 9,
   "id": "bb1341a6",
   "metadata": {},
   "outputs": [
    {
     "data": {
      "text/plain": [
       "'python'"
      ]
     },
     "execution_count": 9,
     "metadata": {},
     "output_type": "execute_result"
    }
   ],
   "source": [
    "string = \"python\"\n",
    "\n",
    "string.lower()"
   ]
  },
  {
   "cell_type": "markdown",
   "id": "ebf514f7",
   "metadata": {},
   "source": [
    "### Combining or Concatenating Strings\n"
   ]
  },
  {
   "cell_type": "code",
   "execution_count": 10,
   "id": "737b9c84",
   "metadata": {},
   "outputs": [
    {
     "name": "stdout",
     "output_type": "stream",
     "text": [
      "helloworld\n"
     ]
    }
   ],
   "source": [
    "string1 = \"hello\"\n",
    "string2 = \"world\"\n",
    "\n",
    "print(string1 + string2)"
   ]
  },
  {
   "cell_type": "markdown",
   "id": "4d628555",
   "metadata": {},
   "source": [
    "### Adding Whitespace to Strings with Tabs or Newlines\n"
   ]
  },
  {
   "cell_type": "code",
   "execution_count": 11,
   "id": "71740953",
   "metadata": {},
   "outputs": [
    {
     "name": "stdout",
     "output_type": "stream",
     "text": [
      "Hello \t Python\n"
     ]
    }
   ],
   "source": [
    "#for Tabs\n",
    "print(\"Hello \\t Python\")"
   ]
  },
  {
   "cell_type": "code",
   "execution_count": 12,
   "id": "be0f0f1c",
   "metadata": {},
   "outputs": [
    {
     "name": "stdout",
     "output_type": "stream",
     "text": [
      "Hello \n",
      " Python\n"
     ]
    }
   ],
   "source": [
    "#for Newlines\n",
    "\n",
    "print('Hello \\n Python')"
   ]
  },
  {
   "cell_type": "markdown",
   "id": "d4d10483",
   "metadata": {},
   "source": [
    "### Stripping Whitespace\n",
    "Used to remove extra spaces from start and specially from the end."
   ]
  },
  {
   "cell_type": "code",
   "execution_count": 13,
   "id": "24161783",
   "metadata": {},
   "outputs": [
    {
     "name": "stdout",
     "output_type": "stream",
     "text": [
      "Hello world.\n"
     ]
    }
   ],
   "source": [
    "STRING = \"\"\"Hello world. \"\"\"\n",
    "print(STRING.rstrip())"
   ]
  },
  {
   "cell_type": "markdown",
   "id": "c9a9e5b8",
   "metadata": {},
   "source": [
    "### Avoiding Syntax Errors with Strings:\n",
    "\n",
    "\n",
    "'my name is 'Abdullah' '\n",
    "\n",
    "\"my name is \"Abdullah\" \"\n",
    "\n",
    "'my name is 'Abdullah' '\n",
    "\n",
    "''' my name is 'Abdullah' '''\n",
    "\n",
    "\"\"\"my name is \"\"\" \"\"\"\"Abdullah\"\"\"\"\n"
   ]
  },
  {
   "cell_type": "markdown",
   "id": "61d5e98f",
   "metadata": {},
   "source": [
    "### Try It Yourself\n",
    "\n",
    "Save each of the following exercises as a separate file with a name like\n",
    "name_cases.py. If you get stuck, take a break or see the suggestions in\n",
    "Appendix C.\n",
    "\n",
    "\n",
    "2-3. Personal Message: Store a person’s name in a variable, and print a message to that person. Your message should be simple, such as, “Hello Eric,\n",
    "would you like to learn some Python today?”\n",
    "\n",
    "\n",
    "2-4. Name Cases: Store a person’s name in a variable, and then print that person’s name in lowercase, uppercase, and titlecase.\n",
    "\n",
    "\n",
    "2-5. Famous Quote: Find a quote from a famous person you admire. Print the quote and the name of its author. Your output should look something like the following, including the quotation marks:\n",
    "Albert Einstein once said, “A person who never made a mistake never tried anything new.”\n",
    "\n",
    "\n",
    "2-6. Famous Quote 2: Repeat Exercise 2-5, but this time store the famous person’s name in a variable called famous_person. Then compose your message and store it in a new variable called message. Print your message.\n",
    "\n",
    "2-7. Stripping Names: Store a person’s name, and include some whitespace\n",
    "characters at the beginning and end of the name. Make sure you use each\n",
    "character combination, \"\\t\" and \"\\n\", at least once.\n",
    "Print the name once, so the whitespace around the name is displayed.\n",
    "Then print the name using each of the three stripping functions, lstrip(),\n",
    "rstrip(), and strip()."
   ]
  },
  {
   "cell_type": "raw",
   "id": "13ca1435",
   "metadata": {},
   "source": [
    "#2.3:\n",
    "name = \"Learner\"\n",
    "print(f\"Hello {name} , would you like to learn some Python today?\")\n",
    "\n",
    "#2.4:\n",
    "\n",
    "#lower:\n",
    "name = \"Learner\"\n",
    "print(f\"Hello {name.lower()}\")\n",
    "\n",
    "#upper:\n",
    "name = \"Learner\"\n",
    "print(f\"Hello {name.upper()}\")\n",
    "\n",
    "\n",
    "#title:\n",
    "name = \"Learner\"\n",
    "print(f\"Hello {name.title()}\")\n",
    "\n",
    "\n",
    "\n",
    "#2.5:\n",
    "\n",
    "author = \"Albert Einstein\"\n",
    "\n",
    "print(f\"{author} once said, “A person who never made a mistake never tried anything new.”\")\n",
    "\n",
    "#2.6:\n",
    "\n",
    "famous_person = \"Albert Einstein\"\n",
    "\n",
    "message  = \"“A person who never made a mistake never tried anything new.”\"\n",
    "\n",
    "print(f\"{famous_person} once said, {message}\")\n",
    "\n",
    "\n",
    "#2.7:\n",
    "\n",
    "Quote = print(f\"\"\" \"\\t\"{famous_person} \"\\n\" once said, {message}\"\"\")\n",
    "print(Quote)\n",
    "\n",
    "quote_lstrip = Quote\n",
    "print(quote_lstrip.lstrip())\n",
    "\n",
    "quote_strip = Quote\n",
    "print(quote_strip.strip())\n",
    "\n",
    "quote_rstrip = Quote\n",
    "print(quote_rstrip.rstrip())\n",
    "\n",
    "\n"
   ]
  },
  {
   "cell_type": "markdown",
   "id": "13dd7ab1",
   "metadata": {},
   "source": [
    "### Numbers:\n",
    "\n",
    "mathematical representation\n",
    "\n",
    "Types:\n",
    "\n",
    "* Int : 1, 2, 3, 4 and much more.\n",
    "\n",
    "* Float : 0.5, 1.5 and much more. "
   ]
  },
  {
   "cell_type": "code",
   "execution_count": 14,
   "id": "339ef5ba",
   "metadata": {},
   "outputs": [
    {
     "name": "stdout",
     "output_type": "stream",
     "text": [
      "Hi, I am Noah and i'm 1.5 years old.\n"
     ]
    }
   ],
   "source": [
    "name = 'Noah'\n",
    "age  = str(1.5)\n",
    "\n",
    "print(\"Hi, I am \"+ name + \" and i'm \" + age + \" years old.\")"
   ]
  },
  {
   "cell_type": "markdown",
   "id": "e7b902ad",
   "metadata": {},
   "source": [
    "### Try It Yourself\n",
    "\n",
    "2-8. Number Eight: Write addition, subtraction, multiplication, and division\n",
    "operations that each result in the number 8. Be sure to enclose your operations\n",
    "in print statements to see the results. You should create four lines that look\n",
    "like this:\n",
    "\n",
    "print(5 + 3)\n",
    "\n",
    "Your output should simply be four lines with the number 8 appearing once\n",
    "on each line.\n",
    "\n",
    "\n",
    "2-9. Favorite Number: Store your favorite number in a variable. Then, using\n",
    "that variable, create a message that reveals your favorite number. Print that\n",
    "message"
   ]
  },
  {
   "cell_type": "code",
   "execution_count": 15,
   "id": "2a94dd09",
   "metadata": {},
   "outputs": [
    {
     "name": "stdout",
     "output_type": "stream",
     "text": [
      "8\n",
      "8\n",
      "8\n",
      "8.0\n",
      "My favorite number is 7\n"
     ]
    }
   ],
   "source": [
    "#2.8:\n",
    "\n",
    "print(5+3)\n",
    "print(9-1)\n",
    "print(4*2)\n",
    "print(16/2)\n",
    "\n",
    "favorite_number = 7\n",
    "message = \"My favorite number is \" + str(favorite_number)\n",
    "print(message)"
   ]
  },
  {
   "cell_type": "markdown",
   "id": "1ee249a4",
   "metadata": {},
   "source": [
    "### Comments:\n",
    "\n",
    "Comments allows you to write notes in English within your programs.\n",
    "\n",
    "#this is single line comment\n",
    "\n",
    "\n",
    "\"\"\" this is a multi line comment \"\"\" "
   ]
  },
  {
   "cell_type": "markdown",
   "id": "9f0afab0",
   "metadata": {},
   "source": [
    "### Try It Yourself\n",
    "\n",
    "2-10. Adding Comments: \n",
    "\n",
    "Choose two of the programs you’ve written, and\n",
    "add at least one comment to each. If you don’t have anything specific to write\n",
    "because your programs are too simple at this point, just add your name and\n",
    "the current date at the top of each program file. Then write one sentence\n",
    "describing what the program does."
   ]
  },
  {
   "cell_type": "code",
   "execution_count": 16,
   "id": "d6c48604",
   "metadata": {},
   "outputs": [
    {
     "name": "stdout",
     "output_type": "stream",
     "text": [
      "hello world \n",
      "bye world\n"
     ]
    }
   ],
   "source": [
    "#comment 1 : printing hello world\n",
    "\n",
    "print(\"hello world \")\n",
    "\n",
    "\n",
    "#comment 2 : print bye world\n",
    "\n",
    "print('bye world')"
   ]
  },
  {
   "cell_type": "markdown",
   "id": "687b87df",
   "metadata": {},
   "source": [
    "### The Zen of Python:\n",
    "\n",
    "The Zen of Python is a collection of 19 \"guiding principles\" for writing computer programs that influence the design of the Python programming language.\n"
   ]
  },
  {
   "cell_type": "raw",
   "id": "ffb59da2",
   "metadata": {},
   "source": [
    "import this\n",
    "\n",
    "# But I just can't resist putting The Zen of Python in here anyway.\n",
    "\n",
    "\n",
    "\n",
    "\"\"\"\n",
    "\n",
    "The Zen of Python, by Tim Peters\n",
    "\n",
    "Beautiful is better than ugly.\n",
    "\n",
    "Explicit is better than implicit.\n",
    "\n",
    "Simple is better than complex.\n",
    "\n",
    "Complex is better than complicated.\n",
    "\n",
    "Flat is better than nested.\n",
    "\n",
    "Sparse is better than dense.\n",
    "\n",
    "Readability counts.\n",
    "\n",
    "Special cases aren't special enough to break the rules.\n",
    "\n",
    "Although practicality beats purity.\n",
    "\n",
    "Errors should never pass silently.\n",
    "\n",
    "Unless explicitly silenced.\n",
    "\n",
    "In the face of ambiguity, refuse the temptation to guess.\n",
    "\n",
    "There should be one-- and preferably only one --obvious way to do it.\n",
    "\n",
    "Although that way may not be obvious at first unless you're Dutch.\n",
    "\n",
    "Now is better than never.\n",
    "\n",
    "Although never is often better than *right* now.\n",
    "\n",
    "If the implementation is hard to explain, it's a bad idea.\n",
    "\n",
    "If the implementation is easy to explain, it may be a good idea.\n",
    "\n",
    "Namespaces are one honking great idea -- let's do more of those!\n",
    "\n",
    "\n",
    "\"\"\"\n",
    "\n",
    "\n",
    "\"\"\"\n",
    "\n",
    "If you are wondering what this is about, the Zen of Python is basically a set of rules Python programmers should try to follow. But, keep in mind that this is **TOTALLY OPTIONAL**.\n",
    "\n",
    "\"\"\""
   ]
  },
  {
   "cell_type": "code",
   "execution_count": 17,
   "id": "2149702f",
   "metadata": {},
   "outputs": [
    {
     "name": "stdout",
     "output_type": "stream",
     "text": [
      "The Zen of Python, by Tim Peters\n",
      "\n",
      "Beautiful is better than ugly.\n",
      "Explicit is better than implicit.\n",
      "Simple is better than complex.\n",
      "Complex is better than complicated.\n",
      "Flat is better than nested.\n",
      "Sparse is better than dense.\n",
      "Readability counts.\n",
      "Special cases aren't special enough to break the rules.\n",
      "Although practicality beats purity.\n",
      "Errors should never pass silently.\n",
      "Unless explicitly silenced.\n",
      "In the face of ambiguity, refuse the temptation to guess.\n",
      "There should be one-- and preferably only one --obvious way to do it.\n",
      "Although that way may not be obvious at first unless you're Dutch.\n",
      "Now is better than never.\n",
      "Although never is often better than *right* now.\n",
      "If the implementation is hard to explain, it's a bad idea.\n",
      "If the implementation is easy to explain, it may be a good idea.\n",
      "Namespaces are one honking great idea -- let's do more of those!\n",
      "<module 'this' from 'C:\\\\ProgramData\\\\Anaconda3\\\\lib\\\\this.py'>\n"
     ]
    }
   ],
   "source": [
    "import this\n",
    "print(this)"
   ]
  }
 ],
 "metadata": {
  "kernelspec": {
   "display_name": "Python 3 (ipykernel)",
   "language": "python",
   "name": "python3"
  },
  "language_info": {
   "codemirror_mode": {
    "name": "ipython",
    "version": 3
   },
   "file_extension": ".py",
   "mimetype": "text/x-python",
   "name": "python",
   "nbconvert_exporter": "python",
   "pygments_lexer": "ipython3",
   "version": "3.9.7"
  }
 },
 "nbformat": 4,
 "nbformat_minor": 5
}
