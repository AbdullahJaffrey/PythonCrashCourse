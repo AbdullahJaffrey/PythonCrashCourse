{
 "cells": [
  {
   "cell_type": "markdown",
   "id": "07082001",
   "metadata": {},
   "source": [
    "# Dictionary\n",
    "Dictionaries are used to store data values in key:value pairs.\n",
    "\n",
    "A dictionary is a collection which is ordered*, changeable and do not allow duplicates."
   ]
  },
  {
   "cell_type": "markdown",
   "id": "534fd0f5",
   "metadata": {},
   "source": [
    "### A Simple Dictionary\n"
   ]
  },
  {
   "cell_type": "code",
   "execution_count": 1,
   "id": "ee4d0d2a",
   "metadata": {},
   "outputs": [
    {
     "name": "stdout",
     "output_type": "stream",
     "text": [
      "green\n",
      "5\n"
     ]
    }
   ],
   "source": [
    "#Working with Dictionaries\n",
    "alien_0 = {'color': 'green', 'points': 5}\n",
    "\n",
    "#Accessing Values in a Dictionary\n",
    "print(alien_0['color'])\n",
    "print(alien_0['points'])"
   ]
  },
  {
   "cell_type": "code",
   "execution_count": 2,
   "id": "cd3ce979",
   "metadata": {},
   "outputs": [
    {
     "name": "stdout",
     "output_type": "stream",
     "text": [
      "You just earned 5 points!\n"
     ]
    }
   ],
   "source": [
    "alien_0 = {'color': 'green', 'points': 5}\n",
    "new_points = alien_0['points']\n",
    "print(\"You just earned \" + str(new_points) + \" points!\")"
   ]
  },
  {
   "cell_type": "markdown",
   "id": "372fe440",
   "metadata": {},
   "source": [
    "### Adding New Key-Value Pairs\n"
   ]
  },
  {
   "cell_type": "code",
   "execution_count": 3,
   "id": "f9ba0be1",
   "metadata": {},
   "outputs": [
    {
     "name": "stdout",
     "output_type": "stream",
     "text": [
      "{'color': 'green', 'points': 5, 'x_position': 0, 'y_position': 25}\n"
     ]
    }
   ],
   "source": [
    "alien_0['x_position'] = 0\n",
    "alien_0['y_position'] = 25\n",
    "print(alien_0)"
   ]
  },
  {
   "cell_type": "markdown",
   "id": "dc284489",
   "metadata": {},
   "source": [
    "### Starting with an Empty Dictionary\n"
   ]
  },
  {
   "cell_type": "code",
   "execution_count": 4,
   "id": "3867a87e",
   "metadata": {},
   "outputs": [
    {
     "name": "stdout",
     "output_type": "stream",
     "text": [
      "{}\n",
      "{'color': 'red', 'points': 15}\n"
     ]
    }
   ],
   "source": [
    "alien_1 = {}\n",
    "print(alien_1)\n",
    "alien_1['color'] = 'red'\n",
    "alien_1['points'] = 15\n",
    "print(alien_1)"
   ]
  },
  {
   "cell_type": "markdown",
   "id": "b4e8df82",
   "metadata": {},
   "source": [
    "### Removing Key-Value Pairs"
   ]
  },
  {
   "cell_type": "code",
   "execution_count": 5,
   "id": "59a3135c",
   "metadata": {},
   "outputs": [
    {
     "name": "stdout",
     "output_type": "stream",
     "text": [
      "{'color': 'red', 'points': 15}\n",
      "{'color': 'red'}\n"
     ]
    }
   ],
   "source": [
    "print(alien_1)\n",
    "\n",
    "del alien_1['points']\n",
    "\n",
    "print(alien_1)"
   ]
  },
  {
   "cell_type": "markdown",
   "id": "ee960c4c",
   "metadata": {},
   "source": [
    "### A Dictionary of Similar Objects"
   ]
  },
  {
   "cell_type": "code",
   "execution_count": 6,
   "id": "c70e3923",
   "metadata": {},
   "outputs": [
    {
     "name": "stdout",
     "output_type": "stream",
     "text": [
      "Sarah's favorite language is C.\n"
     ]
    }
   ],
   "source": [
    "favorite_languages = {\n",
    "'jen': 'python',\n",
    " 'sarah': 'c',\n",
    " 'edward': 'ruby',\n",
    " 'phil': 'python',\n",
    " }\n",
    "\n",
    "print(\"Sarah's favorite language is \" + favorite_languages['sarah'].title() + \".\")"
   ]
  },
  {
   "cell_type": "markdown",
   "id": "c106551f",
   "metadata": {},
   "source": [
    "### Modifying Values in a Dictionary \n"
   ]
  },
  {
   "cell_type": "code",
   "execution_count": 7,
   "id": "827f0621",
   "metadata": {},
   "outputs": [
    {
     "name": "stdout",
     "output_type": "stream",
     "text": [
      "Sarah's favorite language is Js.\n"
     ]
    }
   ],
   "source": [
    "favorite_languages = {\n",
    "'jen': 'python',\n",
    " 'sarah': 'c',\n",
    " 'edward': 'ruby',\n",
    " 'phil': 'python',\n",
    " }\n",
    "\n",
    "favorite_languages['sarah'] = 'js'\n",
    "print(\"Sarah's favorite language is \" + favorite_languages['sarah'].title() + \".\")"
   ]
  },
  {
   "cell_type": "markdown",
   "id": "eea0fa27",
   "metadata": {},
   "source": [
    "# Try It Yourself\n",
    "\n",
    "6-1. Person: \n",
    "    \n",
    "Use a dictionary to store information about a person you know.\n",
    "Store their first name, last name, age, and the city in which they live. You\n",
    "should have keys such as first_name, last_name, age, and city. Print each\n",
    "piece of information stored in your dictionary."
   ]
  },
  {
   "cell_type": "code",
   "execution_count": 8,
   "id": "e9895f25",
   "metadata": {},
   "outputs": [
    {
     "name": "stdout",
     "output_type": "stream",
     "text": [
      "Noah\n",
      "Hussain\n",
      "1.5\n",
      "stockholm\n"
     ]
    }
   ],
   "source": [
    "person1 = {'first_name':'Noah', 'last_name':'Hussain', 'age':1.5, 'city':'stockholm'}\n",
    "print(person1['first_name'])\n",
    "print(person1['last_name'])\n",
    "print(person1['age'])\n",
    "print(person1['city'])"
   ]
  },
  {
   "cell_type": "markdown",
   "id": "9c9e6614",
   "metadata": {},
   "source": [
    "#\n",
    "6-2. Favorite Numbers: \n",
    "    \n",
    "Use a dictionary to store people’s favorite numbers.\n",
    "Think of five names, and use them as keys in your dictionary. Think of a favorite\n",
    "number for each person, and store each as a value in your dictionary. Print\n",
    "each person’s name and their favorite number. For even more fun, poll a few\n",
    "friends and get some actual data for your program."
   ]
  },
  {
   "cell_type": "code",
   "execution_count": 9,
   "id": "d71b5dfa",
   "metadata": {},
   "outputs": [
    {
     "name": "stdout",
     "output_type": "stream",
     "text": [
      "20\n",
      "13\n",
      "20\n",
      "7\n",
      "2\n"
     ]
    }
   ],
   "source": [
    "favorite_numbers = {'Noah':'20', 'Abdullah':'20', 'Jibrael':'13','Jasmin':'7','Esra':'2'}\n",
    "print(favorite_numbers['Noah'])\n",
    "print(favorite_numbers['Jibrael'])\n",
    "print(favorite_numbers['Abdullah'])\n",
    "print(favorite_numbers['Jasmin'])\n",
    "print(favorite_numbers['Esra'])"
   ]
  },
  {
   "cell_type": "markdown",
   "id": "aeda84fd",
   "metadata": {},
   "source": [
    "#\n",
    "6-3. Glossary: \n",
    "    \n",
    "A Python dictionary can be used to model an actual dictionary.\n",
    "However, to avoid confusion, let’s call it a glossary.\n",
    "\n",
    "•\t Think of five programming words you’ve learned about in the previous\n",
    "chapters. Use these words as the keys in your glossary, and store their\n",
    "meanings as values.\n",
    "\n",
    "•\t Print each word and its meaning as neatly formatted output. You might\n",
    "print the word followed by a colon and then its meaning, or print the word\n",
    "on one line and then print its meaning indented on a second line. Use the\n",
    "newline character (\\n) to insert a blank line between each word-meaning\n",
    "pair in your output."
   ]
  },
  {
   "cell_type": "code",
   "execution_count": 10,
   "id": "8353427e",
   "metadata": {},
   "outputs": [
    {
     "name": "stdout",
     "output_type": "stream",
     "text": [
      "Python is a programming language. \n",
      "\n",
      "Jupyter Notebook is a type of Integrated Development Environment \n",
      "\n",
      "An if statement runs a block of code based on whether or not a condition is true. \n",
      "\n",
      "Dictionaries are used to store data values in key:value pairs. \n",
      "\n",
      "For loops allow you to run a block of code repeatedly. \n",
      "\n"
     ]
    }
   ],
   "source": [
    "programming_words = {\n",
    "    'python':'Python is a programming language.',\n",
    "    'dict':'Dictionaries are used to store data values in key:value pairs.',\n",
    "    'if':'An if statement runs a block of code based on whether or not a condition is true.',\n",
    "    'jupyter notebook':'Jupyter Notebook is a type of Integrated Development Environment',\n",
    "    'for':'For loops allow you to run a block of code repeatedly.'\n",
    "\n",
    "}\n",
    "\n",
    "print(f\"{programming_words['python'] } \\n\")\n",
    "print(f\"{programming_words['jupyter notebook']} \\n\")\n",
    "print(f\"{programming_words['if']} \\n\")\n",
    "print(f\"{programming_words['dict']} \\n\")\n",
    "print(f\"{programming_words['for']} \\n\")"
   ]
  },
  {
   "cell_type": "markdown",
   "id": "73bdf6c6",
   "metadata": {},
   "source": [
    "### Looping Through a Dictionary\n",
    "\n",
    "#### Looping Through All Key-Value Pairs\n"
   ]
  },
  {
   "cell_type": "code",
   "execution_count": 11,
   "id": "5121c269",
   "metadata": {},
   "outputs": [
    {
     "name": "stdout",
     "output_type": "stream",
     "text": [
      "\n",
      "Key: username\n",
      "Value: Noah Hussain\n",
      "\n",
      "Key: first\n",
      "Value: Noah\n",
      "\n",
      "Key: last\n",
      "Value: Hussain\n"
     ]
    }
   ],
   "source": [
    "user_0 = {\n",
    " 'username': 'Noah Hussain',\n",
    " 'first': 'Noah',\n",
    " 'last': 'Hussain',\n",
    " }\n",
    "\n",
    "for key, value in user_0.items():\n",
    "    print(\"\\nKey: \" + key)\n",
    "    print(\"Value: \" + value)"
   ]
  },
  {
   "cell_type": "code",
   "execution_count": 12,
   "id": "2f198dd7",
   "metadata": {},
   "outputs": [
    {
     "name": "stdout",
     "output_type": "stream",
     "text": [
      "Jen's favorite language is Python.\n",
      "Sarah's favorite language is C.\n",
      "Edward's favorite language is Ruby.\n",
      "Phil's favorite language is Python.\n"
     ]
    }
   ],
   "source": [
    "favorite_languages = {\n",
    "'jen': 'python',\n",
    " 'sarah': 'c',\n",
    " 'edward': 'ruby',\n",
    " 'phil': 'python',\n",
    " }\n",
    "for name, language in favorite_languages.items():\n",
    "    print(name.title() + \"'s favorite language is \" + language.title() + \".\")"
   ]
  },
  {
   "cell_type": "markdown",
   "id": "2f6d94ea",
   "metadata": {},
   "source": [
    "### Looping Through All the Keys in a Dictionary"
   ]
  },
  {
   "cell_type": "code",
   "execution_count": 13,
   "id": "37d8e16b",
   "metadata": {},
   "outputs": [
    {
     "name": "stdout",
     "output_type": "stream",
     "text": [
      "Jen\n",
      "Sarah\n",
      "Edward\n",
      "Phil\n"
     ]
    }
   ],
   "source": [
    "favorite_languages = {\n",
    " \n",
    "    'jen': 'python',\n",
    "    'sarah': 'c',\n",
    "    'edward': 'ruby',\n",
    "    'phil': 'python',\n",
    "}\n",
    "\n",
    "for name in favorite_languages.keys():\n",
    "    print(name.title())"
   ]
  },
  {
   "cell_type": "code",
   "execution_count": 14,
   "id": "956dee54",
   "metadata": {},
   "outputs": [
    {
     "name": "stdout",
     "output_type": "stream",
     "text": [
      "Jen\n",
      "Sarah\n",
      " Hi Sarah, I see your favorite language is C!\n",
      "Edward\n",
      "Phil\n",
      " Hi Phil, I see your favorite language is Python!\n"
     ]
    }
   ],
   "source": [
    "favorite_languages = {\n",
    " 'jen': 'python',\n",
    " 'sarah': 'c',\n",
    " 'edward': 'ruby',\n",
    " 'phil': 'python',\n",
    "}\n",
    "\n",
    "friends = ['phil', 'sarah']\n",
    "\n",
    "for name in favorite_languages.keys():\n",
    "    print(name.title())\n",
    "    \n",
    "    if name in friends:\n",
    "        print(\" Hi \" + name.title() + \", I see your favorite language is \" + favorite_languages[name].title() + \"!\")"
   ]
  },
  {
   "cell_type": "code",
   "execution_count": 15,
   "id": "7ea2806b",
   "metadata": {},
   "outputs": [
    {
     "name": "stdout",
     "output_type": "stream",
     "text": [
      "Erin, please take our poll!\n"
     ]
    }
   ],
   "source": [
    "favorite_languages = {\n",
    " \n",
    "    'jen': 'python',\n",
    "    'sarah': 'c',\n",
    "    'edward': 'ruby', \n",
    "    'phil': 'python',\n",
    "}\n",
    "\n",
    "if 'erin' not in favorite_languages.keys():\n",
    "    print(\"Erin, please take our poll!\")"
   ]
  },
  {
   "cell_type": "markdown",
   "id": "470b2f23",
   "metadata": {},
   "source": [
    "### Looping Through a Dictionary’s Keys in Order\n"
   ]
  },
  {
   "cell_type": "code",
   "execution_count": 16,
   "id": "4c351b93",
   "metadata": {},
   "outputs": [
    {
     "name": "stdout",
     "output_type": "stream",
     "text": [
      "Edward, thank you for taking the poll.\n",
      "Jen, thank you for taking the poll.\n",
      "Phil, thank you for taking the poll.\n",
      "Sarah, thank you for taking the poll.\n"
     ]
    }
   ],
   "source": [
    "favorite_languages = {\n",
    " 'jen': 'python',\n",
    " 'sarah': 'c',\n",
    " 'edward': 'ruby',\n",
    " 'phil': 'python',\n",
    "}\n",
    "\n",
    "for name in sorted(favorite_languages.keys()):\n",
    "    print(name.title() + \", thank you for taking the poll.\")"
   ]
  },
  {
   "cell_type": "markdown",
   "id": "15efbfca",
   "metadata": {},
   "source": [
    "### Looping Through All Values in a Dictionary"
   ]
  },
  {
   "cell_type": "code",
   "execution_count": 17,
   "id": "fc90ae35",
   "metadata": {},
   "outputs": [
    {
     "name": "stdout",
     "output_type": "stream",
     "text": [
      "The following languages have been mentioned:\n",
      "Python\n",
      "C\n",
      "Ruby\n",
      "Python\n"
     ]
    }
   ],
   "source": [
    "favorite_languages = {\n",
    " 'jen': 'python',\n",
    " 'sarah': 'c',\n",
    " 'edward': 'ruby',\n",
    " 'phil': 'python',\n",
    "\n",
    "}\n",
    "\n",
    "print(\"The following languages have been mentioned:\")\n",
    "for language in favorite_languages.values():\n",
    "    print(language.title())"
   ]
  },
  {
   "cell_type": "code",
   "execution_count": 18,
   "id": "80f9cc5e",
   "metadata": {},
   "outputs": [
    {
     "name": "stdout",
     "output_type": "stream",
     "text": [
      "The following languages have been mentioned:\n",
      "Python\n",
      "Ruby\n",
      "C\n"
     ]
    }
   ],
   "source": [
    "favorite_languages = {\n",
    " 'jen': 'python',\n",
    " 'sarah': 'c',\n",
    " 'edward': 'ruby',\n",
    " 'phil': 'python',\n",
    "}\n",
    "print(\"The following languages have been mentioned:\")\n",
    "for language in set(favorite_languages.values()):\n",
    "    print(language.title())"
   ]
  },
  {
   "cell_type": "markdown",
   "id": "63cbbdc9",
   "metadata": {},
   "source": [
    "# Try It Yourself\n",
    "\n",
    "### 6-4. Glossary 2: \n",
    "\n",
    "Now that you know how to loop through a dictionary, clean\n",
    "up the code from Exercise 6-3 by replacing your series of print\n",
    "statements with a loop that runs through the dictionary’s keys and values.\n",
    "When you’re sure that your loop works, add five more Python terms to your\n",
    "glossary. When you run your program again, these new words and meanings\n",
    "should automatically be included in the output."
   ]
  },
  {
   "cell_type": "code",
   "execution_count": 19,
   "id": "4545d52c",
   "metadata": {},
   "outputs": [
    {
     "name": "stdout",
     "output_type": "stream",
     "text": [
      "Python : Python is a programming language.\n",
      "Dict : Dictionaries are used to store data values in key:value pairs.\n",
      "If : An if statement runs a block of code based on whether or not a condition is true.\n",
      "Jupyter Notebook : Jupyter Notebook is a type of Integrated Development Environment\n",
      "For : For loops allow you to run a block of code repeatedly.\n"
     ]
    }
   ],
   "source": [
    "programming_words = {\n",
    "    'python':'Python is a programming language.',\n",
    "    'dict':'Dictionaries are used to store data values in key:value pairs.',\n",
    "    'if':'An if statement runs a block of code based on whether or not a condition is true.',\n",
    "    'jupyter notebook':'Jupyter Notebook is a type of Integrated Development Environment',\n",
    "    'for':'For loops allow you to run a block of code repeatedly.'\n",
    "\n",
    "}\n",
    "\n",
    "for keys, values in programming_words.items():\n",
    "    print(f\"{keys.title()} : {values}\")"
   ]
  },
  {
   "cell_type": "code",
   "execution_count": 20,
   "id": "e8274770",
   "metadata": {},
   "outputs": [
    {
     "name": "stdout",
     "output_type": "stream",
     "text": [
      "Python : Python is a programming language.\n",
      "Dict : Dictionaries are used to store data values in key:value pairs.\n",
      "If : An if statement runs a block of code based on whether or not a condition is true.\n",
      "Jupyter Notebook : Jupyter Notebook is a type of Integrated Development Environment\n",
      "For : For loops allow you to run a block of code repeatedly.\n",
      "Bug : A bug is a general term used to denote an unexpected error or defect in hardware or software, which causes it to malfunction\n",
      "Char : Character (char) is a display unit of information equal to one alphabetic letter or symbol.\n",
      "Object : An object is a combination of related variables, constants and other data structures which can be selected and manipulated together.\n",
      "Class :  A class refers to a set of related objects with common properties.\n",
      "Conditionals : help the code make a choice and result in either TRUE or FALSE. \n"
     ]
    }
   ],
   "source": [
    "programming_words['Bug'] = 'A bug is a general term used to denote an unexpected error or defect in hardware or software, which causes it to malfunction'\n",
    "programming_words['Char'] = 'Character (char) is a display unit of information equal to one alphabetic letter or symbol.'\n",
    "programming_words['Object'] = 'An object is a combination of related variables, constants and other data structures which can be selected and manipulated together.'\n",
    "programming_words['Class'] = ' A class refers to a set of related objects with common properties.'\n",
    "programming_words['Conditionals'] = 'help the code make a choice and result in either TRUE or FALSE. '\n",
    "\n",
    "for keys, values in programming_words.items():\n",
    "    print(f\"{keys.title()} : {values}\")"
   ]
  },
  {
   "cell_type": "markdown",
   "id": "c6ab845e",
   "metadata": {},
   "source": [
    "### 6-5. Rivers: \n",
    "\n",
    "Make a dictionary containing three major rivers and the country\n",
    "each river runs through. One key-value pair might be 'nile': 'egypt'.\n",
    "\n",
    "•\t Use a loop to print a sentence about each river, such as The Nile runs\n",
    "through Egypt.\n",
    "\n",
    "•\t Use a loop to print the name of each river included in the dictionary.\n",
    "\n",
    "•\t Use a loop to print the name of each country included in the dictionary."
   ]
  },
  {
   "cell_type": "code",
   "execution_count": 21,
   "id": "a18b399c",
   "metadata": {},
   "outputs": [
    {
     "name": "stdout",
     "output_type": "stream",
     "text": [
      "The Nile runs through Egypt.\n",
      "The Indus runs through Pakistan.\n",
      "The Amazon runs through Brazil.\n",
      "\n",
      " Rivers:\n",
      "Nile\n",
      "Indus\n",
      "Amazon\n",
      "\n",
      " Countries:\n",
      "Egypt\n",
      "Pakistan\n",
      "Brazil\n"
     ]
    }
   ],
   "source": [
    "rivers = {\n",
    "    'Nile': 'Egypt',\n",
    "    'Indus' : 'Pakistan',\n",
    "    'Amazon': 'Brazil'    \n",
    "}\n",
    "\n",
    "for keys, values in rivers.items():\n",
    "    print(f'The {keys} runs through {values}.')\n",
    "    \n",
    "print('\\n Rivers:')\n",
    "for keys in rivers.keys():\n",
    "    print(keys)\n",
    "\n",
    "print('\\n Countries:')\n",
    "for values in rivers.values():\n",
    "    print(values)"
   ]
  },
  {
   "cell_type": "markdown",
   "id": "1dd5a5ff",
   "metadata": {},
   "source": [
    "### 6-6. Polling: \n",
    "    \n",
    "Use the code in favorite_languages.\n",
    "\n",
    "•\t Make a list of people who should take the favorite languages poll. Include\n",
    "some names that are already in the dictionary and some that are not.\n",
    "\n",
    "•\t Loop through the list of people who should take the poll. If they have\n",
    "already taken the poll, print a message thanking them for responding.\n",
    "If they have not yet taken the poll, print a message inviting them to take\n",
    "the poll."
   ]
  },
  {
   "cell_type": "code",
   "execution_count": 22,
   "id": "0dbca27c",
   "metadata": {},
   "outputs": [
    {
     "name": "stdout",
     "output_type": "stream",
     "text": [
      "Jen, thank you for taking the poll.\n",
      "Sarah, thank you for taking the poll.\n",
      "Edward, thank you for taking the poll.\n",
      "Phil, thank you for taking the poll.\n"
     ]
    },
    {
     "ename": "NameError",
     "evalue": "name 'i' is not defined",
     "output_type": "error",
     "traceback": [
      "\u001b[1;31m---------------------------------------------------------------------------\u001b[0m",
      "\u001b[1;31mNameError\u001b[0m                                 Traceback (most recent call last)",
      "\u001b[1;32m~\\AppData\\Local\\Temp/ipykernel_6000/3512315297.py\u001b[0m in \u001b[0;36m<module>\u001b[1;34m\u001b[0m\n\u001b[0;32m     11\u001b[0m \u001b[1;33m\u001b[0m\u001b[0m\n\u001b[0;32m     12\u001b[0m \u001b[0mnew\u001b[0m \u001b[1;33m=\u001b[0m \u001b[1;33m[\u001b[0m\u001b[1;34m'paula'\u001b[0m\u001b[1;33m,\u001b[0m\u001b[1;34m'anastasia'\u001b[0m\u001b[1;33m]\u001b[0m\u001b[1;33m\u001b[0m\u001b[1;33m\u001b[0m\u001b[0m\n\u001b[1;32m---> 13\u001b[1;33m \u001b[1;32mif\u001b[0m \u001b[0mnew\u001b[0m\u001b[1;33m[\u001b[0m\u001b[0mi\u001b[0m\u001b[1;33m]\u001b[0m \u001b[1;32mor\u001b[0m \u001b[0mnew\u001b[0m\u001b[1;33m[\u001b[0m\u001b[0mi\u001b[0m\u001b[1;33m+\u001b[0m\u001b[1;36m1\u001b[0m\u001b[1;33m]\u001b[0m \u001b[1;32mnot\u001b[0m \u001b[1;32min\u001b[0m \u001b[0mfavorite_languages\u001b[0m\u001b[1;33m:\u001b[0m\u001b[1;33m\u001b[0m\u001b[1;33m\u001b[0m\u001b[0m\n\u001b[0m\u001b[0;32m     14\u001b[0m         \u001b[0mprint\u001b[0m\u001b[1;33m(\u001b[0m\u001b[1;34mf\" {new[i].title()}, please take our poll!\"\u001b[0m\u001b[1;33m)\u001b[0m\u001b[1;33m\u001b[0m\u001b[1;33m\u001b[0m\u001b[0m\n\u001b[0;32m     15\u001b[0m         \u001b[0mprint\u001b[0m\u001b[1;33m(\u001b[0m\u001b[1;34mf\" {new[i+1].title()}, please take our poll!\"\u001b[0m\u001b[1;33m)\u001b[0m\u001b[1;33m\u001b[0m\u001b[1;33m\u001b[0m\u001b[0m\n",
      "\u001b[1;31mNameError\u001b[0m: name 'i' is not defined"
     ]
    }
   ],
   "source": [
    "favorite_languages = {\n",
    " \n",
    "    'jen': 'python',\n",
    "    'sarah': 'c',\n",
    "    'edward': 'ruby', \n",
    "    'phil': 'python',\n",
    "}\n",
    "\n",
    "for name in favorite_languages.keys():\n",
    "    print(name.title() + \", thank you for taking the poll.\")\n",
    "    \n",
    "new = ['paula','anastasia']\n",
    "if new[i] or new[i+1] not in favorite_languages:\n",
    "        print(f\" {new[i].title()}, please take our poll!\")\n",
    "        print(f\" {new[i+1].title()}, please take our poll!\")"
   ]
  },
  {
   "cell_type": "markdown",
   "id": "001011c2",
   "metadata": {},
   "source": [
    "# Nesting:\n",
    "\n",
    "### A List of Dictionaries"
   ]
  },
  {
   "cell_type": "code",
   "execution_count": 23,
   "id": "06f668ce",
   "metadata": {},
   "outputs": [
    {
     "name": "stdout",
     "output_type": "stream",
     "text": [
      "{'color': 'green', 'points': 5}\n",
      "{'color': 'yellow', 'points': 10}\n",
      "{'color': 'red', 'points': 15}\n"
     ]
    }
   ],
   "source": [
    "alien_0 = {'color': 'green', 'points': 5}\n",
    "alien_1 = {'color': 'yellow', 'points': 10}\n",
    "alien_2 = {'color': 'red', 'points': 15}\n",
    "aliens = [alien_0, alien_1, alien_2]\n",
    "for alien in aliens:\n",
    "    print(alien)"
   ]
  },
  {
   "cell_type": "code",
   "execution_count": 24,
   "id": "e00225f6",
   "metadata": {},
   "outputs": [
    {
     "name": "stdout",
     "output_type": "stream",
     "text": [
      "{'color': 'yellow', 'points': 10, 'speed': 'medium'}\n",
      "{'color': 'yellow', 'points': 10, 'speed': 'medium'}\n",
      "{'color': 'yellow', 'points': 10, 'speed': 'medium'}\n",
      "{'color': 'green', 'points': 5, 'speed': 'slow'}\n",
      "{'color': 'green', 'points': 5, 'speed': 'slow'}\n",
      "{'color': 'green', 'points': 5, 'speed': 'slow'}\n",
      "{'color': 'green', 'points': 5, 'speed': 'slow'}\n",
      "{'color': 'green', 'points': 5, 'speed': 'slow'}\n",
      "{'color': 'green', 'points': 5, 'speed': 'slow'}\n",
      "{'color': 'green', 'points': 5, 'speed': 'slow'}\n",
      "{'color': 'green', 'points': 5, 'speed': 'slow'}\n",
      "{'color': 'green', 'points': 5, 'speed': 'slow'}\n",
      "{'color': 'green', 'points': 5, 'speed': 'slow'}\n",
      "{'color': 'green', 'points': 5, 'speed': 'slow'}\n",
      "{'color': 'green', 'points': 5, 'speed': 'slow'}\n",
      "...\n",
      "Total number of aliens: 30\n"
     ]
    }
   ],
   "source": [
    "# Make an empty list for storing aliens.\n",
    "aliens = []\n",
    "\n",
    "# Make 30 green aliens.\n",
    "for alien_number in range (0,30):\n",
    "    new_alien = {'color': 'green', 'points': 5, 'speed': 'slow'}\n",
    "    aliens.append(new_alien)\n",
    "\n",
    "for alien in aliens[0:3]:\n",
    "    if alien['color'] == 'green':\n",
    "        alien['color'] = 'yellow'\n",
    "        alien['points'] = 10\n",
    "        alien['speed'] = 'medium'\n",
    "        \n",
    "    elif alien['color'] == 'yellow':\n",
    "        alien['color'] = 'red'\n",
    "        alien['points'] = 15\n",
    "        alien['speed'] = 'fast'\n",
    "\n",
    "# Show the first 5 aliens:\n",
    "for alien in aliens[0:15]:\n",
    "    print(alien)\n",
    "print(\"...\")\n",
    "\n",
    "# Show how many aliens have been created.\n",
    "print(\"Total number of aliens: \" + str(len(aliens)))"
   ]
  },
  {
   "cell_type": "markdown",
   "id": "f97bedaf",
   "metadata": {},
   "source": [
    "### A List in a Dictionary"
   ]
  },
  {
   "cell_type": "code",
   "execution_count": 25,
   "id": "4a66c97c",
   "metadata": {},
   "outputs": [
    {
     "name": "stdout",
     "output_type": "stream",
     "text": [
      "You ordered a thick-crust pizza with the following toppings:\n",
      "\tmushrooms\n",
      "\textra cheese\n"
     ]
    }
   ],
   "source": [
    "pizza = {\n",
    " 'crust': 'thick',\n",
    " 'toppings': ['mushrooms', 'extra cheese'],\n",
    "}\n",
    "\n",
    "# Summarize the order.\n",
    "print(\"You ordered a \" + pizza['crust'] + \"-crust pizza \" + \"with the following toppings:\")\n",
    "\n",
    "\n",
    "for topping in pizza['toppings']:\n",
    "    print(\"\\t\" + topping)"
   ]
  },
  {
   "cell_type": "code",
   "execution_count": 26,
   "id": "d6c338cc",
   "metadata": {},
   "outputs": [
    {
     "name": "stdout",
     "output_type": "stream",
     "text": [
      "\n",
      "Jen's favorite languages are:\n",
      "\tPython\n",
      "\tRuby\n",
      "\n",
      "Sarah's favorite languages are:\n",
      "\tC\n",
      "\n",
      "Edward's favorite languages are:\n",
      "\tRuby\n",
      "\tGo\n",
      "\n",
      "Phil's favorite languages are:\n",
      "\tPython\n",
      "\tHaskell\n"
     ]
    }
   ],
   "source": [
    "favorite_languages = {\n",
    " \n",
    "    'jen': ['python', 'ruby'],\n",
    "    'sarah': ['c'],\n",
    "    'edward': ['ruby', 'go'],\n",
    "    'phil': ['python', 'haskell'],\n",
    "}\n",
    "\n",
    "for name, languages in favorite_languages.items():\n",
    "    print(\"\\n\" + name.title() + \"'s favorite languages are:\")\n",
    "    for language in languages:\n",
    "        print(\"\\t\" + language.title())"
   ]
  },
  {
   "cell_type": "markdown",
   "id": "4ab4cb6b",
   "metadata": {},
   "source": [
    "### A Dictionary in a Dictionary:"
   ]
  },
  {
   "cell_type": "code",
   "execution_count": 27,
   "id": "dac33cfd",
   "metadata": {},
   "outputs": [
    {
     "name": "stdout",
     "output_type": "stream",
     "text": [
      "\n",
      "Username: aeinstein\n",
      "\tFull name: Albert Einstein\n",
      "\tLocation: Princeton\n",
      "\n",
      "Username: mcurie\n",
      "\tFull name: Marie Curie\n",
      "\tLocation: Paris\n"
     ]
    }
   ],
   "source": [
    "users = {\n",
    " 'aeinstein': {\n",
    "     \n",
    "     'first': 'albert',\n",
    "     'last': 'einstein',\n",
    "     'location': 'princeton',\n",
    "\n",
    " },\n",
    "    \n",
    " 'mcurie': {\n",
    " \n",
    "     'first': 'marie',\n",
    "     'last': 'curie',\n",
    "     'location': 'paris',\n",
    " }\n",
    "}\n",
    "\n",
    "\n",
    "for username, user_info in users.items():\n",
    "    \n",
    "    print(\"\\nUsername: \" + username)\n",
    "    full_name = user_info['first'] + \" \" + user_info['last']\n",
    "    location = user_info['location']\n",
    "    \n",
    "    \n",
    "    print(\"\\tFull name: \" + full_name.title())\n",
    "    print(\"\\tLocation: \" + location.title())"
   ]
  },
  {
   "cell_type": "markdown",
   "id": "7bb7bb98",
   "metadata": {},
   "source": [
    "# Try It Yourself:\n",
    "\n",
    "\n",
    "### 6-7. People: \n",
    "\n",
    "Start with the program you wrote for Exercise 6-1.\n",
    "Make two new dictionaries representing different people, and store all three\n",
    "dictionaries in a list called people. Loop through your list of people. As you\n",
    "loop through the list, print everything you know about each person."
   ]
  },
  {
   "cell_type": "code",
   "execution_count": 28,
   "id": "c45a37d8",
   "metadata": {},
   "outputs": [],
   "source": [
    "person1 = {'first_name':'Noah', 'last_name':'Hussain', 'age':1.5, 'city':'stockholm'}\n",
    "\n",
    "people = {\n",
    "    \n",
    "    'Noah': person1,\n",
    "    'Abdullah':\n",
    "    {'first_name':'Abdullah', 'last_name':'Jaffrey', 'age':23, 'city':'karachi'},\n",
    "    'Jibrael':\n",
    "    {'first_name':'Jibrael', 'last_name':'Jaffrey', 'age':2, 'city':'sydney'}\n",
    "    \n",
    "}"
   ]
  },
  {
   "cell_type": "code",
   "execution_count": 29,
   "id": "3e0f64af",
   "metadata": {},
   "outputs": [
    {
     "name": "stdout",
     "output_type": "stream",
     "text": [
      "Noah\n",
      "('first_name', 'Noah')\n",
      "('last_name', 'Hussain')\n",
      "('age', 1.5)\n",
      "('city', 'stockholm')\n",
      "Abdullah\n",
      "('first_name', 'Abdullah')\n",
      "('last_name', 'Jaffrey')\n",
      "('age', 23)\n",
      "('city', 'karachi')\n",
      "Jibrael\n",
      "('first_name', 'Jibrael')\n",
      "('last_name', 'Jaffrey')\n",
      "('age', 2)\n",
      "('city', 'sydney')\n"
     ]
    }
   ],
   "source": [
    "for i in people:\n",
    "    print(i)\n",
    "    for j in people[i].items():\n",
    "        print(j)"
   ]
  },
  {
   "cell_type": "markdown",
   "id": "cf8ec2d7",
   "metadata": {},
   "source": [
    "### 6-8. Pets: \n",
    "    \n",
    "Make several dictionaries, where the name of each dictionary is the\n",
    "name of a pet. In each dictionary, include the kind of animal and the owner’s\n",
    "name. Store these dictionaries in a list called pets. Next, loop through your list\n",
    "and as you do print everything you know about each pet."
   ]
  },
  {
   "cell_type": "code",
   "execution_count": 30,
   "id": "b116cf96",
   "metadata": {},
   "outputs": [
    {
     "name": "stdout",
     "output_type": "stream",
     "text": [
      "Lucy\n",
      "\n",
      " * ('pet_kind', 'Persian Cat') \n",
      "\n",
      "\n",
      " * ('owner_name', 'Victoria') \n",
      "\n",
      "Thomas\n",
      "\n",
      " * ('pet_kind', 'Husky dog') \n",
      "\n",
      "\n",
      " * ('owner_name', 'Patricia') \n",
      "\n",
      "Steve\n",
      "\n",
      " * ('pet_kind', 'Ragdoll cat') \n",
      "\n",
      "\n",
      " * ('owner_name', 'Patrick') \n",
      "\n"
     ]
    }
   ],
   "source": [
    "pets = {\n",
    "    \n",
    "    'Lucy':{\n",
    "        \n",
    "        'pet_kind':'Persian Cat',\n",
    "        'owner_name':'Victoria',\n",
    "        \n",
    "    },\n",
    "    \n",
    "    'Thomas':{\n",
    "        \n",
    "        'pet_kind':'Husky dog',\n",
    "        'owner_name':'Patricia',\n",
    "        \n",
    "    },\n",
    "    \n",
    "    'Steve':{\n",
    "        \n",
    "        'pet_kind':'Ragdoll cat',\n",
    "        'owner_name':'Patrick',\n",
    "        \n",
    "    }\n",
    "}\n",
    "\n",
    "for i in pets:\n",
    "    print(i)\n",
    "    for j in pets[i].items():\n",
    "        print(f\"\\n * {j} \\n\")\n"
   ]
  },
  {
   "cell_type": "markdown",
   "id": "02f470f8",
   "metadata": {},
   "source": [
    "### 6-9. Favorite Places: \n",
    "\n",
    "Make a dictionary called favorite_places. Think of three\n",
    "names to use as keys in the dictionary, and store one to three favorite places\n",
    "for each person. To make this exercise a bit more interesting, ask some friends\n",
    "to name a few of their favorite places. Loop through the dictionary, and print\n",
    "each person’s name and their favorite places."
   ]
  },
  {
   "cell_type": "code",
   "execution_count": 31,
   "id": "03ce7f3b",
   "metadata": {},
   "outputs": [
    {
     "name": "stdout",
     "output_type": "stream",
     "text": [
      "Hi! I am Noah, these are my favorite places to visit: \n",
      "\n",
      " * Vasaparken Park \n",
      "\n",
      "\n",
      " * Vasa Museum \n",
      "\n",
      "\n",
      " * Skansen Aquarium \n",
      "\n",
      "Hi! I am Abdullah, these are my favorite places to visit: \n",
      "\n",
      " * Hill Park \n",
      "\n",
      "\n",
      " * Pakistan Maritime Museum \n",
      "\n",
      "\n",
      " * Dan Zoo \n",
      "\n",
      "Hi! I am Jibrael, these are my favorite places to visit: \n",
      "\n",
      " * Sydney Park \n",
      "\n",
      "\n",
      " * Museum of Sydney \n",
      "\n",
      "\n",
      " * Sydney Zoo \n",
      "\n"
     ]
    }
   ],
   "source": [
    "favorite_places = {\n",
    "    \n",
    "    'Noah':{\n",
    "        \n",
    "        'Park':'Vasaparken Park',\n",
    "        'Museum':'Vasa Museum',\n",
    "        'Zoo':'Skansen Aquarium'\n",
    "        \n",
    "    },\n",
    "    \n",
    "    'Abdullah':{\n",
    "        \n",
    "        'Park':'Hill Park',\n",
    "        'Museum':'Pakistan Maritime Museum',\n",
    "        'Zoo':'Dan Zoo'\n",
    "        \n",
    "    },\n",
    "    \n",
    "    'Jibrael':{\n",
    "        \n",
    "        'Park':'Sydney Park',\n",
    "        'Museum':'Museum of Sydney',\n",
    "        'Zoo':'Sydney Zoo'\n",
    "        \n",
    "    }\n",
    "}\n",
    "\n",
    "for i in favorite_places:\n",
    "    print(f\"Hi! I am {i}, these are my favorite places to visit: \")\n",
    "    for j in favorite_places[i].values():\n",
    "        print(f\"\\n * {j} \\n\")\n"
   ]
  },
  {
   "cell_type": "markdown",
   "id": "f133d35e",
   "metadata": {},
   "source": [
    "### 6-10. Favorite Numbers: \n",
    "\n",
    "Modify your program from Exercise 6-2 so\n",
    "each person can have more than one favorite number. Then print each person’s\n",
    "name along with their favorite numbers"
   ]
  },
  {
   "cell_type": "code",
   "execution_count": 32,
   "id": "4bd79ef3",
   "metadata": {},
   "outputs": [
    {
     "name": "stdout",
     "output_type": "stream",
     "text": [
      "Noah\n",
      "20 \n",
      "\n",
      "24 \n",
      "\n",
      "Abdullah\n",
      "20 \n",
      "\n",
      "40 \n",
      "\n",
      "Jibrael\n",
      "13 \n",
      "\n",
      "22 \n",
      "\n",
      "Jasmin\n",
      "7 \n",
      "\n",
      "12 \n",
      "\n",
      "Esra\n",
      "2 \n",
      "\n",
      "1 \n",
      "\n"
     ]
    }
   ],
   "source": [
    "favorite_numbers = {\n",
    "    \n",
    "    'Noah':{\n",
    "    \n",
    "        1 : 20,\n",
    "        2 : 24\n",
    "    },\n",
    "     \n",
    "    'Abdullah':{\n",
    "    \n",
    "        1 : 20,\n",
    "        2 : 40\n",
    "    },\n",
    "    \n",
    "    'Jibrael':{\n",
    "    \n",
    "        1 : 13,\n",
    "        2 : 22\n",
    "    },\n",
    "    \n",
    "    'Jasmin':{\n",
    "    \n",
    "        1 : 7,\n",
    "        2 : 12\n",
    "    },\n",
    "    \n",
    "    'Esra':{\n",
    "    \n",
    "        1 : 2,\n",
    "        2 : 1\n",
    "    }\n",
    "    \n",
    "}\n",
    "\n",
    "\n",
    "for i in favorite_numbers:\n",
    "    print(i)\n",
    "    for j in favorite_numbers[i].values():\n",
    "        print(f'{j} \\n')"
   ]
  },
  {
   "cell_type": "markdown",
   "id": "a1d293fc",
   "metadata": {},
   "source": [
    "### 6-11. Cities: \n",
    "\n",
    "Make a dictionary called cities. Use the names of three cities as\n",
    "keys in your dictionary. Create a dictionary of information about each city and\n",
    "include the country that the city is in, its approximate population, and one fact\n",
    "about that city. The keys for each city’s dictionary should be something like\n",
    "country, population, and fact. Print the name of each city and all of the information you have stored about it."
   ]
  },
  {
   "cell_type": "code",
   "execution_count": 33,
   "id": "f87540fd",
   "metadata": {},
   "outputs": [
    {
     "name": "stdout",
     "output_type": "stream",
     "text": [
      "Karachi\n",
      " \n",
      " * Pakistan \n",
      "\n",
      " \n",
      " * 16.459 million \n",
      "\n",
      " \n",
      " * City of lights \n",
      "\n",
      "Sydney\n",
      " \n",
      " * Australia \n",
      "\n",
      " \n",
      " * 5.312 million \n",
      "\n",
      " \n",
      " * City of harbour \n",
      "\n",
      "Stockholm\n",
      " \n",
      " * Sweden \n",
      "\n",
      " \n",
      " * 0.978 million \n",
      "\n",
      " \n",
      " * Venice of the north \n",
      "\n"
     ]
    }
   ],
   "source": [
    "cities = {\n",
    "    \n",
    "    'Karachi':{\n",
    "        \n",
    "        'Country':'Pakistan',\n",
    "        'Population':'16.459 million',\n",
    "        'Fact':'City of lights'\n",
    "    },\n",
    "    \n",
    "    \n",
    "    'Sydney':{\n",
    "        \n",
    "        'Country':'Australia',\n",
    "        'Population':'5.312 million',\n",
    "        'Fact':'City of harbour'\n",
    "    },\n",
    "    \n",
    "     'Stockholm':{\n",
    "        \n",
    "        'Country':'Sweden',\n",
    "        'Population':'0.978 million',\n",
    "        'Fact':'Venice of the north'\n",
    "    }\n",
    "}\n",
    "\n",
    "for i in cities:\n",
    "    print(i)\n",
    "    for j in cities[i].values():\n",
    "        print(f' \\n * {j} \\n')"
   ]
  },
  {
   "cell_type": "markdown",
   "id": "e0ca7aa2",
   "metadata": {},
   "source": [
    "### 6-12. Extensions: \n",
    "\n",
    "We’re now working with examples that are complex enough\n",
    "that they can be extended in any number of ways. Use one of the example programs from this chapter, and extend it by adding new keys and values, changing the context of the program or improving the formatting of the output."
   ]
  },
  {
   "cell_type": "code",
   "execution_count": 34,
   "id": "88715d7c",
   "metadata": {},
   "outputs": [
    {
     "name": "stdout",
     "output_type": "stream",
     "text": [
      "Karachi\n",
      " \n",
      " * Pakistan \n",
      "\n",
      " \n",
      " * 16.459 million \n",
      "\n",
      " \n",
      " * City of lights \n",
      "\n",
      "Sydney\n",
      " \n",
      " * Australia \n",
      "\n",
      " \n",
      " * 5.312 million \n",
      "\n",
      " \n",
      " * City of harbour \n",
      "\n",
      "Stockholm\n",
      " \n",
      " * Sweden \n",
      "\n",
      " \n",
      " * 0.978 million \n",
      "\n",
      " \n",
      " * Venice of the north \n",
      "\n",
      "Tallinn\n",
      " \n",
      " * Estonia \n",
      "\n",
      " \n",
      " * 0.426  million \n",
      "\n",
      " \n",
      " * City of revel \n",
      "\n"
     ]
    }
   ],
   "source": [
    "cities['Tallinn'] = {\n",
    "        'Country':'Estonia',\n",
    "        'Population':'0.426  million',\n",
    "        'Fact':'City of revel'\n",
    "}\n",
    "\n",
    "for i in cities:\n",
    "    print(i)\n",
    "    for j in cities[i].values():\n",
    "        print(f' \\n * {j} \\n')"
   ]
  },
  {
   "cell_type": "code",
   "execution_count": 35,
   "id": "10dc1310",
   "metadata": {},
   "outputs": [],
   "source": [
    "#Done"
   ]
  }
 ],
 "metadata": {
  "kernelspec": {
   "display_name": "Python 3 (ipykernel)",
   "language": "python",
   "name": "python3"
  },
  "language_info": {
   "codemirror_mode": {
    "name": "ipython",
    "version": 3
   },
   "file_extension": ".py",
   "mimetype": "text/x-python",
   "name": "python",
   "nbconvert_exporter": "python",
   "pygments_lexer": "ipython3",
   "version": "3.9.7"
  }
 },
 "nbformat": 4,
 "nbformat_minor": 5
}
